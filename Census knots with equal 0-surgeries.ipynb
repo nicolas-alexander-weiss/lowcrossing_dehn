{
 "cells": [
  {
   "cell_type": "markdown",
   "metadata": {},
   "source": [
    "We classify all census knots that share the same 0-surgery. (Here the 0-surgery is measured with respect to the Seifert framing.)"
   ]
  },
  {
   "cell_type": "code",
   "execution_count": 1,
   "metadata": {},
   "outputs": [],
   "source": [
    "import snappy\n",
    "import time\n",
    "import csv"
   ]
  },
  {
   "cell_type": "markdown",
   "metadata": {},
   "source": [
    "First, we sort the knots into groups with the same Alexander polynomials."
   ]
  },
  {
   "cell_type": "code",
   "execution_count": 2,
   "metadata": {},
   "outputs": [
    {
     "name": "stdout",
     "output_type": "stream",
     "text": [
      "Number of different Alexander polynomials: 1135\n",
      "Time taken: 1.7812053283055624 minutes \n"
     ]
    }
   ],
   "source": [
    "start_time = time.time()\n",
    "ALEX_GROUP=[]\n",
    "alexander_polynomials=[]\n",
    "\n",
    "for K in snappy.CensusKnots():\n",
    "    f=K.alexander_polynomial()\n",
    "    if f not in alexander_polynomials:\n",
    "        alexander_polynomials.append(f)\n",
    "        ALEX_GROUP.append([f,[K.identify()[0].name()]])\n",
    "    else:\n",
    "        for [pol,knots] in ALEX_GROUP:\n",
    "            if pol==f:\n",
    "                knots.append(K.identify()[0].name())\n",
    "\n",
    "print('Number of different Alexander polynomials:',len(alexander_polynomials))\n",
    "print('Time taken: %s minutes ' % ((time.time() - start_time)/60))"
   ]
  },
  {
   "cell_type": "code",
   "execution_count": 3,
   "metadata": {},
   "outputs": [],
   "source": [
    "ALEX_GROUPS_WITH_MORE_THAN_ONE_KNOT=[x for x in ALEX_GROUP if len(x[1])>1]"
   ]
  },
  {
   "cell_type": "code",
   "execution_count": 4,
   "metadata": {},
   "outputs": [
    {
     "data": {
      "text/plain": [
       "74"
      ]
     },
     "execution_count": 4,
     "metadata": {},
     "output_type": "execute_result"
    }
   ],
   "source": [
    "len(ALEX_GROUPS_WITH_MORE_THAN_ONE_KNOT)"
   ]
  },
  {
   "cell_type": "code",
   "execution_count": 5,
   "metadata": {
    "scrolled": true
   },
   "outputs": [
    {
     "data": {
      "text/plain": [
       "[[a^2 - 3*a + 1, ['m004', 't11898']],\n",
       " [2*a^2 - 3*a + 2, ['m015', 't10416']],\n",
       " [2*a^2 - 5*a + 2, ['m032', 'm372', 's879', 'v2861', 't08306', 'o9_22066']],\n",
       " [3*a^2 - 5*a + 3, ['m053', 'v3169']],\n",
       " [4*a^2 - 7*a + 4, ['m094', 's648', 'v2001', 'v2743']],\n",
       " [a^4 - 2*a^3 + a^2 - 2*a + 1, ['m199', 'o9_34801']],\n",
       " [a^4 - a^3 + a^2 - a + 1, ['m201', 'o9_34818']],\n",
       " [a^4 - 2*a^3 + 3*a^2 - 2*a + 1,\n",
       "  ['m222', 's704', 'v2543', 't07599', 'o9_20894']],\n",
       " [a^4 - a^3 - a^2 - a + 1, ['m224', 'v3093', 't11814']],\n",
       " [4*a^2 - 9*a + 4, ['s016', 's726', 'o9_34700']],\n",
       " [5*a^2 - 9*a + 5, ['s023', 'o9_31990']],\n",
       " [a^6 - a^5 + a^3 - a + 1, ['s188', 'o9_22337', 'o9_41995']],\n",
       " [a^6 - a^5 - a^3 - a + 1, ['s194', 't10500']],\n",
       " [a^4 - a^2 + 1, ['s239', 't11441']],\n",
       " [a^6 - 2*a^5 + a^3 - 2*a + 1, ['s451', 'o9_30542', 'o9_40291']],\n",
       " [a^4 + a^3 - 3*a^2 + a + 1, ['s580', 't09927']],\n",
       " [a^4 - 3*a^3 + 5*a^2 - 3*a + 1, ['s912', 'o9_40568']],\n",
       " [5*a^2 - 11*a + 5, ['v0016', 'v2257', 'o9_37795']],\n",
       " [6*a^2 - 11*a + 6, ['v0025', 'v2284', 'o9_33067', 'o9_34323']],\n",
       " [a^8 - a^7 - a^4 - a + 1, ['v0329', 'o9_23786', 'o9_29669']],\n",
       " [a^8 - 2*a^7 + 2*a^6 - a^5 + a^4 - a^3 + 2*a^2 - 2*a + 1, ['v0535', 'v0960']],\n",
       " [a^6 - a^5 + a^4 - a^3 + a^2 - a + 1, ['v0595', 't06316', 't12120']],\n",
       " [a^8 - 2*a^7 + a^6 - a^4 + a^2 - 2*a + 1, ['v0600', 'o9_40171']],\n",
       " [a^8 - 2*a^7 + 2*a^6 - 3*a^5 + 3*a^4 - 3*a^3 + 2*a^2 - 2*a + 1,\n",
       "  ['v1063', 'o9_33263']],\n",
       " [a^8 - 2*a^7 + a^5 - a^4 + a^3 - 2*a + 1, ['v1935', 'o9_38471']],\n",
       " [2*a^4 - a^3 - a^2 - a + 2, ['v1964', 'o9_43369']],\n",
       " [a^8 - 2*a^7 + 3*a^6 - 4*a^5 + 5*a^4 - 4*a^3 + 3*a^2 - 2*a + 1,\n",
       "  ['v1971', 't10887', 't11418', 'o9_35240', 'o9_36459', 'o9_37618']],\n",
       " [a^6 - 2*a^4 + 3*a^3 - 2*a^2 + 1, ['v2166', 'o9_39519']],\n",
       " [a^4 - 3*a^2 + 1,\n",
       "  ['v2272',\n",
       "   'v3423',\n",
       "   'v3536',\n",
       "   't12607',\n",
       "   't12748',\n",
       "   'o9_41909',\n",
       "   'o9_42515',\n",
       "   'o9_42735']],\n",
       " [6*a^2 - 13*a + 6,\n",
       "  ['v2362', 't00017', 't08617', 't11577', 'o9_36180', 'o9_40361']],\n",
       " [a^6 - a^5 - a^4 + 3*a^3 - a^2 - a + 1,\n",
       "  ['v2508', 'v3195', 't11532', 't12200', 'o9_39433', 'o9_40519', 'o9_43446']],\n",
       " [a^6 - 2*a^5 + 2*a^4 - 3*a^3 + 2*a^2 - 2*a + 1,\n",
       "  ['v2869', 't09612', 't12388']],\n",
       " [2*a^4 - 4*a^3 + 5*a^2 - 4*a + 2, ['v3310', 't09901']],\n",
       " [a^4 - 4*a^3 + 5*a^2 - 4*a + 1, ['v3505', 'o9_37080']],\n",
       " [7*a^2 - 13*a + 7, ['t00027', 't05074', 'o9_39339']],\n",
       " [a^8 - a^7 - a^5 + a^4 - a^3 - a + 1, ['t01039', 'o9_36258']],\n",
       " [a^6 - a^3 + 1, ['t02069', 't04507', 't08387', 't10930']],\n",
       " [a^8 - a^7 + a^6 - 2*a^5 + a^4 - 2*a^3 + a^2 - a + 1, ['t02188', 'o9_28874']],\n",
       " [a^4 + a^3 - 5*a^2 + a + 1, ['t03608', 't12270']],\n",
       " [8*a^2 - 17*a + 8, ['t05252', 't05899', 'o9_19326', 'o9_39285']],\n",
       " [8*a^2 - 15*a + 8, ['t05803', 'o9_00022', 'o9_24670', 'o9_40449']],\n",
       " [a^6 - a^5 + a^4 - 3*a^3 + a^2 - a + 1,\n",
       "  ['t07281',\n",
       "   't11248',\n",
       "   't12630',\n",
       "   'o9_34949',\n",
       "   'o9_39806',\n",
       "   'o9_41312',\n",
       "   'o9_43407']],\n",
       " [a^8 - a^7 - a^5 + 3*a^4 - a^3 - a + 1,\n",
       "  ['t07452', 't10974', 'o9_36357', 'o9_39967', 'o9_40873']],\n",
       " [9*a^2 - 17*a + 9, ['t07682', 'o9_23094']],\n",
       " [9*a^2 - 19*a + 9, ['t07734', 'o9_36955']],\n",
       " [a^6 - a^5 + 2*a^4 - 3*a^3 + 2*a^2 - a + 1, ['t09613', 'o9_34743']],\n",
       " [2*a^4 - 4*a^3 + 3*a^2 - 4*a + 2, ['t09734', 'o9_37485']],\n",
       " [2*a^4 - 2*a^3 + a^2 - 2*a + 2, ['t09735', 't11748', 'o9_34097']],\n",
       " [2*a^4 - 2*a^3 - a^2 - 2*a + 2, ['t09900', 'o9_34908', 'o9_43876']],\n",
       " [a^10 - 2*a^9 + a^8 + a^7 - a^6 + a^5 - a^4 + a^3 + a^2 - 2*a + 1,\n",
       "  ['t10558', 'o9_39395']],\n",
       " [a^8 - 2*a^7 + a^6 + a^5 - a^4 + a^3 + a^2 - 2*a + 1, ['t10645', 't12180']],\n",
       " [a^6 - 3*a^5 + 4*a^4 - 5*a^3 + 4*a^2 - 3*a + 1, ['t10932', 'o9_39277']],\n",
       " [a^4 - 5*a^3 + 7*a^2 - 5*a + 1, ['t11291', 'o9_37732']],\n",
       " [a^6 - a^5 - 2*a^4 + 3*a^3 - 2*a^2 - a + 1, ['t11402', 'o9_43730']],\n",
       " [a^8 - 2*a^7 + 2*a^6 - 2*a^5 + a^4 - 2*a^3 + 2*a^2 - 2*a + 1,\n",
       "  ['t11489', 'o9_30018']],\n",
       " [a^8 - 2*a^7 + a^6 + a^5 - 3*a^4 + a^3 + a^2 - 2*a + 1,\n",
       "  ['t11900', 'o9_40803']],\n",
       " [a^8 - 2*a^7 + 3*a^6 - 5*a^5 + 5*a^4 - 5*a^3 + 3*a^2 - 2*a + 1,\n",
       "  ['t12344', 'o9_42714']],\n",
       " [a^10 - 2*a^9 + 2*a^8 - 2*a^7 + 4*a^6 - 5*a^5 + 4*a^4 - 2*a^3 + 2*a^2 - 2*a + 1,\n",
       "  ['t12376', 'o9_42607']],\n",
       " [a^4 - 5*a^3 + 9*a^2 - 5*a + 1, ['t12656', 'o9_40485']],\n",
       " [a^8 - 2*a^7 + a^6 + 3*a^5 - 5*a^4 + 3*a^3 + a^2 - 2*a + 1,\n",
       "  ['t12757', 'o9_40522']],\n",
       " [7*a^2 - 15*a + 7, ['o9_00017', 'o9_24293']],\n",
       " [a^14 - 2*a^13 + a^12 + a^11 - a^10 + a^8 - a^7 + a^6 - a^4 + a^3 + a^2 - 2*a + 1,\n",
       "  ['o9_02873', 'o9_29916']],\n",
       " [a^10 - a^9 + a^8 - a^7 + a^6 - a^5 + a^4 - a^3 + a^2 - a + 1,\n",
       "  ['o9_04950', 'o9_19200']],\n",
       " [a^8 - a^7 + a^6 - a^4 + a^2 - a + 1, ['o9_09530', 'o9_28207', 'o9_28929']],\n",
       " [10*a^2 - 19*a + 10, ['o9_10654', 'o9_13141', 'o9_19831']],\n",
       " [a^8 - a^7 + a^5 - 3*a^4 + a^3 - a + 1, ['o9_18772', 'o9_30430', 'o9_38600']],\n",
       " [a^10 - a^9 - a^6 + 3*a^5 - a^4 - a + 1, ['o9_18931', 'o9_29992']],\n",
       " [a^8 - a^7 + a^6 - 2*a^5 + 3*a^4 - 2*a^3 + a^2 - a + 1,\n",
       "  ['o9_23147', 'o9_29972']],\n",
       " [2*a^4 - 3*a^2 + 2, ['o9_27542', 'o9_33568']],\n",
       " [2*a^4 - 5*a^2 + 2, ['o9_31828', 'o9_37768']],\n",
       " [3*a^4 - 3*a^3 + a^2 - 3*a + 3, ['o9_33833', 'o9_37547']],\n",
       " [2*a^6 - 4*a^5 + 6*a^4 - 7*a^3 + 6*a^2 - 4*a + 2, ['o9_38975', 'o9_40076']],\n",
       " [a^10 - 2*a^9 + a^8 + a^6 - a^5 + a^4 + a^2 - 2*a + 1,\n",
       "  ['o9_39887', 'o9_42296']],\n",
       " [a^10 - 2*a^9 + 2*a^8 - 2*a^6 + 3*a^5 - 2*a^4 + 2*a^2 - 2*a + 1,\n",
       "  ['o9_41677', 'o9_43566']]]"
      ]
     },
     "execution_count": 5,
     "metadata": {},
     "output_type": "execute_result"
    }
   ],
   "source": [
    "ALEX_GROUPS_WITH_MORE_THAN_ONE_KNOT"
   ]
  },
  {
   "cell_type": "markdown",
   "metadata": {},
   "source": [
    "For each of these 74 groups we check Dunfiled's list for exceptional surgeries and if it is hyperbolic we build the 0-surgery and compare their verified volumes."
   ]
  },
  {
   "cell_type": "code",
   "execution_count": 4,
   "metadata": {},
   "outputs": [],
   "source": [
    "def all_positive(manifold):\n",
    "    '''\n",
    "    Checks if the solution type of a triangulation is positive.\n",
    "    '''\n",
    "    return manifold.solution_type() == 'all tetrahedra positively oriented'\n",
    "\n",
    "def find_positive_triangulations(manifold,number=1,tries=100):\n",
    "    '''\n",
    "    Searches for one triangulation with a positive solution type.\n",
    "    (Or if number is set to a different value also for different such triangulations.)\n",
    "    '''\n",
    "    M = manifold.copy()\n",
    "    pos_triangulations=[]\n",
    "    for i in range(tries):\n",
    "        if all_positive(M):\n",
    "            pos_triangulations.append(M)\n",
    "            if len(pos_triangulations)==number:\n",
    "                return pos_triangulations\n",
    "            break\n",
    "        M.randomize()\n",
    "    for d in M.dual_curves(max_segments=500):\n",
    "        X = M.drill(d)\n",
    "        X = X.filled_triangulation()\n",
    "        X.dehn_fill((1,0),-1)\n",
    "        for i in range(tries):\n",
    "            if all_positive(X):\n",
    "                pos_triangulations.append(X)\n",
    "                if len(pos_triangulations)==number:\n",
    "                    return pos_triangulations\n",
    "                break\n",
    "            X.randomize()\n",
    "\n",
    "    # In the closed case, here is another trick.\n",
    "    if all(not c for c in M.cusp_info('is_complete')):\n",
    "        for i in range(tries):\n",
    "            # Drills out a random edge\n",
    "            X = M.__class__(M.filled_triangulation())\n",
    "            if all_positive(X):\n",
    "                pos_triangulations.append(X)\n",
    "                if len(pos_triangulations)==number:\n",
    "                    return pos_triangulations\n",
    "            break\n",
    "            M.randomize()\n",
    "    return pos_triangulations\n",
    "\n",
    "def better_volume(M,index=100,try_hard=False):\n",
    "    '''Computes the verified volume. Returns 0 if SnapPy could not do it.'''\n",
    "    count=0\n",
    "    while count<index:\n",
    "        try:\n",
    "            return M.volume(verified=True)\n",
    "        except:\n",
    "            M.randomize()\n",
    "            count=count+1\n",
    "    if try_hard==True:\n",
    "        pos_triang=find_positive_triangulations(M,number=index,tries=index)\n",
    "        for X in pos_triang:\n",
    "            vol=better_volume(X,index)\n",
    "            if vol!=0:\n",
    "                return vol\n",
    "    return 0\n",
    "\n",
    "def overlap(x,y):\n",
    "    '''Checks if the two intervals of x and y overlap.'''\n",
    "    if y.endpoints()[0]<=x.center()<=y.endpoints()[1]:\n",
    "        return True\n",
    "    return False"
   ]
  },
  {
   "cell_type": "code",
   "execution_count": 7,
   "metadata": {},
   "outputs": [
    {
     "data": {
      "text/plain": [
       "205823"
      ]
     },
     "execution_count": 7,
     "metadata": {},
     "output_type": "execute_result"
    }
   ],
   "source": [
    "exceptional_fillings=[]\n",
    "with open('exceptional_fillings.csv', 'r') as file:\n",
    "    reader = csv.reader(file)\n",
    "    for row in reader:\n",
    "        exceptional_fillings.append(row)\n",
    "len(exceptional_fillings)"
   ]
  },
  {
   "cell_type": "code",
   "execution_count": 30,
   "metadata": {},
   "outputs": [
    {
     "name": "stdout",
     "output_type": "stream",
     "text": [
      "Time taken: 2.100540924270948 hours \n"
     ]
    }
   ],
   "source": [
    "start_time = time.time()\n",
    "\n",
    "ALEX_GROUPS_WITH_VOLUMENS=[]\n",
    "ALEX_GROUPS_WITH_REGINA_NAMES=[]\n",
    "\n",
    "for x in ALEX_GROUPS_WITH_MORE_THAN_ONE_KNOT:\n",
    "    volumes=[]\n",
    "    names=[]\n",
    "    for name in x[1]:\n",
    "        K=snappy.Manifold(name)\n",
    "        zero_slope=K.homological_longitude()\n",
    "        hyperbolic=True\n",
    "        for x in exceptional_fillings:\n",
    "            if x[-2]==name:\n",
    "                if x[-1]==str(zero_slope):\n",
    "                    names.append([name,x[2]])\n",
    "                    hyperbolic=False\n",
    "        if hyperbolic:\n",
    "            K.dehn_fill(zero_slope)\n",
    "            vol=better_volume(K,index=100)\n",
    "            if vol==0:\n",
    "                vol=better_volume(K,index=1000)\n",
    "            if vol==0:\n",
    "                vol=better_volume(K,index=10000,try_hard=True)\n",
    "            volumes.append([name,vol])\n",
    "    if len(volumes)>1:\n",
    "        volumes.sort(key=lambda x: x[1])\n",
    "        ALEX_GROUPS_WITH_VOLUMENS.append(volumes)\n",
    "    if len(names)>1:\n",
    "        ALEX_GROUPS_WITH_REGINA_NAMES.append(names)\n",
    "\n",
    "print('Time taken: %s hours ' % ((time.time() - start_time)/3600))"
   ]
  },
  {
   "cell_type": "code",
   "execution_count": 31,
   "metadata": {},
   "outputs": [
    {
     "data": {
      "text/plain": [
       "[[['m053', 0], ['v3169', 0]],\n",
       " [['m199', 3.177293278601?], ['o9_34801', 3.177293278600?]],\n",
       " [['m224', 2.78183391240?],\n",
       "  ['v3093', 2.781833912396?],\n",
       "  ['t11814', 5.64120269706?]],\n",
       " [['o9_22337', 0], ['o9_41995', 6.53035855484?]],\n",
       " [['s194', 3.50909036378?], ['t10500', 6.577389902878?]],\n",
       " [['s451', 4.48795616567?],\n",
       "  ['o9_30542', 6.33580908350?],\n",
       "  ['o9_40291', 7.57772895633?]],\n",
       " [['s580', 4.408180344705?], ['t09927', 4.55591888988?]],\n",
       " [['s912', 4.059766425639?], ['o9_40568', 5.67188354357?]],\n",
       " [['v0025', 0], ['o9_33067', 0]],\n",
       " [['v0329', 3.82422316958?],\n",
       "  ['o9_23786', 4.724193070534?],\n",
       "  ['o9_29669', 7.010981552339?]],\n",
       " [['v0535', 3.56139987499?], ['v0960', 4.639202471219?]],\n",
       " [['v0600', 4.393635924020?], ['o9_40171', 7.85708783364?]],\n",
       " [['v1063', 4.613255212924?], ['o9_33263', 7.33009980619?]],\n",
       " [['v1935', 5.389888525936?], ['o9_38471', 7.58143920443?]],\n",
       " [['v1964', 4.686118265095?], ['o9_43369', 7.80830657390?]],\n",
       " [['t10887', 0], ['t11418', 0]],\n",
       " [['v2166', 5.38541418815?], ['o9_39519', 7.50163851183?]],\n",
       " [['v2272', 0],\n",
       "  ['v3423', 4.415332477454?],\n",
       "  ['v3536', 4.41533247746?],\n",
       "  ['o9_42735', 4.415332477454?],\n",
       "  ['t12607', 5.28793627053?],\n",
       "  ['t12748', 5.28793627053?],\n",
       "  ['o9_41909', 5.83941124979?],\n",
       "  ['o9_42515', 5.83941124979?]],\n",
       " [['v2508', 3.702897321857?],\n",
       "  ['v3195', 3.702897321857?],\n",
       "  ['t11532', 4.90949251141?],\n",
       "  ['t12200', 4.90949251141?],\n",
       "  ['o9_43446', 4.909492511407?],\n",
       "  ['o9_39433', 5.59095176819?],\n",
       "  ['o9_40519', 5.59095176819?]],\n",
       " [['v2869', 4.97179004792?],\n",
       "  ['t12388', 4.971790047912?],\n",
       "  ['t09612', 6.451736870104?]],\n",
       " [['t09901', 4.85117075734?], ['v3310', 5.98781044336?]],\n",
       " [['v3505', 5.333489566898?], ['o9_37080', 6.55174328789?]],\n",
       " [['t00027', 0], ['o9_39339', 0]],\n",
       " [['t01039', 4.284138525906?], ['o9_36258', 7.54428895650?]],\n",
       " [['t04507', 4.33311324901?],\n",
       "  ['t08387', 6.16614383341?],\n",
       "  ['t10930', 6.49316391639?]],\n",
       " [['t02188', 4.325904396370?], ['o9_28874', 6.916359150776?]],\n",
       " [['t03608', 4.893071278731?], ['t12270', 5.42095620602?]],\n",
       " [['t05252', 0], ['o9_19326', 0]],\n",
       " [['t07281', 4.162020103638?],\n",
       "  ['o9_34949', 4.16202010364?],\n",
       "  ['o9_39806', 4.162020103638?],\n",
       "  ['t11248', 5.65107125306?],\n",
       "  ['t12630', 6.007521686040?],\n",
       "  ['o9_41312', 6.71454565332?],\n",
       "  ['o9_43407', 6.91813429944?]],\n",
       " [['t07452', 4.75132910366?],\n",
       "  ['t10974', 5.298314671809?],\n",
       "  ['o9_39967', 5.298314671809?],\n",
       "  ['o9_36357', 6.25919294258?],\n",
       "  ['o9_40873', 6.52122695582?]],\n",
       " [['o9_34743', 5.20072371365?], ['t09613', 6.034815486936?]],\n",
       " [['t09734', 5.22834827277?], ['o9_37485', 7.02957307148?]],\n",
       " [['t09735', 3.925475315569?],\n",
       "  ['t11748', 3.92547531557?],\n",
       "  ['o9_34097', 6.58611370969?]],\n",
       " [['t09900', 4.455978629569?],\n",
       "  ['o9_34908', 4.45597862957?],\n",
       "  ['o9_43876', 4.455978629569?]],\n",
       " [['t10558', 6.72291739239?], ['o9_39395', 7.78108601665?]],\n",
       " [['t10645', 6.31237903490?], ['t12180', 7.03331412637?]],\n",
       " [['o9_39277', 5.70240292558?], ['t10932', 6.73630906712?]],\n",
       " [['t11291', 6.180274419374?], ['o9_37732', 6.23919622646?]],\n",
       " [['t11402', 6.41368484939?], ['o9_43730', 7.89965739564?]],\n",
       " [['o9_30018', 6.05021149676?], ['t11489', 6.69034151663?]],\n",
       " [['t11900', 6.46054090363?], ['o9_40803', 6.4605409037?]],\n",
       " [['t12344', 6.87608017552?], ['o9_42714', 7.73889139783?]],\n",
       " [['t12376', 6.74796287158?], ['o9_42607', 7.81966861810?]],\n",
       " [['o9_40485', 5.84302285786?], ['t12656', 6.332666642499?]],\n",
       " [['t12757', 7.01606607898?], ['o9_40522', 7.4772259403?]],\n",
       " [['o9_02873', 4.65224315864?], ['o9_29916', 6.31413180737?]],\n",
       " [['o9_09530', 3.35408794320?],\n",
       "  ['o9_28207', 6.187035120043?],\n",
       "  ['o9_28929', 6.25037616682?]],\n",
       " [['o9_10654', 0], ['o9_19831', 0]],\n",
       " [['o9_18772', 5.041402547998?],\n",
       "  ['o9_30430', 6.30378506875?],\n",
       "  ['o9_38600', 6.79313397324?]],\n",
       " [['o9_18931', 5.36869091713?], ['o9_29992', 6.096459390548?]],\n",
       " [['o9_23147', 4.036692065640?], ['o9_29972', 6.92283516754?]],\n",
       " [['o9_31828', 0], ['o9_37768', 0]],\n",
       " [['o9_33833', 4.73709732245?], ['o9_37547', 4.73709732246?]],\n",
       " [['o9_38975', 5.99988084132?], ['o9_40076', 7.82241098274?]],\n",
       " [['o9_39887', 7.52147091211?], ['o9_42296', 8.03989208577?]],\n",
       " [['o9_41677', 7.97594386118?], ['o9_43566', 8.17492752434?]]]"
      ]
     },
     "execution_count": 31,
     "metadata": {},
     "output_type": "execute_result"
    }
   ],
   "source": [
    "ALEX_GROUPS_WITH_VOLUMENS"
   ]
  },
  {
   "cell_type": "code",
   "execution_count": 32,
   "metadata": {},
   "outputs": [
    {
     "data": {
      "text/plain": [
       "[[['m004', 'T x I / [ 2,1 | 1,1 ]'],\n",
       "  ['t11898',\n",
       "   \"JSJ([('SFSpace', 'SFS [D: (2,1) (3,-2)]'), ('SFSpace', 'SFS [Or, g=0 + 3 punctures: (1,1)]')])\"]],\n",
       " [['m032', 'SFS [A: (2,1)] / [ 0,1 | 1,-2 ]'],\n",
       "  ['s879', 'SFS [A: (2,1)] / [ 2,5 | 1,2 ]'],\n",
       "  ['v2861', 'SFS [A: (2,1)] / [ 2,7 | 1,3 ]'],\n",
       "  ['t08306', 'SFS [A: (2,1)] / [ 2,9 | 1,4 ]'],\n",
       "  ['o9_22066', 'SFS [A: (2,1)] / [ 2,11 | 1,5 ]']],\n",
       " [['s648',\n",
       "   \"JSJ([('SFSpace', 'SFS [A: (2,1)]'), ('SFSpace', 'SFS [A: (2,1)]')])\"],\n",
       "  ['v2001', 'SFS [A: (4,1)] / [ -1,3 | 1,-2 ]'],\n",
       "  ['v2743',\n",
       "   \"JSJ([('SFSpace', 'SFS [A: (2,1)]'), ('SFSpace', 'SFS [A: (2,1)]')])\"]],\n",
       " [['m201', 'SFS [S2: (2,1) (5,1) (10,-7)]'],\n",
       "  ['o9_34818', 'SFS [S2: (2,1) (5,1) (10,-7)]']],\n",
       " [['s704',\n",
       "   'SFS [D: (2,1) (2,1)] U/m SFS [D: (3,1) (3,2)], m = [ -1,2 | 0,1 ]'],\n",
       "  ['v2543',\n",
       "   'SFS [D: (2,1) (2,1)] U/m SFS [D: (3,1) (3,2)], m = [ -2,3 | -1,2 ]'],\n",
       "  ['t07599',\n",
       "   'SFS [D: (2,1) (2,1)] U/m SFS [D: (3,1) (3,2)], m = [ -3,4 | -2,3 ]'],\n",
       "  ['o9_20894',\n",
       "   'SFS [D: (2,1) (2,1)] U/m SFS [D: (3,1) (3,2)], m = [ -4,5 | -3,4 ]']],\n",
       " [['s726',\n",
       "   \"JSJ([('SFSpace', 'SFS [A: (2,1)]'), ('SFSpace', 'SFS [A: (2,1)]')])\"],\n",
       "  ['o9_34700',\n",
       "   \"JSJ([('SFSpace', 'SFS [A: (2,1)]'), ('SFSpace', 'SFS [A: (2,3)]')])\"]],\n",
       " [['s239', 'SFS [D: (2,1) (2,1)] U/m SFS [D: (2,1) (3,1)], m = [ 5,1 | 4,1 ]'],\n",
       "  ['t11441',\n",
       "   'SFS [D: (2,1) (2,1)] U/m SFS [D: (2,1) (3,1)], m = [ 5,1 | 4,1 ]']],\n",
       " [['v0016', 'SFS [A: (5,1)] / [ 0,1 | 1,-2 ]'],\n",
       "  ['o9_37795', \"JSJ([('hyperbolic', 'm125')])\"]],\n",
       " [['v2284',\n",
       "   \"JSJ([('SFSpace', 'SFS [A: (2,1)]'), ('SFSpace', 'SFS [A: (3,2)]')])\"],\n",
       "  ['o9_34323',\n",
       "   \"JSJ([('SFSpace', 'SFS [A: (2,3)]'), ('SFSpace', 'SFS [A: (3,5)]')])\"]],\n",
       " [['v0595', 'SFS [S2: (2,1) (7,2) (14,-11)]'],\n",
       "  ['t12120', 'SFS [S2: (2,1) (7,2) (14,-11)]']],\n",
       " [['v1971',\n",
       "   'SFS [D: (2,1) (2,1)] U/m SFS [D: (5,2) (5,3)], m = [ 0,1 | 1,0 ]'],\n",
       "  ['o9_35240', \"JSJ([('SFSpace', 'M/n2 x~ S1'), ('hyperbolic', 'm043')])\"],\n",
       "  ['o9_36459', \"JSJ([('SFSpace', 'M/n2 x~ S1'), ('hyperbolic', 'm043')])\"],\n",
       "  ['o9_37618',\n",
       "   'SFS [D: (2,1) (2,1)] U/m SFS [D: (5,2) (5,3)], m = [ -2,3 | -1,2 ]']],\n",
       " [['v2362',\n",
       "   \"JSJ([('SFSpace', 'SFS [A: (2,1)]'), ('SFSpace', 'SFS [A: (3,1)]')])\"],\n",
       "  ['t00017', 'SFS [A: (6,1)] / [ 0,1 | 1,-2 ]'],\n",
       "  ['t08617',\n",
       "   \"JSJ([('SFSpace', 'SFS [A: (2,1)]'), ('SFSpace', 'SFS [A: (3,1)]')])\"],\n",
       "  ['t11577',\n",
       "   \"JSJ([('SFSpace', 'SFS [A: (2,1)]'), ('SFSpace', 'SFS [A: (3,2)]')])\"],\n",
       "  ['o9_36180',\n",
       "   \"JSJ([('SFSpace', 'SFS [A: (2,1)]'), ('SFSpace', 'SFS [A: (3,2)]')])\"],\n",
       "  ['o9_40361',\n",
       "   \"JSJ([('SFSpace', 'SFS [A: (2,3)]'), ('SFSpace', 'SFS [A: (3,5)]')])\"]],\n",
       " [['t05899',\n",
       "   \"JSJ([('SFSpace', 'SFS [A: (2,1)]'), ('SFSpace', 'SFS [A: (4,1)]')])\"],\n",
       "  ['o9_39285',\n",
       "   \"JSJ([('SFSpace', 'SFS [A: (2,1)]'), ('SFSpace', 'SFS [A: (2,1)]'), ('SFSpace', 'SFS [A: (2,1)]')])\"]],\n",
       " [['t05803',\n",
       "   \"JSJ([('SFSpace', 'SFS [A: (2,1)]'), ('SFSpace', 'SFS [A: (4,7)]')])\"],\n",
       "  ['o9_00022', 'SFS [A: (8,7)] / [ 0,1 | 1,-1 ]'],\n",
       "  ['o9_24670', 'SFS [A: (8,3)] / [ 2,5 | 1,2 ]']],\n",
       " [['t07734',\n",
       "   \"JSJ([('SFSpace', 'SFS [A: (3,1)]'), ('SFSpace', 'SFS [A: (3,1)]')])\"],\n",
       "  ['o9_36955',\n",
       "   \"JSJ([('SFSpace', 'SFS [A: (3,4)]'), ('SFSpace', 'SFS [A: (3,4)]')])\"]]]"
      ]
     },
     "execution_count": 32,
     "metadata": {},
     "output_type": "execute_result"
    }
   ],
   "source": [
    "ALEX_GROUPS_WITH_REGINA_NAMES"
   ]
  },
  {
   "cell_type": "markdown",
   "metadata": {},
   "source": [
    "We start working with the exceptional surgeries. If we have equal gluings we can distinguish the manifolds via the trace of their gluing matrices. (Or of the traces agree we check explicitly that the matrices are not conjugated.) If the manifolds are JSJ manifolds we need to understand the gluing. Here we could try to distingusih them (or prove equality) via their fundamental groups. It might also be that some JSJ manifolds are actually SFS. So here we also need to work a bit harder."
   ]
  },
  {
   "cell_type": "code",
   "execution_count": 57,
   "metadata": {},
   "outputs": [],
   "source": [
    "equal_exceptional_surgeries=[]\n",
    "equal_exceptional_surgeries.append([['m201', 'SFS [S2: (2,1) (5,1) (10,-7)]'],\n",
    "['o9_34818', 'SFS [S2: (2,1) (5,1) (10,-7)]']])\n",
    "equal_exceptional_surgeries.append([['s239', 'SFS [D: (2,1) (2,1)] U/m SFS [D: (2,1) (3,1)], m = [ 5,1 | 4,1 ]'],\n",
    "['t11441', 'SFS [D: (2,1) (2,1)] U/m SFS [D: (2,1) (3,1)], m = [ 5,1 | 4,1 ]']])\n",
    "equal_exceptional_surgeries.append([['v0595', 'SFS [S2: (2,1) (7,2) (14,-11)]'],\n",
    "['t12120', 'SFS [S2: (2,1) (7,2) (14,-11)]']])\n",
    "\n",
    "possible_equal_exceptional_surgeries=[]\n",
    "possible_equal_exceptional_surgeries.append([['s648', \"JSJ([('SFSpace', 'SFS [A: (2,1)]'), ('SFSpace', 'SFS [A: (2,1)]')])\"],\n",
    "['v2001', 'SFS [A: (4,1)] / [ -1,3 | 1,-2 ]'],\n",
    "['v2743', \"JSJ([('SFSpace', 'SFS [A: (2,1)]'), ('SFSpace', 'SFS [A: (2,1)]')])\"]])\n",
    "possible_equal_exceptional_surgeries.append([['s726', \"JSJ([('SFSpace', 'SFS [A: (2,1)]'), ('SFSpace', 'SFS [A: (2,1)]')])\"],\n",
    "['o9_34700', \"JSJ([('SFSpace', 'SFS [A: (2,1)]'), ('SFSpace', 'SFS [A: (2,3)]')])\"]])\n",
    "possible_equal_exceptional_surgeries.append([['v2284', \"JSJ([('SFSpace', 'SFS [A: (2,1)]'), ('SFSpace', 'SFS [A: (3,2)]')])\"],\n",
    "['o9_34323', \"JSJ([('SFSpace', 'SFS [A: (2,3)]'), ('SFSpace', 'SFS [A: (3,5)]')])\"]])\n",
    "possible_equal_exceptional_surgeries.append([['o9_35240', \"JSJ([('SFSpace', 'M/n2 x~ S1'), ('hyperbolic', 'm043')])\"],\n",
    "['o9_36459', \"JSJ([('SFSpace', 'M/n2 x~ S1'), ('hyperbolic', 'm043')])\"]])\n",
    "possible_equal_exceptional_surgeries.append([['v2362', \"JSJ([('SFSpace', 'SFS [A: (2,1)]'), ('SFSpace', 'SFS [A: (3,1)]')])\"],\n",
    "['t00017', 'SFS [A: (6,1)] / [ 0,1 | 1,-2 ]'],\n",
    "['t08617', \"JSJ([('SFSpace', 'SFS [A: (2,1)]'), ('SFSpace', 'SFS [A: (3,1)]')])\"],\n",
    "['t11577', \"JSJ([('SFSpace', 'SFS [A: (2,1)]'), ('SFSpace', 'SFS [A: (3,2)]')])\"],\n",
    "['o9_36180', \"JSJ([('SFSpace', 'SFS [A: (2,1)]'), ('SFSpace', 'SFS [A: (3,2)]')])\"],\n",
    "['o9_40361', \"JSJ([('SFSpace', 'SFS [A: (2,3)]'), ('SFSpace', 'SFS [A: (3,5)]')])\"]])\n",
    "possible_equal_exceptional_surgeries.append([['t05803', \"JSJ([('SFSpace', 'SFS [A: (2,1)]'), ('SFSpace', 'SFS [A: (4,7)]')])\"],\n",
    "['o9_00022', 'SFS [A: (8,7)] / [ 0,1 | 1,-1 ]'],\n",
    "['o9_24670', 'SFS [A: (8,3)] / [ 2,5 | 1,2 ]']])\n",
    "possible_equal_exceptional_surgeries.append([['t07734', \"JSJ([('SFSpace', 'SFS [A: (3,1)]'), ('SFSpace', 'SFS [A: (3,1)]')])\"],\n",
    "['o9_36955', \"JSJ([('SFSpace', 'SFS [A: (3,4)]'), ('SFSpace', 'SFS [A: (3,4)]')])\"]])"
   ]
  },
  {
   "cell_type": "markdown",
   "metadata": {},
   "source": [
    "For these remaining examples, we use fundamentalgroup or explicit Kirby calculus. (Also to check the correct Orientations.) For the fundamental group we can use regina. This is largely implemented.\n",
    "\n",
    "We continue to work with the hyperbolic surgeries. First we remove the pairs with different volumes."
   ]
  },
  {
   "cell_type": "code",
   "execution_count": 54,
   "metadata": {},
   "outputs": [
    {
     "name": "stdout",
     "output_type": "stream",
     "text": [
      "['m199', 3.177293278601?] ['o9_34801', 3.177293278600?]\n",
      "['m224', 2.78183391240?] ['v3093', 2.781833912396?]\n",
      "['v2508', 3.702897321857?] ['v3195', 3.702897321857?]\n",
      "['t11532', 4.90949251141?] ['t12200', 4.90949251141?]\n",
      "['t11532', 4.90949251141?] ['t12200', 4.90949251141?] ['o9_43446', 4.909492511407?]\n",
      "['t12200', 4.90949251141?] ['o9_43446', 4.909492511407?]\n",
      "['o9_39433', 5.59095176819?] ['o9_40519', 5.59095176819?]\n",
      "['v2869', 4.97179004792?] ['t12388', 4.971790047912?]\n",
      "['t07281', 4.162020103638?] ['o9_34949', 4.16202010364?]\n",
      "['t07281', 4.162020103638?] ['o9_34949', 4.16202010364?] ['o9_39806', 4.162020103638?]\n",
      "['o9_34949', 4.16202010364?] ['o9_39806', 4.162020103638?]\n",
      "['t10974', 5.298314671809?] ['o9_39967', 5.298314671809?]\n",
      "['t09735', 3.925475315569?] ['t11748', 3.92547531557?]\n",
      "['t09900', 4.455978629569?] ['o9_34908', 4.45597862957?]\n",
      "['t09900', 4.455978629569?] ['o9_34908', 4.45597862957?] ['o9_43876', 4.455978629569?]\n",
      "['o9_34908', 4.45597862957?] ['o9_43876', 4.455978629569?]\n",
      "['t11900', 6.46054090363?] ['o9_40803', 6.4605409037?]\n",
      "['o9_33833', 4.73709732245?] ['o9_37547', 4.73709732246?]\n"
     ]
    }
   ],
   "source": [
    "pairs_with_unclear_volumes=[]\n",
    "pairs_with_same_volume=[]\n",
    "\n",
    "for x in ALEX_GROUPS_WITH_VOLUMENS:\n",
    "    for y in x:\n",
    "        if y[1]==0:\n",
    "            pairs_with_unclear_volumes.append(x)\n",
    "            break\n",
    "    if x not in pairs_with_unclear_volumes:\n",
    "        for i in range(len(x)-1):\n",
    "            three=False\n",
    "            vol1=x[i][1]\n",
    "            vol2=x[i+1][1]\n",
    "            if overlap(vol1,vol2):\n",
    "                print(x[i],x[i+1])\n",
    "                try:\n",
    "                    vol3=x[i+2][1]\n",
    "                    if overlap(vol2,vol3):\n",
    "                        print(x[i],x[i+1],x[i+2])\n",
    "                        pairs_with_same_volume.append([x[i],x[i+1],x[i+2]])\n",
    "                        three=True\n",
    "                except:\n",
    "                    pass\n",
    "                if three==False:\n",
    "                    pairs_with_same_volume.append([x[i],x[i+1]])\n",
    "\n",
    "        "
   ]
  },
  {
   "cell_type": "code",
   "execution_count": 55,
   "metadata": {},
   "outputs": [
    {
     "data": {
      "text/plain": [
       "[[['m199', 3.177293278601?], ['o9_34801', 3.177293278600?]],\n",
       " [['m224', 2.78183391240?], ['v3093', 2.781833912396?]],\n",
       " [['v2508', 3.702897321857?], ['v3195', 3.702897321857?]],\n",
       " [['t11532', 4.90949251141?],\n",
       "  ['t12200', 4.90949251141?],\n",
       "  ['o9_43446', 4.909492511407?]],\n",
       " [['t12200', 4.90949251141?], ['o9_43446', 4.909492511407?]],\n",
       " [['o9_39433', 5.59095176819?], ['o9_40519', 5.59095176819?]],\n",
       " [['v2869', 4.97179004792?], ['t12388', 4.971790047912?]],\n",
       " [['t07281', 4.162020103638?],\n",
       "  ['o9_34949', 4.16202010364?],\n",
       "  ['o9_39806', 4.162020103638?]],\n",
       " [['o9_34949', 4.16202010364?], ['o9_39806', 4.162020103638?]],\n",
       " [['t10974', 5.298314671809?], ['o9_39967', 5.298314671809?]],\n",
       " [['t09735', 3.925475315569?], ['t11748', 3.92547531557?]],\n",
       " [['t09900', 4.455978629569?],\n",
       "  ['o9_34908', 4.45597862957?],\n",
       "  ['o9_43876', 4.455978629569?]],\n",
       " [['o9_34908', 4.45597862957?], ['o9_43876', 4.455978629569?]],\n",
       " [['t11900', 6.46054090363?], ['o9_40803', 6.4605409037?]],\n",
       " [['o9_33833', 4.73709732245?], ['o9_37547', 4.73709732246?]]]"
      ]
     },
     "execution_count": 55,
     "metadata": {},
     "output_type": "execute_result"
    }
   ],
   "source": [
    "pairs_with_same_volume"
   ]
  },
  {
   "cell_type": "code",
   "execution_count": 56,
   "metadata": {},
   "outputs": [
    {
     "data": {
      "text/plain": [
       "[[['m053', 0], ['v3169', 0]],\n",
       " [['o9_22337', 0], ['o9_41995', 6.53035855484?]],\n",
       " [['v0025', 0], ['o9_33067', 0]],\n",
       " [['t10887', 0], ['t11418', 0]],\n",
       " [['v2272', 0],\n",
       "  ['v3423', 4.415332477454?],\n",
       "  ['v3536', 4.41533247746?],\n",
       "  ['o9_42735', 4.415332477454?],\n",
       "  ['t12607', 5.28793627053?],\n",
       "  ['t12748', 5.28793627053?],\n",
       "  ['o9_41909', 5.83941124979?],\n",
       "  ['o9_42515', 5.83941124979?]],\n",
       " [['t00027', 0], ['o9_39339', 0]],\n",
       " [['t05252', 0], ['o9_19326', 0]],\n",
       " [['o9_10654', 0], ['o9_19831', 0]],\n",
       " [['o9_31828', 0], ['o9_37768', 0]]]"
      ]
     },
     "execution_count": 56,
     "metadata": {},
     "output_type": "execute_result"
    }
   ],
   "source": [
    "pairs_with_unclear_volumes"
   ]
  },
  {
   "cell_type": "markdown",
   "metadata": {},
   "source": [
    "We further try to distinguish pairs via their symmetry groups:"
   ]
  },
  {
   "cell_type": "code",
   "execution_count": 73,
   "metadata": {},
   "outputs": [
    {
     "name": "stdout",
     "output_type": "stream",
     "text": [
      "[['m053', 0], ['v3169', 0]]\n",
      "at least Z/2 + Z/2\n",
      "Z/2\n",
      "-------------\n",
      "[['o9_22337', 0], ['o9_41995', 6.53035855484?]]\n",
      "at least Z/2\n",
      "Z/2\n",
      "-------------\n",
      "[['v0025', 0], ['o9_33067', 0]]\n",
      "at least Z/2 + Z/2\n",
      "Z/2\n",
      "-------------\n",
      "[['t10887', 0], ['t11418', 0]]\n",
      "at least Z/2\n",
      "Z/2\n",
      "-------------\n",
      "[['t00027', 0], ['o9_39339', 0]]\n",
      "at least Z/2 + Z/2\n",
      "D6\n",
      "-------------\n",
      "[['t05252', 0], ['o9_19326', 0]]\n",
      "at least Z/2 + Z/2\n",
      "at least Z/2 + Z/2\n",
      "-------------\n",
      "[['o9_10654', 0], ['o9_19831', 0]]\n",
      "at least Z/2 + Z/2\n",
      "at least Z/2 + Z/2\n",
      "-------------\n",
      "[['o9_31828', 0], ['o9_37768', 0]]\n",
      "at least Z/2\n",
      "at least Z/2\n",
      "-------------\n"
     ]
    }
   ],
   "source": [
    "more=[]\n",
    "for x in pairs_with_unclear_volumes:\n",
    "    if len(x)>2:\n",
    "        more=x\n",
    "        \n",
    "    else:\n",
    "        K1=snappy.Manifold(x[0][0])\n",
    "        K2=snappy.Manifold(x[1][0])\n",
    "        K1.dehn_fill(K1.homological_longitude())\n",
    "        K2.dehn_fill(K1.homological_longitude())\n",
    "        print(x)\n",
    "        print(K1.symmetry_group())\n",
    "        print(K2.symmetry_group())\n",
    "        print('-------------')"
   ]
  },
  {
   "cell_type": "code",
   "execution_count": 17,
   "metadata": {},
   "outputs": [],
   "source": [
    "more=['v2272', 'v3423', 'v3536', 'o9_42735', 't12607', 't12748', 'o9_41909', 'o9_42515']"
   ]
  },
  {
   "cell_type": "code",
   "execution_count": 20,
   "metadata": {},
   "outputs": [
    {
     "name": "stdout",
     "output_type": "stream",
     "text": [
      "v2272\n",
      "v2272(2,-1)\n",
      "at least Z/2\n",
      "v3423\n",
      "v3423(2,-1)\n",
      "Z/2 + Z/2\n",
      "v3536\n",
      "v3536(2,1)\n",
      "Z/2 + Z/2\n",
      "o9_42735\n",
      "o9_42735(1,1)\n",
      "Z/2 + Z/2\n",
      "t12607\n",
      "t12607(2,1)\n",
      "Z/2\n",
      "t12748\n",
      "t12748(2,-1)\n",
      "Z/2\n",
      "o9_41909\n",
      "o9_41909(2,-1)\n",
      "Z/2\n",
      "o9_42515\n",
      "o9_42515(2,1)\n",
      "Z/2\n"
     ]
    }
   ],
   "source": [
    "for x in more:\n",
    "    print(x)\n",
    "    K=snappy.Manifold(x)\n",
    "    K.dehn_fill(K.homological_longitude())\n",
    "    print(K)\n",
    "    print(K.symmetry_group())\n"
   ]
  },
  {
   "cell_type": "markdown",
   "metadata": {},
   "source": [
    "The problem is that we do not find a positive triangulation for the pairs where the volume does not work. We need to check again how Dunfield did it. We are left with the following pairs which might be the same. And we can probably show that they are not when we find a positive triangulation."
   ]
  },
  {
   "cell_type": "code",
   "execution_count": 41,
   "metadata": {},
   "outputs": [],
   "source": [
    "might_be_the_same=[['o9_22337', 'o9_41995'],\n",
    "['t10887', 't11418'],\n",
    "['t00027', 'o9_39339'],\n",
    "['t05252', 'o9_19326'],\n",
    "['o9_10654', 'o9_19831'],\n",
    "['o9_31828', 'o9_37768'],\n",
    "['v2272','v3423','v3536', 'o9_42735'],\n",
    "['v2272','t12607','t12748','o9_41909','o9_42515']]"
   ]
  },
  {
   "cell_type": "code",
   "execution_count": 37,
   "metadata": {},
   "outputs": [],
   "source": [
    "pairs_with_same_volume=[['m199', 'o9_34801'],\n",
    " ['m224', 'v3093'],\n",
    " ['v2508', 'v3195'],\n",
    " ['t11532', 't12200', 'o9_43446'],\n",
    " ['t12200', 'o9_43446'],\n",
    " ['o9_39433','o9_40519'],\n",
    " ['v2869', 't12388'],\n",
    " ['t07281', 'o9_34949', 'o9_39806'],\n",
    " ['o9_34949', 'o9_39806'],\n",
    " ['t10974', 'o9_39967'],\n",
    " ['t09735', 't11748'],\n",
    " ['t09900', 'o9_34908', 'o9_43876'],\n",
    " ['o9_34908', 'o9_43876'],\n",
    " ['t11900', 'o9_40803'],\n",
    " ['o9_33833', 'o9_37547']]"
   ]
  },
  {
   "cell_type": "code",
   "execution_count": 38,
   "metadata": {},
   "outputs": [
    {
     "name": "stdout",
     "output_type": "stream",
     "text": [
      "m199(4,-1)\n",
      "Z/2 + Z/2\n",
      "o9_34801(1,-1)\n",
      "Z/2 + Z/2\n",
      "-------------\n",
      "m224(3,-1)\n",
      "Z/2 + Z/2\n",
      "v3093(1,-1)\n",
      "Z/2 + Z/2\n",
      "-------------\n",
      "v2508(2,-1)\n",
      "Z/2\n",
      "v3195(2,-1)\n",
      "Z/2\n",
      "-------------\n",
      "t11532(2,1)\n",
      "0\n",
      "t12200(2,-1)\n",
      "0\n",
      "o9_43446(1,-1)\n",
      "0\n",
      "-------------\n",
      "t12200(2,-1)\n",
      "0\n",
      "o9_43446(1,-1)\n",
      "0\n",
      "-------------\n",
      "o9_39433(2,1)\n",
      "0\n",
      "o9_40519(2,-1)\n",
      "0\n",
      "-------------\n",
      "v2869(3,-1)\n",
      "Z/2\n",
      "t12388(2,1)\n",
      "Z/2\n",
      "-------------\n",
      "t07281(3,-1)\n",
      "Z/2 + Z/2\n",
      "o9_34949(1,1)\n",
      "Z/2 + Z/2\n",
      "o9_39806(1,1)\n",
      "Z/2 + Z/2\n",
      "-------------\n",
      "o9_34949(1,1)\n",
      "Z/2 + Z/2\n",
      "o9_39806(1,1)\n",
      "Z/2 + Z/2\n",
      "-------------\n",
      "t10974(3,-1)\n",
      "Z/2\n",
      "o9_39967(2,-1)\n",
      "Z/2\n",
      "-------------\n",
      "t09735(1,-1)\n",
      "Z/2 + Z/2\n",
      "t11748(1,1)\n",
      "Z/2 + Z/2\n",
      "-------------\n",
      "t09900(2,1)\n",
      "Z/2 + Z/2\n",
      "o9_34908(1,-1)\n",
      "Z/2 + Z/2\n",
      "o9_43876(1,1)\n",
      "Z/2 + Z/2\n",
      "-------------\n",
      "o9_34908(1,-1)\n",
      "Z/2 + Z/2\n",
      "o9_43876(1,1)\n",
      "Z/2 + Z/2\n",
      "-------------\n",
      "t11900(4,1)\n",
      "0\n",
      "o9_40803(3,1)\n",
      "0\n",
      "-------------\n",
      "o9_33833(1,1)\n",
      "Z/2 + Z/2\n",
      "o9_37547(1,-1)\n",
      "Z/2 + Z/2\n",
      "-------------\n"
     ]
    }
   ],
   "source": [
    "for y in pairs_with_same_volume:\n",
    "    for x in y:\n",
    "        K=snappy.Manifold(x)\n",
    "        K.dehn_fill(K.homological_longitude())\n",
    "        print(K)\n",
    "        print(K.symmetry_group())\n",
    "    print('-------------')"
   ]
  },
  {
   "cell_type": "markdown",
   "metadata": {},
   "source": [
    "So they have all the same symmetry groups. We check the length spectrum:"
   ]
  },
  {
   "cell_type": "code",
   "execution_count": 40,
   "metadata": {},
   "outputs": [
    {
     "name": "stdout",
     "output_type": "stream",
     "text": [
      "m199(4,-1)\n",
      "mult length                           topology      parity\n",
      "2    0.561218218060211 + 1.23214410440380*I circle        orientation-preserving\n",
      "1    0.609377863436009 - 2.73796784112515*I circle        orientation-preserving\n",
      "o9_34801(1,-1)\n",
      "mult length                           topology      parity\n",
      "2    0.561218218060192 - 1.23214410440408*I circle        orientation-preserving\n",
      "1    0.609377863436000 + 2.73796784112515*I circle        orientation-preserving\n",
      "-------------\n",
      "m224(3,-1)\n",
      "mult length                           topology      parity\n",
      "1    0.252670219220850 + 2.19726867750004*I circle        orientation-preserving\n",
      "2    0.853210316468308 + 1.57944204815431*I circle        orientation-preserving\n",
      "v3093(1,-1)\n",
      "mult length                           topology      parity\n",
      "1    0.252670219229678 - 2.19726867750490*I circle        orientation-preserving\n",
      "2    0.853210316467587 - 1.57944204815586*I circle        orientation-preserving\n",
      "-------------\n",
      "v2508(2,-1)\n",
      "mult length                           topology      parity\n",
      "1    0.558565799149109 - 2.87259977294957*I circle        orientation-preserving\n",
      "1    0.717549204918572 - 2.08482101265693*I circle        orientation-preserving\n",
      "1    0.747789016564325 + 2.44852253660633*I circle        orientation-preserving\n",
      "1    0.977539135355892 - 2.64567075264724*I circle        orientation-preserving\n",
      "v3195(2,-1)\n",
      "mult length                           topology      parity\n",
      "1    0.558565799129027 + 2.87259977293664*I circle        orientation-preserving\n",
      "1    0.717549204917512 + 2.08482101265705*I circle        orientation-preserving\n",
      "1    0.747789016564357 - 2.44852253660635*I circle        orientation-preserving\n",
      "1    0.977539135355906 + 2.64567075264723*I circle        orientation-preserving\n",
      "-------------\n",
      "t11532(2,1)\n",
      "mult length                           topology      parity\n",
      "1    0.795360570649837 + 2.86905573431716*I circle        orientation-preserving\n",
      "1    0.893388699249521 + 2.03631844997135*I circle        orientation-preserving\n",
      "1    0.931942124571654 - 2.46534760439686*I circle        orientation-preserving\n",
      "t12200(2,-1)\n",
      "mult length                           topology      parity\n",
      "1    0.795360570649783 + 2.86905573431717*I circle        orientation-preserving\n",
      "1    0.893388699249265 + 2.03631844997152*I circle        orientation-preserving\n",
      "1    0.931942124571741 - 2.46534760439685*I circle        orientation-preserving\n",
      "o9_43446(1,-1)\n",
      "mult length                           topology      parity\n",
      "1    0.795360570649260 - 2.86905573431720*I circle        orientation-preserving\n",
      "1    0.893388699249180 - 2.03631844997156*I circle        orientation-preserving\n",
      "1    0.931942124570630 + 2.46534760439719*I circle        orientation-preserving\n",
      "-------------\n",
      "t12200(2,-1)\n",
      "mult length                           topology      parity\n",
      "1    0.795360570649783 + 2.86905573431717*I circle        orientation-preserving\n",
      "1    0.893388699249265 + 2.03631844997152*I circle        orientation-preserving\n",
      "1    0.931942124571741 - 2.46534760439685*I circle        orientation-preserving\n",
      "o9_43446(1,-1)\n",
      "mult length                           topology      parity\n",
      "1    0.795360570649260 - 2.86905573431720*I circle        orientation-preserving\n",
      "1    0.893388699249180 - 2.03631844997156*I circle        orientation-preserving\n",
      "1    0.931942124570630 + 2.46534760439719*I circle        orientation-preserving\n",
      "-------------\n",
      "o9_39433(2,1)\n",
      "mult length                           topology      parity\n",
      "1    0.908333289148161 + 2.91132295861943*I circle        orientation-preserving\n",
      "1    0.991461072913527 + 2.05266946152426*I circle        orientation-preserving\n",
      "1    0.994568957941286 + 1.09854596053287*I circle        orientation-preserving\n",
      "o9_40519(2,-1)\n",
      "mult length                           topology      parity\n",
      "1    0.908333289148441 + 2.91132295861955*I circle        orientation-preserving\n",
      "1    0.991461072913368 + 2.05266946152436*I circle        orientation-preserving\n",
      "1    0.994568957941236 + 1.09854596053285*I circle        orientation-preserving\n",
      "-------------\n",
      "v2869(3,-1)\n",
      "mult length                           topology      parity\n",
      "1    0.439218091339108 + 2.26367315603360*I circle        orientation-preserving\n",
      "1    0.701568006533345 + 1.57472784605754*I circle        orientation-preserving\n",
      "t12388(2,1)\n",
      "mult length                           topology      parity\n",
      "1    0.439218091338189 + 2.26367315603630*I circle        orientation-preserving\n",
      "1    0.701568006533207 + 1.57472784605686*I circle        orientation-preserving\n",
      "-------------\n",
      "t07281(3,-1)\n",
      "mult length                           topology      parity\n",
      "1    0.194578986962284 - 2.16408965377361*I circle        orientation-preserving\n",
      "1    0.529812488270163 + 3.03714993546261*I circle        orientation-preserving\n",
      "o9_34949(1,1)\n",
      "mult length                           topology      parity\n",
      "1    0.194578986962352 - 2.16408965377410*I circle        orientation-preserving\n",
      "1    0.529812488271864 + 3.03714993546358*I circle        orientation-preserving\n",
      "o9_39806(1,1)\n",
      "mult length                           topology      parity\n",
      "1    0.194578986961057 - 2.16408965377474*I circle        orientation-preserving\n",
      "1    0.529812488244324 + 3.03714993534407*I circle        orientation-preserving\n",
      "-------------\n",
      "o9_34949(1,1)\n",
      "mult length                           topology      parity\n",
      "1    0.194578986962352 - 2.16408965377410*I circle        orientation-preserving\n",
      "1    0.529812488271864 + 3.03714993546358*I circle        orientation-preserving\n",
      "o9_39806(1,1)\n",
      "mult length                           topology      parity\n",
      "1    0.194578986961057 - 2.16408965377474*I circle        orientation-preserving\n",
      "1    0.529812488244324 + 3.03714993534407*I circle        orientation-preserving\n",
      "-------------\n",
      "t10974(3,-1)\n",
      "mult length                           topology      parity\n",
      "1    0.303556843011110 - 2.19099179540170*I circle        orientation-preserving\n",
      "1    0.880249054079688 + 2.23899878520130*I circle        orientation-preserving\n",
      "o9_39967(2,-1)\n",
      "mult length                           topology      parity\n",
      "1    0.303556843010982 + 2.19099179540163*I circle        orientation-preserving\n",
      "1    0.880249054079329 - 2.23899878520152*I circle        orientation-preserving\n",
      "-------------\n",
      "t09735(1,-1)\n",
      "mult length                           topology      parity\n",
      "1    0.215767206473598 + 1.96606311285047*I circle        orientation-preserving\n",
      "1    0.721568366314434 - 1.15121298987555*I circle        orientation-preserving\n",
      "1    0.889442997212545 + 2.94185904702273*I circle        orientation-preserving\n",
      "t11748(1,1)\n",
      "mult length                           topology      parity\n",
      "1    0.215767206471963 + 1.96606311285151*I circle        orientation-preserving\n",
      "1    0.721568366314651 - 1.15121298987756*I circle        orientation-preserving\n",
      "1    0.889442997212501 + 2.94185904702259*I circle        orientation-preserving\n",
      "-------------\n",
      "t09900(2,1)\n",
      "mult length                           topology      parity\n",
      "1    0.306532622302444 - 2.02024517078159*I circle        orientation-preserving\n",
      "1    0.556545777284330 - 2.67578154329781*I circle        orientation-preserving\n",
      "o9_34908(1,-1)\n",
      "mult length                           topology      parity\n",
      "1    0.306532622298952 - 2.02024517078097*I circle        orientation-preserving\n",
      "1    0.556545777336804 - 2.67578154330598*I circle        orientation-preserving\n",
      "o9_43876(1,1)\n",
      "mult length                           topology      parity\n",
      "1    0.306532622302150 - 2.02024517078097*I circle        orientation-preserving\n",
      "1    0.556545777284307 - 2.67578154329776*I circle        orientation-preserving\n",
      "-------------\n",
      "o9_34908(1,-1)\n",
      "mult length                           topology      parity\n",
      "1    0.306532622298952 - 2.02024517078097*I circle        orientation-preserving\n",
      "1    0.556545777336804 - 2.67578154330598*I circle        orientation-preserving\n",
      "o9_43876(1,1)\n",
      "mult length                           topology      parity\n",
      "1    0.306532622302150 - 2.02024517078097*I circle        orientation-preserving\n",
      "1    0.556545777284307 - 2.67578154329776*I circle        orientation-preserving\n",
      "-------------\n",
      "t11900(4,1)\n",
      "mult length                           topology      parity\n",
      "1    0.515258462947954 - 1.38531790328777*I circle        orientation-preserving\n",
      "1    0.537327915109052 - 2.26137375017934*I circle        orientation-preserving\n"
     ]
    },
    {
     "name": "stdout",
     "output_type": "stream",
     "text": [
      "o9_40803(3,1)\n",
      "mult length                           topology      parity\n",
      "1    0.515258462947825 + 1.38531790328723*I circle        orientation-preserving\n",
      "1    0.537327915109287 + 2.26137375017886*I circle        orientation-preserving\n",
      "-------------\n",
      "o9_33833(1,1)\n",
      "mult length                           topology      parity\n",
      "1    0.289839709193995 - 1.96081354896931*I circle        orientation-preserving\n",
      "1    0.378504828950961 + 2.22052391894670*I circle        orientation-preserving\n",
      "1    0.901475419444761 + 1.24522212215954*I circle        orientation-preserving\n",
      "o9_37547(1,-1)\n",
      "mult length                           topology      parity\n",
      "1    0.289839709193527 - 1.96081354896970*I circle        orientation-preserving\n",
      "1    0.378504828950961 + 2.22052391894670*I circle        orientation-preserving\n",
      "1    0.901475419444761 + 1.24522212215951*I circle        orientation-preserving\n",
      "-------------\n"
     ]
    }
   ],
   "source": [
    "for y in pairs_with_same_volume:\n",
    "    for x in y:\n",
    "        K=snappy.Manifold(x)\n",
    "        K.dehn_fill(K.homological_longitude())\n",
    "        print(K)\n",
    "        print(K.length_spectrum(full_rigor=True))\n",
    "    print('-------------')"
   ]
  },
  {
   "cell_type": "markdown",
   "metadata": {},
   "source": [
    "So it seems that these are all comensurable, so the best way to distinguish them is via the fundamental group. \n",
    "\n",
    "Before we do that we actually search for an isometry:"
   ]
  },
  {
   "cell_type": "code",
   "execution_count": 47,
   "metadata": {},
   "outputs": [
    {
     "name": "stdout",
     "output_type": "stream",
     "text": [
      "['m199', 'o9_34801']\n",
      "[m199(-4,1)]\n",
      "[m199(-4,1)]\n",
      "------\n",
      "['m224', 'v3093']\n",
      "[]\n",
      "[]\n",
      "------\n",
      "['v2508', 'v3195']\n",
      "[m345(1,2)]\n",
      "[m345(1,2)]\n",
      "------\n",
      "['t11532', 't12200', 'o9_43446']\n",
      "[v2986(1,2)]\n",
      "[v2986(1,2)]\n",
      "[v2986(1,2)]\n",
      "------\n",
      "['t12200', 'o9_43446']\n",
      "[v2986(1,2)]\n",
      "[v2986(1,2)]\n",
      "------\n",
      "['o9_39433', 'o9_40519']\n",
      "[]\n",
      "[]\n",
      "------\n",
      "['v2869', 't12388']\n",
      "[v2209(2,3)]\n",
      "[v2209(2,3)]\n",
      "------\n",
      "['t07281', 'o9_34949', 'o9_39806']\n",
      "[]\n",
      "[]\n",
      "[]\n",
      "------\n",
      "['o9_34949', 'o9_39806']\n",
      "[]\n",
      "[]\n",
      "------\n",
      "['t10974', 'o9_39967']\n",
      "[s928(2,3)]\n",
      "[s928(2,3)]\n",
      "------\n",
      "['t09735', 't11748']\n",
      "[]\n",
      "[]\n",
      "------\n",
      "['t09900', 'o9_34908', 'o9_43876']\n",
      "[s528(-1,3)]\n",
      "[s528(-1,3)]\n",
      "[s528(-1,3)]\n",
      "------\n",
      "['o9_34908', 'o9_43876']\n",
      "[s528(-1,3)]\n",
      "[s528(-1,3)]\n",
      "------\n",
      "['t11900', 'o9_40803']\n",
      "[]\n",
      "[]\n",
      "------\n",
      "['o9_33833', 'o9_37547']\n",
      "[]\n",
      "[]\n",
      "------\n"
     ]
    }
   ],
   "source": [
    "for y in pairs_with_same_volume:\n",
    "    print(y)\n",
    "    for x in y:\n",
    "        K=snappy.Manifold(x)\n",
    "        K.dehn_fill(K.homological_longitude())\n",
    "        print(K.identify())\n",
    "    print('------')"
   ]
  },
  {
   "cell_type": "code",
   "execution_count": 51,
   "metadata": {},
   "outputs": [],
   "source": [
    "might_be_equal_with_same_volume=[['m224', 'v3093'],['o9_39433', 'o9_40519'],['t07281', 'o9_34949', 'o9_39806'],\n",
    "['t09735', 't11748'],['t11900', 'o9_40803'],['o9_33833', 'o9_37547']]"
   ]
  },
  {
   "cell_type": "code",
   "execution_count": 54,
   "metadata": {},
   "outputs": [
    {
     "name": "stdout",
     "output_type": "stream",
     "text": [
      "['m224', 'v3093']\n",
      "True\n",
      "------\n",
      "['o9_39433', 'o9_40519']\n",
      "True\n",
      "------\n",
      "['t07281', 'o9_34949', 'o9_39806']\n",
      "True\n",
      "True\n",
      "True\n",
      "------\n",
      "['t09735', 't11748']\n",
      "True\n",
      "------\n",
      "['t11900', 'o9_40803']\n",
      "True\n",
      "------\n",
      "['o9_33833', 'o9_37547']\n",
      "True\n",
      "------\n"
     ]
    }
   ],
   "source": [
    "for y in might_be_equal_with_same_volume:\n",
    "    print(y)\n",
    "    if len(y)==3:\n",
    "        K1=snappy.Manifold(y[0])\n",
    "        K1.dehn_fill(K1.homological_longitude())\n",
    "        K2=snappy.Manifold(y[1])\n",
    "        K2.dehn_fill(K2.homological_longitude())\n",
    "        K3=snappy.Manifold(y[2])\n",
    "        K3.dehn_fill(K3.homological_longitude())\n",
    "        print(K1.is_isometric_to(K2))\n",
    "        print(K1.is_isometric_to(K3))\n",
    "        print(K2.is_isometric_to(K3))\n",
    "    else:\n",
    "        K1=snappy.Manifold(y[0])\n",
    "        K1.dehn_fill(K1.homological_longitude())\n",
    "        K2=snappy.Manifold(y[1])\n",
    "        K2.dehn_fill(K2.homological_longitude())\n",
    "        print(K1.is_isometric_to(K2))\n",
    "    print('------') "
   ]
  },
  {
   "cell_type": "code",
   "execution_count": 55,
   "metadata": {},
   "outputs": [],
   "source": [
    "equal_hyperbolic_surgeries=[['m199', 'o9_34801'],['v2508', 'v3195'],['t11532', 't12200', 'o9_43446'],\n",
    "['v2869', 't12388'],['t10974', 'o9_39967'],['t09900', 'o9_34908', 'o9_43876'],['m224', 'v3093'],['o9_39433', 'o9_40519'],['t07281', 'o9_34949', 'o9_39806'],\n",
    "['t09735', 't11748'],['t11900', 'o9_40803'],['o9_33833', 'o9_37547']]"
   ]
  },
  {
   "cell_type": "markdown",
   "metadata": {},
   "source": [
    "So they are all equal.\n",
    "\n",
    "To summarize we found the following:\n",
    "\n",
    "(1) A list called 'equal_hyperbolic_surgeries' of knots that share the same hyperbolic 0-surgery.\n",
    "\n",
    "(2) A list called 'equal_exceptional_surgeries' of knots that share the same exceptional 0-surgery.\n",
    "\n",
    "(3) A list called 'might_be_the_same' of knots that might have the same hyperbolic 0-surgery.\n",
    "\n",
    "(4) A list called 'possible_equal_exceptional_surgeries' of knots that might have the same exceptional 0-surgery.\n",
    "\n",
    "These lists are below. In case (3) and (4) we can try to use regina. (Either use fundamental group or search directly for a combinatorial isomerphism.)\n"
   ]
  },
  {
   "cell_type": "code",
   "execution_count": 59,
   "metadata": {},
   "outputs": [
    {
     "data": {
      "text/plain": [
       "[['m199', 'o9_34801'],\n",
       " ['v2508', 'v3195'],\n",
       " ['t11532', 't12200', 'o9_43446'],\n",
       " ['v2869', 't12388'],\n",
       " ['t10974', 'o9_39967'],\n",
       " ['t09900', 'o9_34908', 'o9_43876'],\n",
       " ['m224', 'v3093'],\n",
       " ['o9_39433', 'o9_40519'],\n",
       " ['t07281', 'o9_34949', 'o9_39806'],\n",
       " ['t09735', 't11748'],\n",
       " ['t11900', 'o9_40803'],\n",
       " ['o9_33833', 'o9_37547']]"
      ]
     },
     "execution_count": 59,
     "metadata": {},
     "output_type": "execute_result"
    }
   ],
   "source": [
    "equal_hyperbolic_surgeries"
   ]
  },
  {
   "cell_type": "code",
   "execution_count": 60,
   "metadata": {},
   "outputs": [
    {
     "data": {
      "text/plain": [
       "[[['m201', 'SFS [S2: (2,1) (5,1) (10,-7)]'],\n",
       "  ['o9_34818', 'SFS [S2: (2,1) (5,1) (10,-7)]']],\n",
       " [['s239', 'SFS [D: (2,1) (2,1)] U/m SFS [D: (2,1) (3,1)], m = [ 5,1 | 4,1 ]'],\n",
       "  ['t11441',\n",
       "   'SFS [D: (2,1) (2,1)] U/m SFS [D: (2,1) (3,1)], m = [ 5,1 | 4,1 ]']],\n",
       " [['v0595', 'SFS [S2: (2,1) (7,2) (14,-11)]'],\n",
       "  ['t12120', 'SFS [S2: (2,1) (7,2) (14,-11)]']]]"
      ]
     },
     "execution_count": 60,
     "metadata": {},
     "output_type": "execute_result"
    }
   ],
   "source": [
    "equal_exceptional_surgeries"
   ]
  },
  {
   "cell_type": "code",
   "execution_count": 61,
   "metadata": {},
   "outputs": [
    {
     "data": {
      "text/plain": [
       "[['o9_22337', 'o9_41995'],\n",
       " ['t10887', 't11418'],\n",
       " ['t00027', 'o9_39339'],\n",
       " ['t05252', 'o9_19326'],\n",
       " ['o9_10654', 'o9_19831'],\n",
       " ['o9_31828', 'o9_37768'],\n",
       " ['v2272', 'v3423', 'v3536', 'o9_42735'],\n",
       " ['v2272', 't12607', 't12748', 'o9_41909', 'o9_42515']]"
      ]
     },
     "execution_count": 61,
     "metadata": {},
     "output_type": "execute_result"
    }
   ],
   "source": [
    "might_be_the_same"
   ]
  },
  {
   "cell_type": "code",
   "execution_count": 62,
   "metadata": {},
   "outputs": [
    {
     "data": {
      "text/plain": [
       "[[['s648',\n",
       "   \"JSJ([('SFSpace', 'SFS [A: (2,1)]'), ('SFSpace', 'SFS [A: (2,1)]')])\"],\n",
       "  ['v2001', 'SFS [A: (4,1)] / [ -1,3 | 1,-2 ]'],\n",
       "  ['v2743',\n",
       "   \"JSJ([('SFSpace', 'SFS [A: (2,1)]'), ('SFSpace', 'SFS [A: (2,1)]')])\"]],\n",
       " [['s726',\n",
       "   \"JSJ([('SFSpace', 'SFS [A: (2,1)]'), ('SFSpace', 'SFS [A: (2,1)]')])\"],\n",
       "  ['o9_34700',\n",
       "   \"JSJ([('SFSpace', 'SFS [A: (2,1)]'), ('SFSpace', 'SFS [A: (2,3)]')])\"]],\n",
       " [['v2284',\n",
       "   \"JSJ([('SFSpace', 'SFS [A: (2,1)]'), ('SFSpace', 'SFS [A: (3,2)]')])\"],\n",
       "  ['o9_34323',\n",
       "   \"JSJ([('SFSpace', 'SFS [A: (2,3)]'), ('SFSpace', 'SFS [A: (3,5)]')])\"]],\n",
       " [['o9_35240', \"JSJ([('SFSpace', 'M/n2 x~ S1'), ('hyperbolic', 'm043')])\"],\n",
       "  ['o9_36459', \"JSJ([('SFSpace', 'M/n2 x~ S1'), ('hyperbolic', 'm043')])\"]],\n",
       " [['v2362',\n",
       "   \"JSJ([('SFSpace', 'SFS [A: (2,1)]'), ('SFSpace', 'SFS [A: (3,1)]')])\"],\n",
       "  ['t00017', 'SFS [A: (6,1)] / [ 0,1 | 1,-2 ]'],\n",
       "  ['t08617',\n",
       "   \"JSJ([('SFSpace', 'SFS [A: (2,1)]'), ('SFSpace', 'SFS [A: (3,1)]')])\"],\n",
       "  ['t11577',\n",
       "   \"JSJ([('SFSpace', 'SFS [A: (2,1)]'), ('SFSpace', 'SFS [A: (3,2)]')])\"],\n",
       "  ['o9_36180',\n",
       "   \"JSJ([('SFSpace', 'SFS [A: (2,1)]'), ('SFSpace', 'SFS [A: (3,2)]')])\"],\n",
       "  ['o9_40361',\n",
       "   \"JSJ([('SFSpace', 'SFS [A: (2,3)]'), ('SFSpace', 'SFS [A: (3,5)]')])\"]],\n",
       " [['t05803',\n",
       "   \"JSJ([('SFSpace', 'SFS [A: (2,1)]'), ('SFSpace', 'SFS [A: (4,7)]')])\"],\n",
       "  ['o9_00022', 'SFS [A: (8,7)] / [ 0,1 | 1,-1 ]'],\n",
       "  ['o9_24670', 'SFS [A: (8,3)] / [ 2,5 | 1,2 ]']],\n",
       " [['t07734',\n",
       "   \"JSJ([('SFSpace', 'SFS [A: (3,1)]'), ('SFSpace', 'SFS [A: (3,1)]')])\"],\n",
       "  ['o9_36955',\n",
       "   \"JSJ([('SFSpace', 'SFS [A: (3,4)]'), ('SFSpace', 'SFS [A: (3,4)]')])\"]]]"
      ]
     },
     "execution_count": 62,
     "metadata": {},
     "output_type": "execute_result"
    }
   ],
   "source": [
    "possible_equal_exceptional_surgeries"
   ]
  },
  {
   "cell_type": "code",
   "execution_count": null,
   "metadata": {},
   "outputs": [],
   "source": []
  }
 ],
 "metadata": {
  "kernelspec": {
   "display_name": "SageMath 9.0",
   "language": "sage",
   "name": "sagemath"
  },
  "language_info": {
   "codemirror_mode": {
    "name": "ipython",
    "version": 3
   },
   "file_extension": ".py",
   "mimetype": "text/x-python",
   "name": "python",
   "nbconvert_exporter": "python",
   "pygments_lexer": "ipython3",
   "version": "3.8.10"
  }
 },
 "nbformat": 4,
 "nbformat_minor": 4
}
