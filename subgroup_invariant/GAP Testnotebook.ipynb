{
 "cells": [
  {
   "cell_type": "markdown",
   "metadata": {},
   "source": [
    "### Setting up computation for the subgroup invariant\n",
    "\n",
    "In his paper (...) Dunfield uses the following invariant for a group G:\n",
    "\n",
    "{([G:H], [G:N], H^ab, N^ab) | H<G and N=core(H)}\n",
    "\n",
    "\n",
    "This is a demonstration how to compute the invariant for a given group in GAP. (within Oscar)\n",
    "\n"
   ]
  },
  {
   "cell_type": "code",
   "execution_count": 3,
   "metadata": {},
   "outputs": [
    {
     "name": "stdout",
     "output_type": "stream",
     "text": [
      " -----    -----    -----      -      -----   \n",
      "|     |  |     |  |     |    | |    |     |  \n",
      "|     |  |        |         |   |   |     |  \n",
      "|     |   -----   |        |     |  |-----   \n",
      "|     |        |  |        |-----|  |   |    \n",
      "|     |  |     |  |     |  |     |  |    |   \n",
      " -----    -----    -----   -     -  -     -  \n",
      "\n",
      "...combining (and extending) ANTIC, GAP, Polymake and Singular\n",
      "Version\u001b[32m 0.11.3 \u001b[39m... \n",
      " ... which comes with absolutely no warranty whatsoever\n",
      "Type: '?Oscar' for more information\n",
      "(c) 2019-2023 by The OSCAR Development Team\n"
     ]
    }
   ],
   "source": [
    "using Oscar"
   ]
  },
  {
   "cell_type": "code",
   "execution_count": 5,
   "metadata": {},
   "outputs": [
    {
     "name": "stdout",
     "output_type": "stream",
     "text": [
      "\u001b[1m\u001b[34mgap> \u001b[0m\u001b[31m"
     ]
    }
   ],
   "source": [
    "GAP.prompt();"
   ]
  },
  {
   "cell_type": "code",
   "execution_count": 6,
   "metadata": {},
   "outputs": [
    {
     "ename": "LoadError",
     "evalue": "syntax: unsupported assignment operator \":=\"",
     "output_type": "error",
     "traceback": [
      "syntax: unsupported assignment operator \":=\"",
      "",
      "Stacktrace:",
      " [1] top-level scope",
      "   @ In[6]:8"
     ]
    }
   ],
   "source": [
    "# Testing Group, the fundamental group of m004.\n",
    "#\n",
    "# Generators:\n",
    "#   a,b\n",
    "# Relators:\n",
    "#   aaabABBAb\n",
    "#\n",
    "G := SymmetricGroup(3);\n"
   ]
  },
  {
   "cell_type": "code",
   "execution_count": null,
   "metadata": {},
   "outputs": [],
   "source": []
  }
 ],
 "metadata": {
  "kernelspec": {
   "display_name": "Julia 1.8.5",
   "language": "julia",
   "name": "julia-1.8"
  },
  "language_info": {
   "file_extension": ".jl",
   "mimetype": "application/julia",
   "name": "julia",
   "version": "1.8.5"
  }
 },
 "nbformat": 4,
 "nbformat_minor": 2
}
