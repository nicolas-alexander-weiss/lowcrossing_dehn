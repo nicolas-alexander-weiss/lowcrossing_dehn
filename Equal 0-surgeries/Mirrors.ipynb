{
 "cells": [
  {
   "cell_type": "markdown",
   "metadata": {},
   "source": [
    "In this notebook, we check if for some knots with at most 15 crossings the 0-surgery is isotopic to the 0-surgery of its mirror (if the knot is not amphicheiral)."
   ]
  },
  {
   "cell_type": "code",
   "execution_count": 1,
   "metadata": {},
   "outputs": [],
   "source": [
    "import snappy\n",
    "import csv\n",
    "import time\n",
    "\n",
    "def all_positive(manifold):\n",
    "    '''\n",
    "    Checks if the solution type of a triangulation is positive.\n",
    "    '''\n",
    "    return manifold.solution_type() == 'all tetrahedra positively oriented'\n",
    "\n",
    "def find_positive_triangulations(manifold,number=1,tries=100):\n",
    "    '''\n",
    "    Searches for one triangulation with a positive solution type.\n",
    "    (Or if number is set to a different value also for different such triangulations.)\n",
    "    '''\n",
    "    M = manifold.copy()\n",
    "    pos_triangulations=[]\n",
    "    for i in range(tries):\n",
    "        if all_positive(M):\n",
    "            pos_triangulations.append(M)\n",
    "            if len(pos_triangulations)==number:\n",
    "                return pos_triangulations\n",
    "            break\n",
    "        M.randomize()\n",
    "    for d in M.dual_curves(max_segments=500):\n",
    "        X = M.drill(d)\n",
    "        X = X.filled_triangulation()\n",
    "        X.dehn_fill((1,0),-1)\n",
    "        for i in range(tries):\n",
    "            if all_positive(X):\n",
    "                pos_triangulations.append(X)\n",
    "                if len(pos_triangulations)==number:\n",
    "                    return pos_triangulations\n",
    "                break\n",
    "            X.randomize()\n",
    "\n",
    "    # In the closed case, here is another trick.\n",
    "    if all(not c for c in M.cusp_info('is_complete')):\n",
    "        for i in range(tries):\n",
    "            # Drills out a random edge\n",
    "            X = M.__class__(M.filled_triangulation())\n",
    "            if all_positive(X):\n",
    "                pos_triangulations.append(X)\n",
    "                if len(pos_triangulations)==number:\n",
    "                    return pos_triangulations\n",
    "            break\n",
    "            M.randomize()\n",
    "    return pos_triangulations\n",
    "\n",
    "### CHECKING FOR ISOMETRIES\n",
    "\n",
    "def better_is_isometric_to(X,Y,return_isometries=False,index=100,try_hard=False):\n",
    "    \"\"\"\n",
    "    Returns True if X and Y are isometric.\n",
    "    Returns False if X and Y have different homologies.\n",
    "     \"\"\" \n",
    "    if return_isometries==False:\n",
    "        w='unclear'\n",
    "        if X.homology()!=Y.homology():\n",
    "            return False\n",
    "        for i in (0,index):\n",
    "            try:\n",
    "                w=X.is_isometric_to(Y)\n",
    "            except (RuntimeError,snappy.SnapPeaFatalError):\n",
    "                pass\n",
    "            if w==True:\n",
    "                return w\n",
    "            X.randomize()\n",
    "            Y.randomize()\n",
    "            i=i+1\n",
    "        if try_hard:\n",
    "            pos_triang_X=find_positive_triangulations(X,number=1,tries=index)\n",
    "            pos_triang_Y=find_positive_triangulations(Y,number=1,tries=index)\n",
    "            for X in pos_triang_X:\n",
    "                for Y in pos_triang_Y:\n",
    "                    w=better_is_isometric_to(X,Y,index=100,try_hard=False)\n",
    "                    if w==True:\n",
    "                        return w\n",
    "        return 'unclear'\n",
    "    if return_isometries==True:\n",
    "        w=False\n",
    "        if X.homology()!=Y.homology():\n",
    "            return []\n",
    "        for i in (0,index):\n",
    "            try:\n",
    "                w=X.is_isometric_to(Y,return_isometries)\n",
    "            except (RuntimeError,snappy.SnapPeaFatalError):\n",
    "                pass\n",
    "            if w!=False:\n",
    "                return w\n",
    "            X.randomize()\n",
    "            Y.randomize()\n",
    "            i=i+1\n",
    "        if try_hard:\n",
    "            pos_triang_X=find_positive_triangulations(X,number=10,tries=index)\n",
    "            pos_triang_Y=find_positive_triangulations(Y,number=10,tries=index)\n",
    "            for X in pos_triang_X:\n",
    "                for Y in pos_triang_Y:\n",
    "                    w=better_is_isometric_to(X,Y,return_isometries,index=100,try_hard=False)\n",
    "                    if w!=False:\n",
    "                        return w\n",
    "        return []\n",
    "    \n",
    "def orientation_preserving_isometric(M,N,index=100,try_hard=False):\n",
    "    '''\n",
    "    Searches for an orientation preserving isometry.\n",
    "    '''\n",
    "    for c in M.dual_curves(max_segments=500):\n",
    "        P=M.drill(c)\n",
    "        for d in N.dual_curves(max_segments=500):\n",
    "            Q=N.drill(d)\n",
    "            for isom in better_is_isometric_to(P,Q,return_isometries=True,index=index,try_hard=try_hard):\n",
    "                if isom.extends_to_link():\n",
    "                    if isom.cusp_maps()[0].determinant()==1:\n",
    "                        return True\n",
    "    return False\n",
    "\n",
    "### SYMMETRY GROUP\n",
    "\n",
    "def better_symmetry_group(M,index=100):\n",
    "    '''\n",
    "    This function computes the symmetry group of the input manifold. \n",
    "    If the second entry is True it is proven to be the symmetry group.\n",
    "    '''\n",
    "    pos_triang=find_positive_triangulations(M,tries=index)\n",
    "    if pos_triang==[]:\n",
    "        full=False\n",
    "        randomizeCount=0\n",
    "        while randomizeCount<index and full==False:\n",
    "            try:\n",
    "                S=M.symmetry_group()\n",
    "                full=S.is_full_group()\n",
    "                M.randomize()\n",
    "                randomizeCount=randomizeCount+1\n",
    "            except (ValueError, RuntimeError, snappy.SnapPeaFatalError):\n",
    "                M.randomize()\n",
    "                randomizeCount=randomizeCount+1\n",
    "        try:\n",
    "            return (S,full)\n",
    "        except NameError:\n",
    "            return ('unclear',False)\n",
    "    X=pos_triang[0]\n",
    "    full=False\n",
    "    randomizeCount=0\n",
    "    while randomizeCount<index and full==False:\n",
    "        try:\n",
    "            S=X.symmetry_group()\n",
    "            full=S.is_full_group()\n",
    "            X.randomize()\n",
    "            randomizeCount=randomizeCount+1\n",
    "        except (ValueError, RuntimeError, snappy.SnapPeaFatalError):\n",
    "            X.randomize()\n",
    "            randomizeCount=randomizeCount+1\n",
    "    if full==True:\n",
    "        return (S,full)\n",
    "    pos_triang=find_positive_triangulations(M,number=index,tries=index)\n",
    "    if pos_triang==[]:\n",
    "        try:\n",
    "            return (S,full)\n",
    "        except NameError:\n",
    "            return ('unclear',False)\n",
    "    for X in pos_triang:\n",
    "        full=False\n",
    "        randomizeCount=0\n",
    "        while randomizeCount<index and full==False:\n",
    "            try:\n",
    "                S=X.symmetry_group()\n",
    "                full=S.is_full_group()\n",
    "                X.randomize()\n",
    "                randomizeCount=randomizeCount+1\n",
    "            except (ValueError, RuntimeError, snappy.SnapPeaFatalError):\n",
    "                X.randomize()\n",
    "                randomizeCount=randomizeCount+1\n",
    "        if full==True:\n",
    "            return (S,full)\n",
    "    try:\n",
    "        return (S,full)\n",
    "    except NameError:\n",
    "        return ('unclear',False)"
   ]
  },
  {
   "cell_type": "markdown",
   "metadata": {},
   "source": [
    "It is known that the signature of a knot is vanishing if the 0-surgery agrees with the 0-surgery of its mirror. So we first sort out all knots with non-vanishing signature."
   ]
  },
  {
   "cell_type": "code",
   "execution_count": 2,
   "metadata": {},
   "outputs": [
    {
     "name": "stdout",
     "output_type": "stream",
     "text": [
      "Number of knots with vanishing signature: 80015\n",
      "Time taken: 9.11405477921168 minutes \n"
     ]
    }
   ],
   "source": [
    "start_time=time.time()\n",
    "signature_vanishing=[]\n",
    "\n",
    "for K in snappy.HTLinkExteriors(knots_vs_links='knots'):\n",
    "    D=K.link()\n",
    "    if D.signature()==0:\n",
    "        name=K.name()\n",
    "        signature_vanishing.append(name)\n",
    "        \n",
    "print('Number of knots with vanishing signature:',len(signature_vanishing))\n",
    "print('Time taken: %s minutes ' % ((time.time() - start_time)/60)) "
   ]
  },
  {
   "cell_type": "markdown",
   "metadata": {},
   "source": [
    "First we check which of these knots are isotopic to its mirror. (We can sort these out as well.) This we can do via SnapPy by looking at its symmetry group."
   ]
  },
  {
   "cell_type": "code",
   "execution_count": 3,
   "metadata": {},
   "outputs": [
    {
     "name": "stdout",
     "output_type": "stream",
     "text": [
      "Number of knots that are isotopic to its mirror: 353\n",
      "Time taken: 1.2427114844322205 minutes \n"
     ]
    }
   ],
   "source": [
    "start_time=time.time()\n",
    "isotopic_to_mirror=[]\n",
    "\n",
    "for knot in signature_vanishing:\n",
    "    K=snappy.Manifold(knot)\n",
    "    try:\n",
    "        S=K.symmetry_group()\n",
    "        if S.is_full_group():\n",
    "            if S.is_amphicheiral():\n",
    "                isotopic_to_mirror.append(knot)\n",
    "    except:\n",
    "        pass\n",
    "    \n",
    "print('Number of knots that are isotopic to its mirror:',len(isotopic_to_mirror))\n",
    "print('Time taken: %s minutes ' % ((time.time() - start_time)/60))    "
   ]
  },
  {
   "cell_type": "code",
   "execution_count": 4,
   "metadata": {},
   "outputs": [
    {
     "data": {
      "text/plain": [
       "79662"
      ]
     },
     "execution_count": 4,
     "metadata": {},
     "output_type": "execute_result"
    }
   ],
   "source": [
    "signature_vanishing_prob_non_amphicheiral=[x for x in signature_vanishing if x not in isotopic_to_mirror]\n",
    "len(signature_vanishing_prob_non_amphicheiral)"
   ]
  },
  {
   "cell_type": "markdown",
   "metadata": {},
   "source": [
    "We sort the remaining knots into these that have hyperbolic 0-surgery and these that have non-hyperbolic 0-surgeries. The non-hyperbolic cases can be handeled by looking at their regina names. "
   ]
  },
  {
   "cell_type": "code",
   "execution_count": 5,
   "metadata": {},
   "outputs": [
    {
     "data": {
      "text/plain": [
       "92"
      ]
     },
     "execution_count": 5,
     "metadata": {},
     "output_type": "execute_result"
    }
   ],
   "source": [
    "non_hyper_0_surg=['K3a1','K4a1','K5a1','K5a2','K6a3','K7a4','K7a6','K7a7','K8a11','K8a18','K8n1','K8n3','K9a27','K9a36','K9a40','K9a41','K9n5','K10a75','K10a117','K10n13','K10n21','K10n29','K11a247','K11a343','K11a362','K11a363','K11a367','K11n139','K11n141','K12a803','K12a1166','K12a1287','K12n121','K12n582','K12n721','K13a4843','K13a4856','K13a4873','K13a4878','K13n469','K13a3143','K13n3521','K13n3523','K13n3594','K13n3596','K13n3663','K13a4573','K13n4587','K13n4639','K14a12741','K14a17730','K14a19429','K14n3611','K14n18212','K14n19265','K14n21881','K14n21882','K14n22073','K14n22180','K14n22185','K14n22589','K14n24553','K14n26039','K15a54894','K15a78880','K15a84844','K15a84969','K15a85213','K15a85234','K15a85257','K15a85263','K15n19499','K15n40211','K15n41185','K15n43522','K15n48968','K15n51748','K15n59184','K15n72303','K15n112477','K15n112479','K15n113773','K15n113775','K15n113923','K15n115375','K15n115646','K15n124802','K15n142188','K15n153789','K15n156076','K15n160926','K15n164338']\n",
    "\n",
    "len(non_hyper_0_surg)"
   ]
  },
  {
   "cell_type": "code",
   "execution_count": 6,
   "metadata": {
    "scrolled": true
   },
   "outputs": [
    {
     "name": "stdout",
     "output_type": "stream",
     "text": [
      "Number of knots with non hyperbolic 0-surgery: 44\n",
      "Number of knots with hyperbolic 0-surgery: 79618\n"
     ]
    }
   ],
   "source": [
    "vanishing_signature_non_hyp=[]\n",
    "vanishing_signature_hyp=[]\n",
    "\n",
    "for knot in signature_vanishing_prob_non_amphicheiral:\n",
    "    if knot in non_hyper_0_surg:\n",
    "        vanishing_signature_non_hyp.append(knot)\n",
    "    else:\n",
    "        vanishing_signature_hyp.append(knot)\n",
    "        \n",
    "print('Number of knots with non hyperbolic 0-surgery:',len(vanishing_signature_non_hyp))\n",
    "print('Number of knots with hyperbolic 0-surgery:',len(vanishing_signature_hyp))"
   ]
  },
  {
   "cell_type": "markdown",
   "metadata": {},
   "source": [
    "We first look at the cases where the 0-surgeries are non-hyperbolic. For that we can look at their regina names."
   ]
  },
  {
   "cell_type": "code",
   "execution_count": 7,
   "metadata": {},
   "outputs": [
    {
     "data": {
      "text/plain": [
       "92"
      ]
     },
     "execution_count": 7,
     "metadata": {},
     "output_type": "execute_result"
    }
   ],
   "source": [
    "regina_names=[]\n",
    "\n",
    "with open('regina_names.csv', 'r') as file:\n",
    "    reader = csv.reader(file)\n",
    "    for row in reader:\n",
    "        regina_names.append(row)\n",
    "\n",
    "len(regina_names)"
   ]
  },
  {
   "cell_type": "code",
   "execution_count": 8,
   "metadata": {},
   "outputs": [
    {
     "name": "stdout",
     "output_type": "stream",
     "text": [
      "['K6a3', 'SFS [A: (2,1)] / [ 0,1 | 1,-2 ]']\n",
      "['K8a11', 'SFS [A: (3,1)] / [ 0,1 | 1,-2 ]']\n",
      "['K8n1', 'SFS [D: (2,1) (2,1)] U/m SFS [D: (3,1) (3,2)], m = [ 0,1 | 1,0 ]']\n",
      "['K9n5', 'SFS [A: (2,1)] / [ -1,3 | 1,-2 ]']\n",
      "['K10a75', 'SFS [A: (4,1)] / [ 0,1 | 1,-2 ]']\n",
      "['K10a117', \"JSJ[('SFSpace', 'SFS [A: (2,1)]'), ('SFSpace', 'SFS [A: (3,5)]')]\"]\n",
      "['K10n13', 'SFS [S2: (2,1) (5,1) (10,-7)]']\n",
      "['K10n29', 'SFS [D: (2,1) (2,1)] U/m SFS [D: (3,1) (3,2)], m = [ -1,2 | 0,1 ]']\n",
      "['K11n139', 'SFS [A: (2,1)] / [ 2,5 | 1,2 ]']\n",
      "['K11n141', \"JSJ[('hyperbolic', 'm125')]\"]\n",
      "['K12a803', 'SFS [A: (5,1)] / [ 0,1 | 1,-2 ]']\n",
      "['K12a1166', \"JSJ([('SFSpace', 'SFS [A: (2,1)]'), ('SFSpace', 'SFS [A: (4,1)]')])\"]\n",
      "['K12n121', 'SFS [D: (2,1) (2,1)] U/m SFS [D: (2,1) (3,1)], m = [ 5,1 | 4,1 ]']\n",
      "['K12n582', 'SFS [D: (2,1) (2,1)] U/m SFS [D: (3,1) (3,2)], m = [ -2,3 | -1,2 ]']\n",
      "['K12n721', \"JSJ[('SFSpace', 'SFS [D: (2,1) (2,-1)]'), ('hyperbolic', 'm043')]\"]\n",
      "['K13n469', \"JSJ[('SFSpace', 'SFS [D: (2,1) (2,-1)]'), ('hyperbolic', 'm004')]\"]\n",
      "['K13n3521', \"JSJ[('hyperbolic', 'm329')]\"]\n",
      "['K13n3523', 'SFS [A: (2,1)] / [ 2,7 | 1,3 ]']\n",
      "['K13n3594', \"JSJ[('hyperbolic', 'm292')]\"]\n",
      "['K13n3596', \"JSJ[('SFSpace', 'SFS [D: (2,1) (3,-2)]'), ('SFSpace', 'SFS [Or, g=0 + 3 punctures: (1,3)]')]\"]\n",
      "['K14a12741', 'SFS [A: (6,1)] / [ 0,1 | 1,-2 ]']\n",
      "['K14a17730', \"JSJ[('SFSpace', 'SFS [A: (2,1)]'), ('SFSpace', 'SFS [A: (5,9)]')]\"]\n",
      "['K14a19429', \"JSJ[('SFSpace', 'SFS [A: (3,4)]'), ('SFSpace', 'SFS [A: (4,1)]')]\"]\n",
      "['K14n3611', \"JSJ[('SFSpace', 'M/n2 x~ S1'), ('hyperbolic', 'm015')]\"]\n",
      "['K14n18212', 'SFS [D: (2,1) (2,1)] U/m SFS [D: (3,1) (3,2)], m = [ -3,4 | -2,3 ]']\n",
      "['K14n19265', \"JSJ[('hyperbolic', 'v3319')]\"]\n",
      "['K14n21882', 'SFS [D: (2,1) (2,1)] U/m SFS [D: (3,1) (6,1)], m = [ 1,1 | 0,1 ]']\n",
      "['K14n22180', \"JSJ[('SFSpace', 'SFS [D: (2,1) (3,-2)]'), ('SFSpace', 'SFS [Or, g=0 + 3 punctures: (1,1)]')]\"]\n",
      "['K14n22185', \"JSJ[('SFSpace', 'SFS [D: (2,1) (2,-1)]'), ('hyperbolic', 'm137')]\"]\n",
      "['K14n22589', \"JSJ[('hyperbolic', 'm129')]\"]\n",
      "['K14n24553', \"JSJ[('SFSpace', 'SFS [D: (2,1) (2,-1)]'), ('hyperbolic', 's663')]\"]\n",
      "['K15n19499', \"JSJ[('SFSpace', 'SFS [D: (2,1) (2,-1)]'), ('hyperbolic', 'm032')]\"]\n",
      "['K15n48968', \"JSJ[('SFSpace', 'M/n2 x~ S1'), ('hyperbolic', 'v2817')]\"]\n",
      "['K15n51748', \"JSJ[('SFSpace', 'SFS [D: (2,1) (2,-1)]'), ('hyperbolic', 'm137')]\"]\n",
      "['K15n72303', \"JSJ[('SFSpace', 'M/n2 x~ S1'), ('hyperbolic', 's493')]\"]\n",
      "['K15n112477', \"JSJ[('hyperbolic', 's503')]\"]\n",
      "['K15n112479', 'SFS [A: (2,1)] / [ 2,9 | 1,4 ]']\n",
      "['K15n113773', \"JSJ[('hyperbolic', 's843')]\"]\n",
      "['K15n113775', \"JSJ[('hyperbolic', 'm129')]\"]\n",
      "['K15n113923', \"JSJ[('hyperbolic', 's441')]\"]\n",
      "['K15n115375', \"JSJ[('hyperbolic', 'm129')]\"]\n",
      "['K15n115646', \"JSJ[('SFSpace', 'SFS [D: (2,1) (3,-2)]'), ('SFSpace', 'SFS [Or, g=0 + 3 punctures: (1,1)]')]\"]\n",
      "['K15n153789', \"JSJ[('SFSpace', 'SFS [D: (2,1) (2,-1)]'), ('hyperbolic', 'm032')]\"]\n",
      "['K15n164338', \"JSJ[('hyperbolic', 's906')]\"]\n"
     ]
    }
   ],
   "source": [
    "for knot in vanishing_signature_non_hyp:\n",
    "    for x in regina_names:\n",
    "        if x[0]==knot:\n",
    "            print(x)"
   ]
  },
  {
   "cell_type": "markdown",
   "metadata": {},
   "source": [
    "If there exists an orientation-reversing diffeomorphism it is isotopic to one that preserves the JSJ decomposition. And in particular there exist orientation reversing-diffeomorphisms of all JSJ pieces. If the piece is a SFS then we can use the classification of SFS with orientation-reversing diffeomorhphisms Section 8 in (https://www.maths.ed.ac.uk/~v1ranick/papers/neumraym.pdf). Thus we can read-off from the regina names directly if a SFS has an orientation-reversing diffeomorphism. By sorting out the SFS that have no orientation-reversing diffeomorphism we are left with the following spaces which all have at least one hyperbolic piece in their JSJ decomposition. We can use SnapPy to check which of these pieces admits an orientation-reversing diffeomorphism."
   ]
  },
  {
   "cell_type": "markdown",
   "metadata": {},
   "source": [
    "['K11n141', \"JSJ[('hyperbolic', 'm125')]\"]\n",
    "\n",
    "['K12n721', \"JSJ[('SFSpace', 'SFS [D: (2,1) (2,-1)]'), ('hyperbolic', 'm043')]\"]\n",
    "\n",
    "['K13n469', \"JSJ[('SFSpace', 'SFS [D: (2,1) (2,-1)]'), ('hyperbolic', 'm004')]\"]\n",
    "\n",
    "['K13n3521', \"JSJ[('hyperbolic', 'm329')]\"]\n",
    "\n",
    "['K13n3594', \"JSJ[('hyperbolic', 'm292')]\"]\n",
    "\n",
    "['K14n3611', \"JSJ[('SFSpace', 'M/n2 x~ S1'), ('hyperbolic', 'm015')]\"]\n",
    "\n",
    "['K14n19265', \"JSJ[('hyperbolic', 'v3319')]\"]\n",
    "\n",
    "['K14n22185', \"JSJ[('SFSpace', 'SFS [D: (2,1) (2,-1)]'), ('hyperbolic', 'm137')]\"]\n",
    "\n",
    "['K14n22589', \"JSJ[('hyperbolic', 'm129')]\"]\n",
    "\n",
    "['K14n24553', \"JSJ[('SFSpace', 'SFS [D: (2,1) (2,-1)]'), ('hyperbolic', 's663')]\"]\n",
    "\n",
    "['K15n19499', \"JSJ[('SFSpace', 'SFS [D: (2,1) (2,-1)]'), ('hyperbolic', 'm032')]\"]\n",
    "\n",
    "['K15n48968', \"JSJ[('SFSpace', 'M/n2 x~ S1'), ('hyperbolic', 'v2817')]\"]\n",
    "\n",
    "['K15n51748', \"JSJ[('SFSpace', 'SFS [D: (2,1) (2,-1)]'), ('hyperbolic', 'm137')]\"]\n",
    "\n",
    "['K15n72303', \"JSJ[('SFSpace', 'M/n2 x~ S1'), ('hyperbolic', 's493')]\"]\n",
    "\n",
    "['K15n112477', \"JSJ[('hyperbolic', 's503')]\"]\n",
    "\n",
    "['K15n113773', \"JSJ[('hyperbolic', 's843')]\"]\n",
    "\n",
    "['K15n113775', \"JSJ[('hyperbolic', 'm129')]\"]\n",
    "\n",
    "['K15n113923', \"JSJ[('hyperbolic', 's441')]\"]\n",
    "\n",
    "['K15n115375', \"JSJ[('hyperbolic', 'm129')]\"]\n",
    "\n",
    "['K15n153789', \"JSJ[('SFSpace', 'SFS [D: (2,1) (2,-1)]'), ('hyperbolic', 'm032')]\"]\n",
    "\n",
    "['K15n164338', \"JSJ[('hyperbolic', 's906')]\"]"
   ]
  },
  {
   "cell_type": "code",
   "execution_count": 9,
   "metadata": {},
   "outputs": [],
   "source": [
    "hyperbolic_pieces_to_check=[['K11n141', 'm125'], ['K12n721', 'm043'], ['K13n469', 'm004'], ['K13n3521', 'm329'], ['K13n3594', 'm292'], ['K14n3611', 'm015'], ['K14n19265', 'v3319'], ['K14n22185', 'm137'], ['K14n22589', 'm129'], ['K14n24553', 's663'], ['K15n19499', 'm032'], ['K15n48968', 'v2817'], ['K15n51748', 'm137'], ['K15n72303', 's493'], ['K15n112477', 's503'], ['K15n113773', 's843'], ['K15n113775', 'm129'], ['K15n113923', 's441'], ['K15n115375', 'm129'], ['K15n153789', 'm032'], ['K15n164338', 's906']]"
   ]
  },
  {
   "cell_type": "code",
   "execution_count": 10,
   "metadata": {
    "scrolled": true
   },
   "outputs": [
    {
     "name": "stdout",
     "output_type": "stream",
     "text": [
      "Knots whose 0-surgery might admit an orientation-reversing diffeo: ['K13n469']\n"
     ]
    }
   ],
   "source": [
    "knots_whose_0_surgery_might_admit_reversing_diffeo=[]\n",
    "\n",
    "for [knot,mfd] in hyperbolic_pieces_to_check:\n",
    "    M=snappy.Manifold(mfd)\n",
    "    S=M.symmetry_group()\n",
    "    if S.is_amphicheiral():\n",
    "        knots_whose_0_surgery_might_admit_reversing_diffeo.append(knot)\n",
    "print('Knots whose 0-surgery might admit an orientation-reversing diffeo:',knots_whose_0_surgery_might_admit_reversing_diffeo)"
   ]
  },
  {
   "cell_type": "markdown",
   "metadata": {},
   "source": [
    "So the only possible knot is K13n469 whose 0-surgery is exceptional and given by gluing SFS [D: (2,1) (2,-1)] to the figure eight knot complement m004. Both pieces admit an orientation-reversing diffeomorphism. But we still need to check that the whole manifold does so. This can be done via explicit Kirby calculus methods."
   ]
  },
  {
   "cell_type": "markdown",
   "metadata": {},
   "source": [
    "Next, we look at the hyperbolic cases. Here we check with SnapPy if any of these 0-surgeries admits a diffeomorphism that reverses the orientation."
   ]
  },
  {
   "cell_type": "code",
   "execution_count": 30,
   "metadata": {},
   "outputs": [
    {
     "data": {
      "text/plain": [
       "'K13a1'"
      ]
     },
     "execution_count": 30,
     "metadata": {},
     "output_type": "execute_result"
    }
   ],
   "source": [
    "vanishing_signature_hyp[752]"
   ]
  },
  {
   "cell_type": "code",
   "execution_count": 31,
   "metadata": {
    "scrolled": true
   },
   "outputs": [
    {
     "name": "stdout",
     "output_type": "stream",
     "text": [
      "Number of knots checked: 0\n",
      "Time taken so far: 0.00023618539174397786 minutes \n",
      "Number of knots checked: 100\n",
      "Time taken so far: 0.3899544358253479 minutes \n",
      "Number of knots checked: 200\n",
      "Time taken so far: 0.6178849498430888 minutes \n",
      "Number of knots checked: 300\n",
      "Time taken so far: 2.8077648878097534 minutes \n",
      "Number of knots checked: 400\n",
      "Time taken so far: 17.08988211552302 minutes \n",
      "Number of knots checked: 500\n",
      "Time taken so far: 118.39791238307953 minutes \n",
      "Number of knots checked: 600\n",
      "Time taken so far: 118.58289406696956 minutes \n",
      "Number of knots checked: 700\n",
      "Time taken so far: 118.65750206708908 minutes \n",
      "Number of knots that have 0-surgery isotopic to its mirror: 0\n",
      "Number of knots where we could not compute the symmetry group of the 0-surgery: 0\n",
      "Time taken: 118.73113818566004 minutes \n"
     ]
    }
   ],
   "source": [
    "start_time=time.time()\n",
    "surgery_isotopic_to_mirror=[]\n",
    "unclear_symmetry_group=[]\n",
    "\n",
    "for knot in vanishing_signature_hyp[:751]:\n",
    "    K=snappy.Manifold(knot)\n",
    "    K.dehn_fill((0,1))\n",
    "    [S,w]=better_symmetry_group(K,index=100)\n",
    "    if w==True:\n",
    "        if S.is_amphicheiral():\n",
    "            print('We found a knot whose 0-surgery IS isotopic to its mirror:',knot)\n",
    "            surgery_isotopic_to_mirror.append(knot)\n",
    "    if w!=True:\n",
    "        print('We could NOT compute the symmetry group of the 0-surgery of:',knot)\n",
    "        unclear_symmetry_group.append(knot)\n",
    "    if vanishing_signature_hyp.index(knot)%100==0:\n",
    "        print('Number of knots checked:',vanishing_signature_hyp.index(knot))\n",
    "        print('Time taken so far: %s minutes ' % ((time.time() - start_time)/60))  \n",
    "\n",
    "print('Number of knots that have 0-surgery isotopic to its mirror:',len(surgery_isotopic_to_mirror))\n",
    "print('Number of knots where we could not compute the symmetry group of the 0-surgery:',len(unclear_symmetry_group))\n",
    "print('Time taken: %s minutes ' % ((time.time() - start_time)/60))   "
   ]
  },
  {
   "cell_type": "code",
   "execution_count": null,
   "metadata": {},
   "outputs": [],
   "source": []
  }
 ],
 "metadata": {
  "kernelspec": {
   "display_name": "SageMath 9.6",
   "language": "sage",
   "name": "sagemath-9.6"
  },
  "language_info": {
   "codemirror_mode": {
    "name": "ipython",
    "version": 3
   },
   "file_extension": ".py",
   "mimetype": "text/x-python",
   "name": "python",
   "nbconvert_exporter": "python",
   "pygments_lexer": "ipython3",
   "version": "3.10.3"
  }
 },
 "nbformat": 4,
 "nbformat_minor": 4
}
