{
 "cells": [
  {
   "cell_type": "markdown",
   "id": "eaef3e92",
   "metadata": {},
   "source": [
    "In this notebook, we check if for the census knots the 0-surgery is isotopic to the 0-surgery of its mirror (if the knot is not amphicheiral)."
   ]
  },
  {
   "cell_type": "code",
   "execution_count": 1,
   "id": "5804b3ef",
   "metadata": {},
   "outputs": [],
   "source": [
    "import snappy\n",
    "import csv\n",
    "import time\n",
    "\n",
    "def all_positive(manifold):\n",
    "    '''\n",
    "    Checks if the solution type of a triangulation is positive.\n",
    "    '''\n",
    "    return manifold.solution_type() == 'all tetrahedra positively oriented'\n",
    "\n",
    "def find_positive_triangulations(manifold,number=1,tries=100):\n",
    "    '''\n",
    "    Searches for one triangulation with a positive solution type.\n",
    "    (Or if number is set to a different value also for different such triangulations.)\n",
    "    '''\n",
    "    M = manifold.copy()\n",
    "    pos_triangulations=[]\n",
    "    for i in range(tries):\n",
    "        if all_positive(M):\n",
    "            pos_triangulations.append(M)\n",
    "            if len(pos_triangulations)==number:\n",
    "                return pos_triangulations\n",
    "            break\n",
    "        M.randomize()\n",
    "    for d in M.dual_curves(max_segments=500):\n",
    "        X = M.drill(d)\n",
    "        X = X.filled_triangulation()\n",
    "        X.dehn_fill((1,0),-1)\n",
    "        for i in range(tries):\n",
    "            if all_positive(X):\n",
    "                pos_triangulations.append(X)\n",
    "                if len(pos_triangulations)==number:\n",
    "                    return pos_triangulations\n",
    "                break\n",
    "            X.randomize()\n",
    "\n",
    "    # In the closed case, here is another trick.\n",
    "    if all(not c for c in M.cusp_info('is_complete')):\n",
    "        for i in range(tries):\n",
    "            # Drills out a random edge\n",
    "            X = M.__class__(M.filled_triangulation())\n",
    "            if all_positive(X):\n",
    "                pos_triangulations.append(X)\n",
    "                if len(pos_triangulations)==number:\n",
    "                    return pos_triangulations\n",
    "            break\n",
    "            M.randomize()\n",
    "    return pos_triangulations\n",
    "\n",
    "### CHECKING FOR ISOMETRIES\n",
    "\n",
    "def better_is_isometric_to(X,Y,return_isometries=False,index=100,try_hard=False):\n",
    "    \"\"\"\n",
    "    Returns True if X and Y are isometric.\n",
    "    Returns False if X and Y have different homologies.\n",
    "     \"\"\" \n",
    "    if return_isometries==False:\n",
    "        w='unclear'\n",
    "        if X.homology()!=Y.homology():\n",
    "            return False\n",
    "        for i in (0,index):\n",
    "            try:\n",
    "                w=X.is_isometric_to(Y)\n",
    "            except (RuntimeError,snappy.SnapPeaFatalError):\n",
    "                pass\n",
    "            if w==True:\n",
    "                return w\n",
    "            X.randomize()\n",
    "            Y.randomize()\n",
    "            i=i+1\n",
    "        if try_hard:\n",
    "            pos_triang_X=find_positive_triangulations(X,number=1,tries=index)\n",
    "            pos_triang_Y=find_positive_triangulations(Y,number=1,tries=index)\n",
    "            for X in pos_triang_X:\n",
    "                for Y in pos_triang_Y:\n",
    "                    w=better_is_isometric_to(X,Y,index=100,try_hard=False)\n",
    "                    if w==True:\n",
    "                        return w\n",
    "        return 'unclear'\n",
    "    if return_isometries==True:\n",
    "        w=False\n",
    "        if X.homology()!=Y.homology():\n",
    "            return []\n",
    "        for i in (0,index):\n",
    "            try:\n",
    "                w=X.is_isometric_to(Y,return_isometries)\n",
    "            except (RuntimeError,snappy.SnapPeaFatalError):\n",
    "                pass\n",
    "            if w!=False:\n",
    "                return w\n",
    "            X.randomize()\n",
    "            Y.randomize()\n",
    "            i=i+1\n",
    "        if try_hard:\n",
    "            pos_triang_X=find_positive_triangulations(X,number=10,tries=index)\n",
    "            pos_triang_Y=find_positive_triangulations(Y,number=10,tries=index)\n",
    "            for X in pos_triang_X:\n",
    "                for Y in pos_triang_Y:\n",
    "                    w=better_is_isometric_to(X,Y,return_isometries,index=100,try_hard=False)\n",
    "                    if w!=False:\n",
    "                        return w\n",
    "        return []\n",
    "    \n",
    "def orientation_preserving_isometric(M,N,index=100,try_hard=False):\n",
    "    '''\n",
    "    Searches for an orientation preserving isometry.\n",
    "    '''\n",
    "    for c in M.dual_curves(max_segments=500):\n",
    "        P=M.drill(c)\n",
    "        for d in N.dual_curves(max_segments=500):\n",
    "            Q=N.drill(d)\n",
    "            for isom in better_is_isometric_to(P,Q,return_isometries=True,index=index,try_hard=try_hard):\n",
    "                if isom.extends_to_link():\n",
    "                    if isom.cusp_maps()[0].determinant()==1:\n",
    "                        return True\n",
    "    return False\n",
    "\n",
    "### SYMMETRY GROUP\n",
    "\n",
    "def better_symmetry_group(M,index=100):\n",
    "    '''\n",
    "    This function computes the symmetry group of the input manifold. \n",
    "    If the second entry is True it is proven to be the symmetry group.\n",
    "    '''\n",
    "    pos_triang=find_positive_triangulations(M,tries=index)\n",
    "    if pos_triang==[]:\n",
    "        full=False\n",
    "        randomizeCount=0\n",
    "        while randomizeCount<index and full==False:\n",
    "            try:\n",
    "                S=M.symmetry_group()\n",
    "                full=S.is_full_group()\n",
    "                M.randomize()\n",
    "                randomizeCount=randomizeCount+1\n",
    "            except (ValueError, RuntimeError, snappy.SnapPeaFatalError):\n",
    "                M.randomize()\n",
    "                randomizeCount=randomizeCount+1\n",
    "        try:\n",
    "            return (S,full)\n",
    "        except NameError:\n",
    "            return ('unclear',False)\n",
    "    X=pos_triang[0]\n",
    "    full=False\n",
    "    randomizeCount=0\n",
    "    while randomizeCount<index and full==False:\n",
    "        try:\n",
    "            S=X.symmetry_group()\n",
    "            full=S.is_full_group()\n",
    "            X.randomize()\n",
    "            randomizeCount=randomizeCount+1\n",
    "        except (ValueError, RuntimeError, snappy.SnapPeaFatalError):\n",
    "            X.randomize()\n",
    "            randomizeCount=randomizeCount+1\n",
    "    if full==True:\n",
    "        return (S,full)\n",
    "    pos_triang=find_positive_triangulations(M,number=index,tries=index)\n",
    "    if pos_triang==[]:\n",
    "        try:\n",
    "            return (S,full)\n",
    "        except NameError:\n",
    "            return ('unclear',False)\n",
    "    for X in pos_triang:\n",
    "        full=False\n",
    "        randomizeCount=0\n",
    "        while randomizeCount<index and full==False:\n",
    "            try:\n",
    "                S=X.symmetry_group()\n",
    "                full=S.is_full_group()\n",
    "                X.randomize()\n",
    "                randomizeCount=randomizeCount+1\n",
    "            except (ValueError, RuntimeError, snappy.SnapPeaFatalError):\n",
    "                X.randomize()\n",
    "                randomizeCount=randomizeCount+1\n",
    "        if full==True:\n",
    "            return (S,full)\n",
    "    try:\n",
    "        return (S,full)\n",
    "    except NameError:\n",
    "        return ('unclear',False)"
   ]
  },
  {
   "cell_type": "code",
   "execution_count": 2,
   "id": "10aee723",
   "metadata": {},
   "outputs": [
    {
     "data": {
      "text/plain": [
       "1267"
      ]
     },
     "execution_count": 2,
     "metadata": {},
     "output_type": "execute_result"
    }
   ],
   "source": [
    "signatures=[]\n",
    "\n",
    "with open('signature.csv', 'r') as file:\n",
    "    reader = csv.reader(file)\n",
    "    for row in reader:\n",
    "        signatures.append(row)\n",
    "signatures=signatures[1:]\n",
    "len(signatures)"
   ]
  },
  {
   "cell_type": "code",
   "execution_count": 3,
   "id": "4aeee6c2",
   "metadata": {},
   "outputs": [
    {
     "name": "stdout",
     "output_type": "stream",
     "text": [
      "Number of knots with vanishing signature: 139\n",
      "Time taken: 6.282329559326172e-06 minutes \n"
     ]
    }
   ],
   "source": [
    "start_time=time.time()\n",
    "signature_vanishing=[]\n",
    "\n",
    "for [knot,sig] in signatures:\n",
    "    if int(sig)==0:\n",
    "        signature_vanishing.append(knot)\n",
    "        \n",
    "print('Number of knots with vanishing signature:',len(signature_vanishing))\n",
    "print('Time taken: %s minutes ' % ((time.time() - start_time)/60)) "
   ]
  },
  {
   "cell_type": "code",
   "execution_count": 4,
   "id": "0f9a1d1e",
   "metadata": {},
   "outputs": [
    {
     "name": "stdout",
     "output_type": "stream",
     "text": [
      "Number of knots that are isotopic to its mirror: 5\n",
      "Time taken: 0.0009117841720581055 minutes \n"
     ]
    }
   ],
   "source": [
    "start_time=time.time()\n",
    "isotopic_to_mirror=[]\n",
    "\n",
    "for knot in signature_vanishing:\n",
    "    K=snappy.Manifold(knot)\n",
    "    try:\n",
    "        S=K.symmetry_group()\n",
    "        if S.is_full_group():\n",
    "            if S.is_amphicheiral():\n",
    "                isotopic_to_mirror.append(knot)\n",
    "    except:\n",
    "        pass\n",
    "    \n",
    "print('Number of knots that are isotopic to its mirror:',len(isotopic_to_mirror))\n",
    "print('Time taken: %s minutes ' % ((time.time() - start_time)/60)) "
   ]
  },
  {
   "cell_type": "code",
   "execution_count": 5,
   "id": "7dc9b6ec",
   "metadata": {},
   "outputs": [
    {
     "data": {
      "text/plain": [
       "134"
      ]
     },
     "execution_count": 5,
     "metadata": {},
     "output_type": "execute_result"
    }
   ],
   "source": [
    "signature_vanishing_prob_non_amphicheiral=[x for x in signature_vanishing if x not in isotopic_to_mirror]\n",
    "len(signature_vanishing_prob_non_amphicheiral)"
   ]
  },
  {
   "cell_type": "markdown",
   "id": "113a443b",
   "metadata": {},
   "source": [
    "We check which of these have hyperbolic and which non-hyperbolic 0-surgeries."
   ]
  },
  {
   "cell_type": "code",
   "execution_count": 6,
   "id": "8d966562",
   "metadata": {},
   "outputs": [
    {
     "data": {
      "text/plain": [
       "205823"
      ]
     },
     "execution_count": 6,
     "metadata": {},
     "output_type": "execute_result"
    }
   ],
   "source": [
    "exceptional_fillings=[]\n",
    "with open('exceptional_fillings.csv', 'r') as file:\n",
    "    reader = csv.reader(file)\n",
    "    for row in reader:\n",
    "        exceptional_fillings.append(row)\n",
    "len(exceptional_fillings)"
   ]
  },
  {
   "cell_type": "code",
   "execution_count": 7,
   "id": "74613bac",
   "metadata": {},
   "outputs": [
    {
     "name": "stdout",
     "output_type": "stream",
     "text": [
      "Number of knots with non hyperbolic 0-surgery: 56\n",
      "Number of knots with hyperbolic 0-surgery: 78\n",
      "Time taken: 0.05833717187245687 minutes \n"
     ]
    }
   ],
   "source": [
    "start_time = time.time()\n",
    "\n",
    "vanishing_signature_non_hyp=[]\n",
    "vanishing_signature_hyp=[]\n",
    "\n",
    "for name in signature_vanishing_prob_non_amphicheiral:\n",
    "    K=snappy.Manifold(name)\n",
    "    zero_slope=K.homological_longitude()\n",
    "    hyperbolic=True\n",
    "    for x in exceptional_fillings:\n",
    "        if x[-2]==name:\n",
    "            if x[-1]==str(zero_slope):\n",
    "                vanishing_signature_non_hyp.append([name,x[2]])\n",
    "                hyperbolic=False\n",
    "            if x[-1]==str((-zero_slope[0],-zero_slope[1])):\n",
    "                vanishing_signature_non_hyp.append([name,x[2]])\n",
    "                hyperbolic=False\n",
    "\n",
    "vanishing_signature_hyp=[x for x in signature_vanishing_prob_non_amphicheiral if x not in [y[0] for y in vanishing_signature_non_hyp]]\n",
    "\n",
    "print('Number of knots with non hyperbolic 0-surgery:',len(vanishing_signature_non_hyp))\n",
    "print('Number of knots with hyperbolic 0-surgery:',len(vanishing_signature_hyp))\n",
    "print('Time taken: %s minutes ' % ((time.time() - start_time)/60))"
   ]
  },
  {
   "cell_type": "markdown",
   "id": "2ccee02e",
   "metadata": {},
   "source": [
    "We first look at the cases where the 0-surgeries are non-hyperbolic. For that we can look at their regina names. "
   ]
  },
  {
   "cell_type": "code",
   "execution_count": 8,
   "id": "23a5a585",
   "metadata": {},
   "outputs": [
    {
     "data": {
      "text/plain": [
       "[['m032', 'SFS [A: (2,1)] / [ 0,1 | 1,-2 ]'],\n",
       " ['m074', 'SFS [A: (3,1)] / [ 0,1 | 1,-2 ]'],\n",
       " ['m201', 'SFS [S2: (2,1) (5,1) (10,-7)]'],\n",
       " ['m222', 'SFS [D: (2,1) (2,1)] U/m SFS [D: (3,1) (3,2)], m = [ 0,1 | 1,0 ]'],\n",
       " ['m372', 'SFS [A: (2,1)] / [ -1,3 | 1,-2 ]'],\n",
       " ['s016', 'SFS [A: (4,1)] / [ 0,1 | 1,-2 ]'],\n",
       " ['s239', 'SFS [D: (2,1) (2,1)] U/m SFS [D: (2,1) (3,1)], m = [ 5,1 | 4,1 ]'],\n",
       " ['s704', 'SFS [D: (2,1) (2,1)] U/m SFS [D: (3,1) (3,2)], m = [ -1,2 | 0,1 ]'],\n",
       " ['s879', 'SFS [A: (2,1)] / [ 2,5 | 1,2 ]'],\n",
       " ['v0016', 'SFS [A: (5,1)] / [ 0,1 | 1,-2 ]'],\n",
       " ['v0321',\n",
       "  'SFS [D: (2,1) (3,1)] U/m SFS [D: (2,1) (10,7)], m = [ 0,1 | 1,0 ]'],\n",
       " ['v1971', 'SFS [D: (2,1) (2,1)] U/m SFS [D: (5,2) (5,3)], m = [ 0,1 | 1,0 ]'],\n",
       " ['v2257', 'SFS [A: (5,2)] / [ -1,3 | 1,-2 ]'],\n",
       " ['v2272', \"JSJ([('SFSpace', 'M/n2 x~ S1'), ('hyperbolic', 'm004')])\"],\n",
       " ['v2362',\n",
       "  \"JSJ([('SFSpace', 'SFS [A: (2,1)]'), ('SFSpace', 'SFS [A: (3,1)]')])\"],\n",
       " ['v2543',\n",
       "  'SFS [D: (2,1) (2,1)] U/m SFS [D: (3,1) (3,2)], m = [ -2,3 | -1,2 ]'],\n",
       " ['v2861', 'SFS [A: (2,1)] / [ 2,7 | 1,3 ]'],\n",
       " ['t00017', 'SFS [A: (6,1)] / [ 0,1 | 1,-2 ]'],\n",
       " ['t01142', 'SFS [S2: (3,1) (5,2) (15,-11)]'],\n",
       " ['t02019', 'SFS [S2: (2,1) (9,2) (18,-13)]'],\n",
       " ['t05252', 'SFS [A: (8,3)] / [ -1,3 | 1,-2 ]'],\n",
       " ['t05899',\n",
       "  \"JSJ([('SFSpace', 'SFS [A: (2,1)]'), ('SFSpace', 'SFS [A: (4,1)]')])\"],\n",
       " ['t07599',\n",
       "  'SFS [D: (2,1) (2,1)] U/m SFS [D: (3,1) (3,2)], m = [ -3,4 | -2,3 ]'],\n",
       " ['t08306', 'SFS [A: (2,1)] / [ 2,9 | 1,4 ]'],\n",
       " ['t08617',\n",
       "  \"JSJ([('SFSpace', 'SFS [A: (2,1)]'), ('SFSpace', 'SFS [A: (3,1)]')])\"],\n",
       " ['t10887',\n",
       "  'SFS [D: (2,1) (2,1)] U/m SFS [D: (5,2) (5,3)], m = [ -1,2 | 0,1 ]'],\n",
       " ['t11418', \"JSJ([('SFSpace', 'M/n2 x~ S1'), ('hyperbolic', 'm043')])\"],\n",
       " ['t11441',\n",
       "  'SFS [D: (2,1) (2,1)] U/m SFS [D: (2,1) (3,1)], m = [ 5,1 | 4,1 ]'],\n",
       " ['t11577',\n",
       "  \"JSJ([('SFSpace', 'SFS [A: (2,1)]'), ('SFSpace', 'SFS [A: (3,2)]')])\"],\n",
       " ['t11898',\n",
       "  \"JSJ([('SFSpace', 'SFS [D: (2,1) (3,-2)]'), ('SFSpace', 'SFS [Or, g=0 + 3 punctures: (1,1)]')])\"],\n",
       " ['o9_00017', 'SFS [A: (7,1)] / [ 0,1 | 1,-2 ]'],\n",
       " ['o9_04139', 'SFS [S2: (3,1) (7,2) (21,-13)]'],\n",
       " ['o9_10817', 'SFS [A: (11,4)] / [ -1,3 | 1,-2 ]'],\n",
       " ['o9_12414',\n",
       "  'SFS [D: (2,1) (2,1)] U/m SFS [D: (7,3) (7,4)], m = [ 0,1 | 1,0 ]'],\n",
       " ['o9_13273',\n",
       "  \"JSJ([('SFSpace', 'SFS [A: (2,1)]'), ('SFSpace', 'SFS [A: (5,4)]')])\"],\n",
       " ['o9_16248',\n",
       "  'SFS [D: (2,1) (2,1)] U/m SFS [D: (3,1) (6,1)], m = [ 1,1 | 0,1 ]'],\n",
       " ['o9_19326',\n",
       "  \"JSJ([('SFSpace', 'SFS [A: (2,3)]'), ('SFSpace', 'SFS [A: (4,5)]')])\"],\n",
       " ['o9_20458',\n",
       "  \"JSJ([('SFSpace', 'SFS [A: (3,2)]'), ('SFSpace', 'SFS [A: (4,1)]')])\"],\n",
       " ['o9_20894',\n",
       "  'SFS [D: (2,1) (2,1)] U/m SFS [D: (3,1) (3,2)], m = [ -4,5 | -3,4 ]'],\n",
       " ['o9_22066', 'SFS [A: (2,1)] / [ 2,11 | 1,5 ]'],\n",
       " ['o9_22951',\n",
       "  \"JSJ([('SFSpace', 'SFS [D: (3,1) (3,-1)]'), ('hyperbolic', 'm004')])\"],\n",
       " ['o9_24293', 'SFS [A: (7,3)] / [ 2,5 | 1,2 ]'],\n",
       " ['o9_27542', \"JSJ([('SFSpace', 'M/n2 x~ S1'), ('hyperbolic', 'm015')])\"],\n",
       " ['o9_31828', \"JSJ([('SFSpace', 'M/n2 x~ S1'), ('hyperbolic', 'm032')])\"],\n",
       " ['o9_33568', \"JSJ([('SFSpace', 'M/n2 x~ S1'), ('hyperbolic', 'm015')])\"],\n",
       " ['o9_34700',\n",
       "  \"JSJ([('SFSpace', 'SFS [A: (2,1)]'), ('SFSpace', 'SFS [A: (2,3)]')])\"],\n",
       " ['o9_34818', 'SFS [S2: (2,1) (5,1) (10,-7)]'],\n",
       " ['o9_35240', \"JSJ([('SFSpace', 'M/n2 x~ S1'), ('hyperbolic', 'm043')])\"],\n",
       " ['o9_36180',\n",
       "  \"JSJ([('SFSpace', 'SFS [A: (2,1)]'), ('SFSpace', 'SFS [A: (3,2)]')])\"],\n",
       " ['o9_36459', \"JSJ([('SFSpace', 'M/n2 x~ S1'), ('hyperbolic', 'm043')])\"],\n",
       " ['o9_36955',\n",
       "  \"JSJ([('SFSpace', 'SFS [A: (3,4)]'), ('SFSpace', 'SFS [A: (3,4)]')])\"],\n",
       " ['o9_37618',\n",
       "  'SFS [D: (2,1) (2,1)] U/m SFS [D: (5,2) (5,3)], m = [ -2,3 | -1,2 ]'],\n",
       " ['o9_37768', \"JSJ([('SFSpace', 'M/n2 x~ S1'), ('hyperbolic', 'm032')])\"],\n",
       " ['o9_37795', \"JSJ([('hyperbolic', 'm125')])\"],\n",
       " ['o9_39285',\n",
       "  \"JSJ([('SFSpace', 'SFS [A: (2,1)]'), ('SFSpace', 'SFS [A: (2,1)]'), ('SFSpace', 'SFS [A: (2,1)]')])\"],\n",
       " ['o9_40361',\n",
       "  \"JSJ([('SFSpace', 'SFS [A: (2,3)]'), ('SFSpace', 'SFS [A: (3,5)]')])\"]]"
      ]
     },
     "execution_count": 8,
     "metadata": {},
     "output_type": "execute_result"
    }
   ],
   "source": [
    "vanishing_signature_non_hyp"
   ]
  },
  {
   "cell_type": "markdown",
   "id": "de249707",
   "metadata": {},
   "source": [
    "If there exists an orientation-reversing diffeomorphism it is isotopic to one that preserves the JSJ decomposition. And in particular there exist orientation reversing-diffeomorphisms of all JSJ pieces. If the piece is a SFS then we can use the classification of SFS with orientation-reversing diffeomorhphisms Section 8 in (https://www.maths.ed.ac.uk/~v1ranick/papers/neumraym.pdf). Thus we can read-off from the regina names directly if a SFS has an orientation-reversing diffeomorphism. By sorting out the SFS that have no orientation-reversing diffeomorphism we are left with the following spaces which all have at least one hyperbolic piece in their JSJ decomposition. We can use SnapPy to check which of these pieces admits an orientation-reversing diffeomorphism."
   ]
  },
  {
   "cell_type": "markdown",
   "id": "0ad6b0ff",
   "metadata": {},
   "source": [
    "['v2272', \"JSJ([('SFSpace', 'M/n2 x~ S1'), ('hyperbolic', 'm004')])\"],\n",
    "    \n",
    "['t11418', \"JSJ([('SFSpace', 'M/n2 x~ S1'), ('hyperbolic', 'm043')])\"],\n",
    " \n",
    "['o9_22951', \"JSJ([('SFSpace', 'SFS [D: (3,1) (3,-1)]'), ('hyperbolic', 'm004')])\"],\n",
    "\n",
    "['o9_27542', \"JSJ([('SFSpace', 'M/n2 x~ S1'), ('hyperbolic', 'm015')])\"],\n",
    "    \n",
    "['o9_31828', \"JSJ([('SFSpace', 'M/n2 x~ S1'), ('hyperbolic', 'm032')])\"],\n",
    "\n",
    "['o9_33568', \"JSJ([('SFSpace', 'M/n2 x~ S1'), ('hyperbolic', 'm015')])\"],\n",
    "    \n",
    "['o9_35240', \"JSJ([('SFSpace', 'M/n2 x~ S1'), ('hyperbolic', 'm043')])\"],\n",
    " \n",
    "['o9_36459', \"JSJ([('SFSpace', 'M/n2 x~ S1'), ('hyperbolic', 'm043')])\"],\n",
    " \n",
    "['o9_37768', \"JSJ([('SFSpace', 'M/n2 x~ S1'), ('hyperbolic', 'm032')])\"],\n",
    "\n",
    "['o9_37795', \"JSJ([('hyperbolic', 'm125')])\"],\n",
    " "
   ]
  },
  {
   "cell_type": "code",
   "execution_count": 9,
   "id": "515c765c",
   "metadata": {},
   "outputs": [],
   "source": [
    "hyperbolic_pieces_to_check=[['v2272', 'm004'],\n",
    "['t11418', 'm043'],\n",
    "['o9_22951', 'm004'],\n",
    "['o9_27542', 'm015'],\n",
    "['o9_31828', 'm032'],\n",
    "['o9_33568', 'm015'],\n",
    "['o9_35240', 'm043'],\n",
    "['o9_36459', 'm043'],\n",
    "['o9_37768', 'm032'],\n",
    "['o9_37795', 'm125']]                      "
   ]
  },
  {
   "cell_type": "code",
   "execution_count": 10,
   "id": "93bfbaaa",
   "metadata": {},
   "outputs": [
    {
     "name": "stdout",
     "output_type": "stream",
     "text": [
      "Knots whose 0-surgery might admit an orientation-reversing diffeo: ['v2272', 'o9_22951']\n"
     ]
    }
   ],
   "source": [
    "knots_whose_0_surgery_might_admit_reversing_diffeo=[]\n",
    "\n",
    "for [knot,mfd] in hyperbolic_pieces_to_check:\n",
    "    M=snappy.Manifold(mfd)\n",
    "    S=M.symmetry_group()\n",
    "    if S.is_amphicheiral():\n",
    "        knots_whose_0_surgery_might_admit_reversing_diffeo.append(knot)\n",
    "print('Knots whose 0-surgery might admit an orientation-reversing diffeo:',knots_whose_0_surgery_might_admit_reversing_diffeo)"
   ]
  },
  {
   "cell_type": "code",
   "execution_count": 11,
   "id": "1434eb4b",
   "metadata": {},
   "outputs": [
    {
     "data": {
      "text/plain": [
       "[v2272(0,0), K7_85(0,0), K13n469(0,0)]"
      ]
     },
     "execution_count": 11,
     "metadata": {},
     "output_type": "execute_result"
    }
   ],
   "source": [
    "snappy.Manifold('v2272').identify()"
   ]
  },
  {
   "cell_type": "code",
   "execution_count": 12,
   "id": "7c9ed834",
   "metadata": {},
   "outputs": [
    {
     "data": {
      "text/plain": [
       "[o9_22951(0,0), K9_321(0,0)]"
      ]
     },
     "execution_count": 12,
     "metadata": {},
     "output_type": "execute_result"
    }
   ],
   "source": [
    "snappy.Manifold('o9_22951').identify()"
   ]
  },
  {
   "cell_type": "markdown",
   "id": "2eb73c9e",
   "metadata": {},
   "source": [
    "So there are two census knots where we need to check if their 0-surgeries are isotopic to their mirros. The first one is the low-crossing knot we already know. We need to handle the second one.\n",
    "\n",
    "Next, we look at the hyperbolic cases. Here we check with SnapPy if any of these 0-surgeries admits a diffeomorphism that reverses the orientation."
   ]
  },
  {
   "cell_type": "code",
   "execution_count": 13,
   "id": "ece25701",
   "metadata": {},
   "outputs": [
    {
     "name": "stdout",
     "output_type": "stream",
     "text": [
      "Number of knots checked: 0\n",
      "Time taken so far: 0.00011261701583862305 minutes \n",
      "We could NOT compute the symmetry group of the 0-surgery of: t00577\n",
      "Number of knots checked: 10\n",
      "Time taken so far: 0.9047165195147197 minutes \n",
      "We found a knot whose 0-surgery IS isotopic to its mirror: t11462\n",
      "Number of knots checked: 20\n",
      "Time taken so far: 0.9053692181905111 minutes \n",
      "Number of knots checked: 30\n",
      "Time taken so far: 0.906231701374054 minutes \n",
      "Number of knots checked: 40\n",
      "Time taken so far: 0.915086583296458 minutes \n",
      "Number of knots checked: 50\n",
      "Time taken so far: 0.9159841497739156 minutes \n",
      "Number of knots checked: 60\n",
      "Time taken so far: 0.9174893339474995 minutes \n",
      "We found a knot whose 0-surgery IS isotopic to its mirror: o9_41058\n",
      "Number of knots checked: 70\n",
      "Time taken so far: 0.918166704972585 minutes \n",
      "Number of knots that have 0-surgery isotopic to its mirror: 2\n",
      "Number of knots where we could not compute the symmetry group of the 0-surgery: 1\n",
      "Time taken: 0.9189776698748271 minutes \n"
     ]
    }
   ],
   "source": [
    "start_time=time.time()\n",
    "surgery_isotopic_to_mirror=[]\n",
    "unclear_symmetry_group=[]\n",
    "\n",
    "for knot in vanishing_signature_hyp:\n",
    "    K=snappy.Manifold(knot)\n",
    "    K.dehn_fill(K.homological_longitude())\n",
    "    [S,w]=better_symmetry_group(K,index=100)\n",
    "    if w==True:\n",
    "        if S.is_amphicheiral():\n",
    "            print('We found a knot whose 0-surgery IS isotopic to its mirror:',knot)\n",
    "            surgery_isotopic_to_mirror.append(knot)\n",
    "    if w!=True:\n",
    "        print('We could NOT compute the symmetry group of the 0-surgery of:',knot)\n",
    "        unclear_symmetry_group.append(knot)\n",
    "    if vanishing_signature_hyp.index(knot)%10==0:\n",
    "        print('Number of knots checked:',vanishing_signature_hyp.index(knot))\n",
    "        print('Time taken so far: %s minutes ' % ((time.time() - start_time)/60))  \n",
    "\n",
    "print('Number of knots that have 0-surgery isotopic to its mirror:',len(surgery_isotopic_to_mirror))\n",
    "print('Number of knots where we could not compute the symmetry group of the 0-surgery:',len(unclear_symmetry_group))\n",
    "print('Time taken: %s minutes ' % ((time.time() - start_time)/60))  "
   ]
  },
  {
   "cell_type": "markdown",
   "id": "1985c722",
   "metadata": {},
   "source": [
    "For the knot K with unclear symmetry group, we use the following strategy to compute the symmetry group:\n",
    "\n",
    "We consider the 0-filling K(0,1) and drill out dual curve to get a 1-cusped manifold T.\n",
    "\n",
    "Then we compute the FPS bound on T and check if the filling that gives back K(0,1) on T is not small with respect to that bound. Then it follows that the symmetry group of T equals the symmetry group of K(0,1)."
   ]
  },
  {
   "cell_type": "code",
   "execution_count": 14,
   "id": "552bef89",
   "metadata": {},
   "outputs": [],
   "source": [
    "def better_systole(M,index=100,try_hard=False,cutoff=1.0):\n",
    "    '''\n",
    "    Computes the systole of a manifold. \n",
    "    It returns False if SnapPy cannot compute the systole.\n",
    "    '''\n",
    "    randomizeCount=0\n",
    "    while randomizeCount<index:\n",
    "        try:\n",
    "            systole=M.length_spectrum(cutoff)[0].length.real() \n",
    "            return systole\n",
    "        except IndexError:\n",
    "            length=2\n",
    "            while length<10:\n",
    "                try:\n",
    "                    systole=better_systole(M,index=100,try_hard=False,cutoff=length) \n",
    "                    if systole!=False:\n",
    "                        return systole\n",
    "                except (RuntimeError, snappy.SnapPeaFatalError):\n",
    "                    length=10\n",
    "                except IndexError:\n",
    "                    length=length+1\n",
    "        except (RuntimeError, snappy.SnapPeaFatalError):\n",
    "            M.randomize()\n",
    "            randomizeCount=randomizeCount+1\n",
    "    if try_hard==True:\n",
    "        pos_triang=find_positive_triangulations(M,number=index,tries=index)\n",
    "        for X in pos_triang:\n",
    "            systole=better_systole(X,index)\n",
    "            if systole!=False:\n",
    "                return systole\n",
    "    return False \n",
    "\n",
    "def Bound(systole):\n",
    "    '''\n",
    "    Takes as input a systole and computes the bound from FPS19.\n",
    "    '''\n",
    "    B= math.sqrt(2*math.pi/systole +58)\n",
    "    if 10.1>B:\n",
    "        return 10.101\n",
    "    else:\n",
    "        return B+0.001\n",
    "\n",
    "def small_slopes(knot,bound):\n",
    "    '''\n",
    "    Returns all hyperbolic slopes of the given knot with length less than the given bound.\n",
    "    '''\n",
    "    K=snappy.Manifold(knot)\n",
    "    return [s for s in K.short_slopes(length=bound*math.sqrt(K.cusp_areas()[0]))[0]]"
   ]
  },
  {
   "cell_type": "code",
   "execution_count": 15,
   "id": "a587f121",
   "metadata": {},
   "outputs": [
    {
     "data": {
      "text/plain": [
       "['t00577']"
      ]
     },
     "execution_count": 15,
     "metadata": {},
     "output_type": "execute_result"
    }
   ],
   "source": [
    "unclear_symmetry_group"
   ]
  },
  {
   "cell_type": "code",
   "execution_count": 16,
   "id": "7e139006",
   "metadata": {},
   "outputs": [
    {
     "name": "stdout",
     "output_type": "stream",
     "text": [
      "t00577(6,1) Z\n"
     ]
    }
   ],
   "source": [
    "K=snappy.Manifold('t00577')\n",
    "K.dehn_fill(K.homological_longitude())\n",
    "print(K,K.homology())"
   ]
  },
  {
   "cell_type": "code",
   "execution_count": 17,
   "id": "7e24d0b9",
   "metadata": {},
   "outputs": [],
   "source": [
    "P=K.drill(0)\n",
    "T=P.filled_triangulation()"
   ]
  },
  {
   "cell_type": "code",
   "execution_count": 18,
   "id": "dd23ab3c",
   "metadata": {},
   "outputs": [
    {
     "data": {
      "text/plain": [
       "Z/2"
      ]
     },
     "execution_count": 18,
     "metadata": {},
     "output_type": "execute_result"
    }
   ],
   "source": [
    "S=T.symmetry_group()\n",
    "S"
   ]
  },
  {
   "cell_type": "code",
   "execution_count": 19,
   "id": "a0f27283",
   "metadata": {},
   "outputs": [
    {
     "data": {
      "text/plain": [
       "False"
      ]
     },
     "execution_count": 19,
     "metadata": {},
     "output_type": "execute_result"
    }
   ],
   "source": [
    "S.is_amphicheiral()"
   ]
  },
  {
   "cell_type": "code",
   "execution_count": 20,
   "id": "a5335bcd",
   "metadata": {},
   "outputs": [],
   "source": [
    "for s in small_slopes(T,Bound(better_systole(T))):\n",
    "    T.dehn_fill(s)\n",
    "    if T.homology()==K.homology():\n",
    "        print(T,T.homology())"
   ]
  },
  {
   "cell_type": "markdown",
   "id": "3f29f31e",
   "metadata": {},
   "source": [
    "Thus this knot has a 0-surgery that does not admit an orientation-reversing diffeomorphism. We verify that the knots we found are really not isotopic to their mirrors."
   ]
  },
  {
   "cell_type": "code",
   "execution_count": 21,
   "id": "da1522ed",
   "metadata": {},
   "outputs": [
    {
     "data": {
      "text/plain": [
       "['t11462', 'o9_41058']"
      ]
     },
     "execution_count": 21,
     "metadata": {},
     "output_type": "execute_result"
    }
   ],
   "source": [
    "surgery_isotopic_to_mirror"
   ]
  },
  {
   "cell_type": "code",
   "execution_count": 22,
   "id": "4e248f0b",
   "metadata": {},
   "outputs": [
    {
     "data": {
      "text/plain": [
       "['v2272', 'o9_22951']"
      ]
     },
     "execution_count": 22,
     "metadata": {},
     "output_type": "execute_result"
    }
   ],
   "source": [
    "knots_whose_0_surgery_might_admit_reversing_diffeo"
   ]
  },
  {
   "cell_type": "code",
   "execution_count": 23,
   "id": "3a2f2fc8",
   "metadata": {},
   "outputs": [
    {
     "name": "stdout",
     "output_type": "stream",
     "text": [
      "t11462 <Link: 1 comp; 20 cross>\n",
      "Jones: q^-4 - 2*q^-2 + 3 - 2*q^2 + 2*q^4 - q^6 + q^8 - q^10 - q^14 + q^16 - q^18 + q^20\n",
      "o9_41058 <Link: 1 comp; 26 cross>\n",
      "Jones: q^-26 - q^-24 + q^-22 - q^-20 - q^-16 + q^-14 - q^-12 + q^-10 + q^-4 - 2*q^-2 + 3 - 2*q^2 + q^4\n",
      "v2272 <Link: 1 comp; 13 cross>\n",
      "Jones: q^-14 - q^-12 + q^-10 - q^-8 - q^-2 + 2 - q^2 + q^4\n",
      "o9_22951 <Link: 1 comp; 31 cross>\n",
      "Jones: q^-28 - q^-26 + q^-24 - q^-22 + q^-20 - q^-18 - q^-12 + q^-10 - q^-8 + q^-6 + 1 - q^2 + q^4\n"
     ]
    }
   ],
   "source": [
    "for knot in surgery_isotopic_to_mirror+knots_whose_0_surgery_might_admit_reversing_diffeo:\n",
    "    K=snappy.Manifold(knot)\n",
    "    D=K.exterior_to_link()\n",
    "    D.simplify('global')\n",
    "    print(knot,D)\n",
    "    print('Jones:',D.jones_polynomial())"
   ]
  },
  {
   "cell_type": "markdown",
   "id": "1b542597",
   "metadata": {},
   "source": [
    "The Jones polynomials are all not symmetric and thus the knots are not isotopic to their mirrors.\n",
    "\n",
    "We also remark that these knots have 0 as a symmetry exceptional slope. We confirm this."
   ]
  },
  {
   "cell_type": "code",
   "execution_count": 24,
   "id": "37986f0b",
   "metadata": {},
   "outputs": [
    {
     "data": {
      "text/plain": [
       "Z/2"
      ]
     },
     "execution_count": 24,
     "metadata": {},
     "output_type": "execute_result"
    }
   ],
   "source": [
    "K=snappy.Manifold('t11462')\n",
    "S=K.symmetry_group()\n",
    "S"
   ]
  },
  {
   "cell_type": "code",
   "execution_count": 25,
   "id": "9b61494b",
   "metadata": {},
   "outputs": [
    {
     "data": {
      "text/plain": [
       "False"
      ]
     },
     "execution_count": 25,
     "metadata": {},
     "output_type": "execute_result"
    }
   ],
   "source": [
    "S.is_amphicheiral()"
   ]
  },
  {
   "cell_type": "code",
   "execution_count": 26,
   "id": "9f77539d",
   "metadata": {},
   "outputs": [
    {
     "data": {
      "text/plain": [
       "t11462(3,1)"
      ]
     },
     "execution_count": 26,
     "metadata": {},
     "output_type": "execute_result"
    }
   ],
   "source": [
    "K.dehn_fill(K.homological_longitude())\n",
    "K"
   ]
  },
  {
   "cell_type": "code",
   "execution_count": 27,
   "id": "bb7061a1",
   "metadata": {},
   "outputs": [
    {
     "data": {
      "text/plain": [
       "D4"
      ]
     },
     "execution_count": 27,
     "metadata": {},
     "output_type": "execute_result"
    }
   ],
   "source": [
    "S=K.symmetry_group()\n",
    "S"
   ]
  },
  {
   "cell_type": "code",
   "execution_count": 28,
   "id": "ad3718e4",
   "metadata": {},
   "outputs": [
    {
     "data": {
      "text/plain": [
       "True"
      ]
     },
     "execution_count": 28,
     "metadata": {},
     "output_type": "execute_result"
    }
   ],
   "source": [
    "S.is_amphicheiral()"
   ]
  },
  {
   "cell_type": "code",
   "execution_count": 29,
   "id": "8279fbf0",
   "metadata": {},
   "outputs": [
    {
     "data": {
      "text/plain": [
       "0"
      ]
     },
     "execution_count": 29,
     "metadata": {},
     "output_type": "execute_result"
    }
   ],
   "source": [
    "K=snappy.Manifold('o9_41058')\n",
    "S=K.symmetry_group()\n",
    "S"
   ]
  },
  {
   "cell_type": "code",
   "execution_count": 30,
   "id": "97b42b80",
   "metadata": {},
   "outputs": [
    {
     "data": {
      "text/plain": [
       "o9_41058(3,-1)"
      ]
     },
     "execution_count": 30,
     "metadata": {},
     "output_type": "execute_result"
    }
   ],
   "source": [
    "K.dehn_fill(K.homological_longitude())\n",
    "K"
   ]
  },
  {
   "cell_type": "code",
   "execution_count": 31,
   "id": "a87c7038",
   "metadata": {},
   "outputs": [
    {
     "data": {
      "text/plain": [
       "Z/2"
      ]
     },
     "execution_count": 31,
     "metadata": {},
     "output_type": "execute_result"
    }
   ],
   "source": [
    "S=K.symmetry_group()\n",
    "S"
   ]
  },
  {
   "cell_type": "code",
   "execution_count": 32,
   "id": "8f1ca17c",
   "metadata": {},
   "outputs": [
    {
     "data": {
      "text/plain": [
       "True"
      ]
     },
     "execution_count": 32,
     "metadata": {},
     "output_type": "execute_result"
    }
   ],
   "source": [
    "S.is_amphicheiral()"
   ]
  },
  {
   "cell_type": "code",
   "execution_count": null,
   "id": "78da2b6b",
   "metadata": {},
   "outputs": [],
   "source": []
  }
 ],
 "metadata": {
  "kernelspec": {
   "display_name": "SageMath 9.6",
   "language": "sage",
   "name": "sagemath-9.6"
  },
  "language_info": {
   "codemirror_mode": {
    "name": "ipython",
    "version": 3
   },
   "file_extension": ".py",
   "mimetype": "text/x-python",
   "name": "python",
   "nbconvert_exporter": "python",
   "pygments_lexer": "ipython3",
   "version": "3.10.3"
  }
 },
 "nbformat": 4,
 "nbformat_minor": 5
}
