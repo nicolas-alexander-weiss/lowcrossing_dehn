{
 "cells": [
  {
   "cell_type": "markdown",
   "id": "19ef5197",
   "metadata": {},
   "source": [
    "In this notebook we check which census knots share the same 0-surgery with a low crossing knot (of at most 15 crossings).\n",
    "\n",
    "We first create a list of all Alexander polynomials of census knots and check which low crossing knots have equal Alexander polynomials."
   ]
  },
  {
   "cell_type": "code",
   "execution_count": 1,
   "id": "a13afbe4",
   "metadata": {},
   "outputs": [],
   "source": [
    "import snappy\n",
    "import time\n",
    "import csv\n",
    "import itertools\n",
    "import pickle\n",
    "\n",
    "def all_positive(manifold):\n",
    "    '''\n",
    "    Checks if the solution type of a triangulation is positive.\n",
    "    '''\n",
    "    return manifold.solution_type() == 'all tetrahedra positively oriented'\n",
    "\n",
    "def find_positive_triangulations(manifold,number=1,tries=100):\n",
    "    '''\n",
    "    Searches for one triangulation with a positive solution type.\n",
    "    (Or if number is set to a different value also for different such triangulations.)\n",
    "    '''\n",
    "    M = manifold.copy()\n",
    "    pos_triangulations=[]\n",
    "    for i in range(tries):\n",
    "        if all_positive(M):\n",
    "            pos_triangulations.append(M)\n",
    "            if len(pos_triangulations)==number:\n",
    "                return pos_triangulations\n",
    "            break\n",
    "        M.randomize()\n",
    "    for d in M.dual_curves(max_segments=500):\n",
    "        X = M.drill(d)\n",
    "        X = X.filled_triangulation()\n",
    "        X.dehn_fill((1,0),-1)\n",
    "        for i in range(tries):\n",
    "            if all_positive(X):\n",
    "                pos_triangulations.append(X)\n",
    "                if len(pos_triangulations)==number:\n",
    "                    return pos_triangulations\n",
    "                break\n",
    "            X.randomize()\n",
    "\n",
    "    # In the closed case, here is another trick.\n",
    "    if all(not c for c in M.cusp_info('is_complete')):\n",
    "        for i in range(tries):\n",
    "            # Drills out a random edge\n",
    "            X = M.__class__(M.filled_triangulation())\n",
    "            if all_positive(X):\n",
    "                pos_triangulations.append(X)\n",
    "                if len(pos_triangulations)==number:\n",
    "                    return pos_triangulations\n",
    "            break\n",
    "            M.randomize()\n",
    "    return pos_triangulations\n",
    "\n",
    "def better_volume(M,index=100,try_hard=False):\n",
    "    '''Computes the verified volume. Returns 0 if SnapPy could not do it.'''\n",
    "    count=0\n",
    "    while count<index:\n",
    "        try:\n",
    "            return M.volume(verified=True)\n",
    "        except:\n",
    "            M.randomize()\n",
    "            count=count+1\n",
    "    if try_hard==True:\n",
    "        pos_triang=find_positive_triangulations(M,number=index,tries=index)\n",
    "        for X in pos_triang:\n",
    "            vol=better_volume(X,index)\n",
    "            if vol!=0:\n",
    "                return vol\n",
    "    return 0\n",
    "\n",
    "def subgroups_of_order_n(M,n):\n",
    "    '''\n",
    "    Returns the number of subgroups of order n of the fundamental group of M.\n",
    "    Warning: Works only fast for small n.\n",
    "    '''\n",
    "    return len(snappy.Manifold(M).covers(n))\n",
    "\n",
    "def subgroups_up_to_order_k(M,k):\n",
    "    '''\n",
    "    Returns the vector containing the number of subgroups of order n of the fundamental group of M for n=2,...,k.\n",
    "    Warning: Works only fast for small k.\n",
    "    '''\n",
    "    vector=[]\n",
    "    for n in range(2,k+1):\n",
    "        vector.append(subgroups_of_order_n(M,n))\n",
    "    return vector\n",
    "\n",
    "def better_is_isometric_to(X,Y,return_isometries=False,index=100,try_hard=False):\n",
    "    \"\"\"\n",
    "    Returns True if X and Y are isometric.\n",
    "    Returns False if X and Y have different homologies.\n",
    "     \"\"\" \n",
    "    if return_isometries==False:\n",
    "        w='unclear'\n",
    "        if X.homology()!=Y.homology():\n",
    "            return False\n",
    "        for i in (0,index):\n",
    "            try:\n",
    "                w=X.is_isometric_to(Y)\n",
    "            except (RuntimeError,snappy.SnapPeaFatalError):\n",
    "                pass\n",
    "            if w==True:\n",
    "                return w\n",
    "            X.randomize()\n",
    "            Y.randomize()\n",
    "            i=i+1\n",
    "        if try_hard:\n",
    "            pos_triang_X=find_positive_triangulations(X,number=10,tries=index)\n",
    "            pos_triang_Y=find_positive_triangulations(Y,number=10,tries=index)\n",
    "            for X in pos_triang_X:\n",
    "                for Y in pos_triang_Y:\n",
    "                    w=better_is_isometric_to(X,Y,index=100,try_hard=False)\n",
    "                    if w==True:\n",
    "                        return w\n",
    "        return 'unclear'\n",
    "    if return_isometries==True:\n",
    "        w=False\n",
    "        if X.homology()!=Y.homology():\n",
    "            return []\n",
    "        for i in (0,index):\n",
    "            try:\n",
    "                w=X.is_isometric_to(Y,return_isometries)\n",
    "            except (RuntimeError,snappy.SnapPeaFatalError):\n",
    "                pass\n",
    "            if w!=False:\n",
    "                return w\n",
    "            X.randomize()\n",
    "            Y.randomize()\n",
    "            i=i+1\n",
    "        if try_hard:\n",
    "            pos_triang_X=find_positive_triangulations(X,number=10,tries=index)\n",
    "            pos_triang_Y=find_positive_triangulations(Y,number=10,tries=index)\n",
    "            for X in pos_triang_X:\n",
    "                for Y in pos_triang_Y:\n",
    "                    w=better_is_isometric_to(X,Y,return_isometries,index=100,try_hard=False)\n",
    "                    if w!=False:\n",
    "                        return w\n",
    "        return []"
   ]
  },
  {
   "cell_type": "code",
   "execution_count": 2,
   "id": "d2720dd8",
   "metadata": {},
   "outputs": [
    {
     "name": "stdout",
     "output_type": "stream",
     "text": [
      "Number of different Alexander polynomials: 1135\n",
      "Time taken: 1.0360559622446697 minutes \n"
     ]
    }
   ],
   "source": [
    "start_time = time.time()\n",
    "ALEX_GROUP=[]\n",
    "alexander_polynomials=[]\n",
    "\n",
    "for K in snappy.CensusKnots():\n",
    "    f=K.alexander_polynomial()\n",
    "    if f not in alexander_polynomials:\n",
    "        alexander_polynomials.append(f)\n",
    "        ALEX_GROUP.append([f,[K.identify()[0].name()]])\n",
    "    else:\n",
    "        for [pol,knots] in ALEX_GROUP:\n",
    "            if pol==f:\n",
    "                knots.append(K.identify()[0].name())\n",
    "\n",
    "print('Number of different Alexander polynomials:',len(alexander_polynomials))\n",
    "print('Time taken: %s minutes ' % ((time.time() - start_time)/60))"
   ]
  },
  {
   "cell_type": "code",
   "execution_count": 3,
   "id": "79ea9fb1",
   "metadata": {},
   "outputs": [
    {
     "name": "stdout",
     "output_type": "stream",
     "text": [
      "Number of different Alexander polynomials: 1135\n",
      "Time taken: 76.12658732732137 minutes \n"
     ]
    }
   ],
   "source": [
    "start_time = time.time()\n",
    "\n",
    "for K in snappy.HTLinkExteriors(knots_vs_links='knots'):\n",
    "    if K not in snappy.CensusKnots():\n",
    "        f=K.alexander_polynomial()\n",
    "        if f in alexander_polynomials:\n",
    "            for [pol,knots] in ALEX_GROUP:\n",
    "                if pol==f:\n",
    "                    knots.append(K.name())\n",
    "\n",
    "print('Number of different Alexander polynomials:',len(alexander_polynomials))\n",
    "print('Time taken: %s minutes ' % ((time.time() - start_time)/60))"
   ]
  },
  {
   "cell_type": "code",
   "execution_count": 5,
   "id": "3f4cab01",
   "metadata": {},
   "outputs": [],
   "source": [
    "ALEX_GROUPS_WITH_MORE_THAN_ONE_KNOT=[x for x in ALEX_GROUP if len(x[1])>1]"
   ]
  },
  {
   "cell_type": "code",
   "execution_count": 6,
   "id": "9c0ca270",
   "metadata": {},
   "outputs": [
    {
     "data": {
      "text/plain": [
       "200"
      ]
     },
     "execution_count": 6,
     "metadata": {},
     "output_type": "execute_result"
    }
   ],
   "source": [
    "len(ALEX_GROUPS_WITH_MORE_THAN_ONE_KNOT)"
   ]
  },
  {
   "cell_type": "markdown",
   "id": "40ebc790",
   "metadata": {},
   "source": [
    "For each knot in the list, we check if the 0-filling is hyperbolic. If yes we compare their verified volumes, if not we compare their regina names.\n",
    "\n",
    "First, we load these data."
   ]
  },
  {
   "cell_type": "code",
   "execution_count": 17,
   "id": "cb0cb09b",
   "metadata": {},
   "outputs": [
    {
     "data": {
      "text/plain": [
       "205823"
      ]
     },
     "execution_count": 17,
     "metadata": {},
     "output_type": "execute_result"
    }
   ],
   "source": [
    "exceptional_fillings=[]\n",
    "with open('exceptional_fillings.csv', 'r') as file:\n",
    "    reader = csv.reader(file)\n",
    "    for row in reader:\n",
    "        exceptional_fillings.append(row)\n",
    "len(exceptional_fillings)"
   ]
  },
  {
   "cell_type": "code",
   "execution_count": 21,
   "id": "e032ee63",
   "metadata": {},
   "outputs": [
    {
     "data": {
      "text/plain": [
       "313138"
      ]
     },
     "execution_count": 21,
     "metadata": {},
     "output_type": "execute_result"
    }
   ],
   "source": [
    "volumes_low_cros=pickle.load( open( \"volumes.pickle\", \"rb\" ) )\n",
    "len(volumes_low_cros)"
   ]
  },
  {
   "cell_type": "code",
   "execution_count": 13,
   "id": "b653c236",
   "metadata": {},
   "outputs": [],
   "source": [
    "NOT_HYP=[['K3a1', 'SFS [S2: (2,1) (3,1) (6,-5)]'],\n",
    " ['K4a1', 'T x I / [ 2,1 | 1,1 ]'],\n",
    " ['K5a1', 'SFS [A: (2,1)] / [ 0,1 | 1,-1 ]'],\n",
    " ['K5a2', 'SFS [S2: (2,1) (5,2) (10,-9)]'],\n",
    " ['K6a3', 'SFS [A: (2,1)] / [ 0,1 | 1,-2 ]'],\n",
    " ['K7a4', 'SFS [A: (3,2)] / [ 0,1 | 1,-1 ]'],\n",
    " ['K7a6',\n",
    "  \"JSJ([('SFSpace', 'SFS [A: (2,1)]'), ('SFSpace', 'SFS [A: (2,1)]')])\"],\n",
    " ['K7a7', 'SFS [S2: (2,1) (7,3) (14,-13)]'],\n",
    " ['K8n1', 'SFS [D: (2,1) (2,1)] U/m SFS [D: (3,1) (3,2)], m = [ 0,1 | 1,0 ]'],\n",
    " ['K8n3', 'SFS [S2: (3,2) (4,1) (12,-11)]'],\n",
    " ['K8a11', 'SFS [A: (3,1)] / [ 0,1 | 1,-2 ]'],\n",
    " ['K8a18',\n",
    "  \"JSJ[('SFSpace', 'SFS [A: (2,1)]'), ('SFSpace', 'SFS [A: (2,1)]')]\"],\n",
    " ['K9n5', 'SFS [A: (2,1)] / [ -1,3 | 1,-2 ]'],\n",
    " ['K9a27', 'SFS [A: (4,3)] / [ 0,1 | 1,-1 ]'],\n",
    " ['K9a36',\n",
    "  \"JSJ[('SFSpace', 'SFS [A: (2,3)]'), ('SFSpace', 'SFS [A: (3,1)]')]\"],\n",
    " ['K9a40', \"JSJ[('hyperbolic', 'm202')]\"],\n",
    " ['K9a41', 'SFS [S2: (2,1) (9,4) (18,-17)]'],\n",
    " ['K10n13', 'SFS [S2: (2,1) (5,1) (10,-7)]'],\n",
    " ['K10n21', 'SFS [S2: (3,1) (5,3) (15,-14)]'],\n",
    " ['K10n29',\n",
    "  'SFS [D: (2,1) (2,1)] U/m SFS [D: (3,1) (3,2)], m = [ -1,2 | 0,1 ]'],\n",
    " ['K10a75', 'SFS [A: (4,1)] / [ 0,1 | 1,-2 ]'],\n",
    " ['K10a117',\n",
    "  \"JSJ[('SFSpace', 'SFS [A: (2,1)]'), ('SFSpace', 'SFS [A: (3,5)]')]\"],\n",
    " ['K11n139', 'SFS [A: (2,1)] / [ 2,5 | 1,2 ]'],\n",
    " ['K11n141', \"JSJ[('hyperbolic', 'm125')]\"],\n",
    " ['K11a247', 'SFS [A: (5,4)] / [ 0,1 | 1,-1 ]'],\n",
    " ['K11a343',\n",
    "  \"JSJ([('SFSpace', 'SFS [A: (2,1)]'), ('SFSpace', 'SFS [A: (4,7)]')])\"],\n",
    " ['K11a362', \"JSJ[('hyperbolic', 'm357')]\"],\n",
    " ['K11a363',\n",
    "  \"JSJ[('SFSpace', 'SFS [A: (3,1)]'), ('SFSpace', 'SFS [A: (3,2)]')]\"],\n",
    " ['K11a367', 'SFS [S2: (2,1) (11,5) (22,-21)]'],\n",
    " ['K12n121',\n",
    "  'SFS [D: (2,1) (2,1)] U/m SFS [D: (2,1) (3,1)], m = [ 5,1 | 4,1 ]'],\n",
    " ['K12n582',\n",
    "  'SFS [D: (2,1) (2,1)] U/m SFS [D: (3,1) (3,2)], m = [ -2,3 | -1,2 ]'],\n",
    " ['K12n721',\n",
    "  \"JSJ[('SFSpace', 'SFS [D: (2,1) (2,-1)]'), ('hyperbolic', 'm043')]\"],\n",
    " ['K12a803', 'SFS [A: (5,1)] / [ 0,1 | 1,-2 ]'],\n",
    " ['K12a1166',\n",
    "  \"JSJ([('SFSpace', 'SFS [A: (2,1)]'), ('SFSpace', 'SFS [A: (4,1)]')])\"],\n",
    " ['K12a1287',\n",
    "  \"JSJ[('SFSpace', 'SFS [A: (3,1)]'), ('SFSpace', 'SFS [A: (3,4)]')]\"],\n",
    " ['K13n469',\n",
    "  \"JSJ[('SFSpace', 'SFS [D: (2,1) (2,-1)]'), ('hyperbolic', 'm004')]\"],\n",
    " ['K13a3143', 'SFS [A: (6,5)] / [ 0,1 | 1,-1 ]'],\n",
    " ['K13n3521', \"JSJ[('hyperbolic', 'm329')]\"],\n",
    " ['K13n3523', 'SFS [A: (2,1)] / [ 2,7 | 1,3 ]'],\n",
    " ['K13n3594', \"JSJ[('hyperbolic', 'm292')]\"],\n",
    " ['K13n3596',\n",
    "  \"JSJ[('SFSpace', 'SFS [D: (2,1) (3,-2)]'), ('SFSpace', 'SFS [Or, g=0 + 3 punctures: (1,3)]')]\"],\n",
    " ['K13n3663',\n",
    "  \"JSJ[('SFSpace', 'SFS [D: (2,1) (3,-2)]'), ('SFSpace', 'SFS [Or, g=0 + 3 punctures: (1,1)]')]\"],\n",
    " ['K13a4573',\n",
    "  \"JSJ[('SFSpace', 'SFS [A: (2,1)]'), ('SFSpace', 'SFS [A: (5,4)]')]\"],\n",
    " ['K13n4587',\n",
    "  'SFS [D: (2,1) (3,1)] U/m SFS [D: (2,1) (14,1)], m = [ -3,5 | -1,2 ]'],\n",
    " ['K13n4639',\n",
    "  'SFS [D: (2,1) (3,1)] U/m SFS [D: (2,1) (10,1)], m = [ -5,7 | -2,3 ]'],\n",
    " ['K13a4843', \"JSJ[('hyperbolic', 's548')]\"],\n",
    " ['K13a4856',\n",
    "  \"JSJ[('SFSpace', 'SFS [A: (3,1)]'), ('SFSpace', 'SFS [A: (4,3)]')]\"],\n",
    " ['K13a4873', \"JSJ[('hyperbolic', 's876')]\"],\n",
    " ['K13a4878', 'SFS [S2: (2,1) (13,6) (26,-25)]'],\n",
    " ['K14n3611', \"JSJ[('SFSpace', 'M/n2 x~ S1'), ('hyperbolic', 'm015')]\"],\n",
    " ['K14a12741', 'SFS [A: (6,1)] / [ 0,1 | 1,-2 ]'],\n",
    " ['K14a17730',\n",
    "  \"JSJ[('SFSpace', 'SFS [A: (2,1)]'), ('SFSpace', 'SFS [A: (5,9)]')]\"],\n",
    " ['K14n18212',\n",
    "  'SFS [D: (2,1) (2,1)] U/m SFS [D: (3,1) (3,2)], m = [ -3,4 | -2,3 ]'],\n",
    " ['K14n19265', \"JSJ[('hyperbolic', 'v3319')]\"],\n",
    " ['K14a19429',\n",
    "  \"JSJ[('SFSpace', 'SFS [A: (3,4)]'), ('SFSpace', 'SFS [A: (4,1)]')]\"],\n",
    " ['K14n21881', 'SFS [S2: (3,2) (7,2) (21,-20)]'],\n",
    " ['K14n21882',\n",
    "  'SFS [D: (2,1) (2,1)] U/m SFS [D: (3,1) (6,1)], m = [ 1,1 | 0,1 ]'],\n",
    " ['K14n22073',\n",
    "  'SFS [D: (2,1) (3,1)] U/m SFS [A: (2,1) (2,1)] U/n SFS [D: (2,1) (3,2)], m = [ 1,-1 | 0,-1 ], n = [ 0,1 | 1,1 ]'],\n",
    " ['K14n22180',\n",
    "  \"JSJ[('SFSpace', 'SFS [D: (2,1) (3,-2)]'), ('SFSpace', 'SFS [Or, g=0 + 3 punctures: (1,1)]')]\"],\n",
    " ['K14n22185',\n",
    "  \"JSJ[('SFSpace', 'SFS [D: (2,1) (2,-1)]'), ('hyperbolic', 'm137')]\"],\n",
    " ['K14n22589', \"JSJ[('hyperbolic', 'm129')]\"],\n",
    " ['K14n24553',\n",
    "  \"JSJ[('SFSpace', 'SFS [D: (2,1) (2,-1)]'), ('hyperbolic', 's663')]\"],\n",
    " ['K14n26039',\n",
    "  \"JSJ[('SFSpace', 'Or, g=0 + 3 punctures x S1'), ('SFSpace', 'SFS [D: (2,1) (3,-2)]')]\"],\n",
    " ['K15n19499',\n",
    "  \"JSJ[('SFSpace', 'SFS [D: (2,1) (2,-1)]'), ('hyperbolic', 'm032')]\"],\n",
    " ['K15n40211',\n",
    "  'SFS [D: (2,1) (3,1)] U/m SFS [D: (2,1) (18,1)], m = [ -1,3 | 0,1 ]'],\n",
    " ['K15n41185', 'SFS [S2: (4,3) (5,1) (20,-19)]'],\n",
    " ['K15n43522', 'SFS [A: (2,1)] / [ 3,11 | 2,7 ]'],\n",
    " ['K15n48968', \"JSJ[('SFSpace', 'M/n2 x~ S1'), ('hyperbolic', 'v2817')]\"],\n",
    " ['K15n51748',\n",
    "  \"JSJ[('SFSpace', 'SFS [D: (2,1) (2,-1)]'), ('hyperbolic', 'm137')]\"],\n",
    " ['K15a54894', 'SFS [A: (7,6)] / [ 0,1 | 1,-1 ]'],\n",
    " ['K15n59184',\n",
    "  \"JSJ[('SFSpace', 'Or, g=0 + 3 punctures x S1'), ('SFSpace', 'SFS [D: (2,1) (3,-2)]')]\"],\n",
    " ['K15n72303', \"JSJ[('SFSpace', 'M/n2 x~ S1'), ('hyperbolic', 's493')]\"],\n",
    " ['K15a78880',\n",
    "  \"JSJ[('SFSpace', 'SFS [A: (2,1)]'), ('SFSpace', 'SFS [A: (6,5)]')]\"],\n",
    " ['K15a84844', \"JSJ[('hyperbolic', 'v1203')]\"],\n",
    " ['K15a84969',\n",
    "  \"JSJ[('SFSpace', 'SFS [A: (3,1)]'), ('SFSpace', 'SFS [A: (5,4)]')]\"],\n",
    " ['K15a85213', \"JSJ[('hyperbolic', 'v2601')]\"],\n",
    " ['K15a85234',\n",
    "  \"JSJ[('SFSpace', 'SFS [A: (4,1)]'), ('SFSpace', 'SFS [A: (4,7)]')]\"],\n",
    " ['K15a85257', \"JSJ[('hyperbolic', 'v3461')]\"],\n",
    " ['K15a85263', 'SFS [S2: (2,1) (15,7) (30,-29)]'],\n",
    " ['K15n112477', \"JSJ[('hyperbolic', 's503')]\"],\n",
    " ['K15n112479', 'SFS [A: (2,1)] / [ 2,9 | 1,4 ]'],\n",
    " ['K15n113773', \"JSJ[('hyperbolic', 's843')]\"],\n",
    " ['K15n113775', \"JSJ[('hyperbolic', 'm129')]\"],\n",
    " ['K15n113923', \"JSJ[('hyperbolic', 's441')]\"],\n",
    " ['K15n115375', \"JSJ[('hyperbolic', 'm129')]\"],\n",
    " ['K15n115646',\n",
    "  \"JSJ[('SFSpace', 'SFS [D: (2,1) (3,-2)]'), ('SFSpace', 'SFS [Or, g=0 + 3 punctures: (1,1)]')]\"],\n",
    " ['K15n124802',\n",
    "  'SFS [D: (2,1) (3,1)] U/m SFS [D: (2,1) (6,1)], m = [ -7,9 | -3,4 ]'],\n",
    " ['K15n142188',\n",
    "  \"JSJ[('SFSpace', 'SFS [D: (2,1) (3,-2)]'), ('hyperbolic', None)]\"],\n",
    " ['K15n153789',\n",
    "  \"JSJ[('SFSpace', 'SFS [D: (2,1) (2,-1)]'), ('hyperbolic', 'm032')]\"],\n",
    " ['K15n156076',\n",
    "  \"JSJ[('SFSpace', 'SFS [D: (2,1) (3,-2)]'), ('hyperbolic', None)]\"],\n",
    " ['K15n160926', \"JSJ[('hyperbolic', 't11128')]\"],\n",
    " ['K15n164338', \"JSJ[('hyperbolic', 's906')]\"]]"
   ]
  },
  {
   "cell_type": "code",
   "execution_count": 25,
   "id": "91b33e5c",
   "metadata": {},
   "outputs": [
    {
     "name": "stdout",
     "output_type": "stream",
     "text": [
      "Time taken: 3.5488064964612325 minutes \n"
     ]
    }
   ],
   "source": [
    "start_time = time.time()\n",
    "\n",
    "ALEX_GROUPS_WITH_VOLUMENS=[]\n",
    "ALEX_GROUPS_WITH_REGINA_NAMES=[]\n",
    "\n",
    "for x in ALEX_GROUPS_WITH_MORE_THAN_ONE_KNOT:\n",
    "    volumes=[]\n",
    "    names=[]\n",
    "    for name in x[1]:\n",
    "        K=snappy.Manifold(name)\n",
    "        if K in snappy.CensusKnots():\n",
    "            zero_slope=K.homological_longitude()\n",
    "            hyperbolic=True\n",
    "            for x in exceptional_fillings:\n",
    "                if x[-2]==name:\n",
    "                    if x[-1]==str(zero_slope):\n",
    "                        names.append([name,x[2]])\n",
    "                        hyperbolic=False\n",
    "                    if x[-1]==str((-zero_slope[0],-zero_slope[1])):\n",
    "                        names.append([name,x[2]])\n",
    "                        hyperbolic=False\n",
    "            if hyperbolic:\n",
    "                K.dehn_fill(zero_slope)\n",
    "                vol=better_volume(K,try_hard=True)\n",
    "                volumes.append([name,vol])\n",
    "        else:\n",
    "            hyperbolic=True\n",
    "            for z in NOT_HYP:\n",
    "                if z[0]==name:\n",
    "                    names.append([name,z[1]])\n",
    "                    hyperbolic=False\n",
    "                    break\n",
    "            if hyperbolic:\n",
    "                for z in volumes_low_cros:\n",
    "                    if z[0]==name:\n",
    "                        volumes.append([name,z[1]])\n",
    "                        break\n",
    "    if len(volumes)>1:\n",
    "        volumes.sort(key=lambda x: x[1])\n",
    "        ALEX_GROUPS_WITH_VOLUMENS.append(volumes)\n",
    "    if len(names)>1:\n",
    "        ALEX_GROUPS_WITH_REGINA_NAMES.append(names)\n",
    "\n",
    "print('Time taken: %s minutes ' % ((time.time() - start_time)/60))"
   ]
  },
  {
   "cell_type": "code",
   "execution_count": 34,
   "id": "6d34f457",
   "metadata": {},
   "outputs": [
    {
     "data": {
      "text/plain": [
       "23"
      ]
     },
     "execution_count": 34,
     "metadata": {},
     "output_type": "execute_result"
    }
   ],
   "source": [
    "ALEX_GROUPS_WITH_REGINA_NAMES_mixed=[]\n",
    "\n",
    "for gp in ALEX_GROUPS_WITH_REGINA_NAMES:\n",
    "    C=snappy.Manifold(gp[0][0])\n",
    "    L=snappy.Manifold(gp[-1][0])\n",
    "    if C in snappy.CensusKnots():\n",
    "        if L not in snappy.CensusKnots():\n",
    "            ALEX_GROUPS_WITH_REGINA_NAMES_mixed.append(gp)\n",
    "len(ALEX_GROUPS_WITH_REGINA_NAMES_mixed)"
   ]
  },
  {
   "cell_type": "code",
   "execution_count": 36,
   "id": "491f4824",
   "metadata": {},
   "outputs": [
    {
     "data": {
      "text/plain": [
       "155"
      ]
     },
     "execution_count": 36,
     "metadata": {},
     "output_type": "execute_result"
    }
   ],
   "source": [
    "ALEX_GROUPS_WITH_VOLUMENS_mixed=[]\n",
    "\n",
    "for gp in ALEX_GROUPS_WITH_VOLUMENS:\n",
    "    C=snappy.Manifold(gp[0][0])\n",
    "    L=snappy.Manifold(gp[-1][0])\n",
    "    if C in snappy.CensusKnots():\n",
    "        if L not in snappy.CensusKnots():\n",
    "            ALEX_GROUPS_WITH_VOLUMENS_mixed.append(gp)\n",
    "len(ALEX_GROUPS_WITH_VOLUMENS_mixed)"
   ]
  },
  {
   "cell_type": "code",
   "execution_count": 47,
   "id": "d38a2a3f",
   "metadata": {},
   "outputs": [
    {
     "name": "stdout",
     "output_type": "stream",
     "text": [
      "Time taken: 0.15215181112289428 minutes \n"
     ]
    }
   ],
   "source": [
    "start_time = time.time()\n",
    "\n",
    "MIXED_PAIRS_WITH_SAME_VOLUME=[]\n",
    "\n",
    "for x in ALEX_GROUPS_WITH_VOLUMENS_mixed:\n",
    "    for [knot,vol] in x:\n",
    "        K=snappy.Manifold(knot)\n",
    "        if K in snappy.CensusKnots():\n",
    "            for y in x:\n",
    "                if vol.overlaps(y[1]):\n",
    "                    if snappy.Manifold(y[0]) not in snappy.CensusKnots():\n",
    "                        MIXED_PAIRS_WITH_SAME_VOLUME.append([knot,y[0]])\n",
    "\n",
    "print('Time taken: %s minutes ' % ((time.time() - start_time)/60))"
   ]
  },
  {
   "cell_type": "code",
   "execution_count": 48,
   "id": "b207e22a",
   "metadata": {},
   "outputs": [
    {
     "data": {
      "text/plain": [
       "3"
      ]
     },
     "execution_count": 48,
     "metadata": {},
     "output_type": "execute_result"
    }
   ],
   "source": [
    "len(MIXED_PAIRS_WITH_SAME_VOLUME)"
   ]
  },
  {
   "cell_type": "code",
   "execution_count": 49,
   "id": "8721cad0",
   "metadata": {},
   "outputs": [
    {
     "data": {
      "text/plain": [
       "[['t12270', 'K13n2527'], ['t11462', 'K14n3155'], ['o9_40081', 'K15n94464']]"
      ]
     },
     "execution_count": 49,
     "metadata": {},
     "output_type": "execute_result"
    }
   ],
   "source": [
    "MIXED_PAIRS_WITH_SAME_VOLUME"
   ]
  },
  {
   "cell_type": "code",
   "execution_count": 55,
   "id": "a705ebd0",
   "metadata": {},
   "outputs": [
    {
     "name": "stdout",
     "output_type": "stream",
     "text": [
      "Time taken: 0.024068176746368408 minutes \n"
     ]
    }
   ],
   "source": [
    "start_time = time.time()\n",
    "\n",
    "MIXED_PAIRS_WITH_REGINA_NAMES=[]\n",
    "\n",
    "for x in ALEX_GROUPS_WITH_REGINA_NAMES_mixed:\n",
    "    for [knot,reg_nam] in x:\n",
    "        K=snappy.Manifold(knot)\n",
    "        if K in snappy.CensusKnots():\n",
    "            for y in x:\n",
    "                if snappy.Manifold(y[0]) not in snappy.CensusKnots():\n",
    "                    MIXED_PAIRS_WITH_REGINA_NAMES.append([[knot,reg_nam],y])\n",
    "\n",
    "print('Time taken: %s minutes ' % ((time.time() - start_time)/60))"
   ]
  },
  {
   "cell_type": "code",
   "execution_count": 56,
   "id": "a8bbd3c8",
   "metadata": {},
   "outputs": [
    {
     "data": {
      "text/plain": [
       "72"
      ]
     },
     "execution_count": 56,
     "metadata": {},
     "output_type": "execute_result"
    }
   ],
   "source": [
    "len(MIXED_PAIRS_WITH_REGINA_NAMES)"
   ]
  },
  {
   "cell_type": "code",
   "execution_count": 57,
   "id": "ffe74670",
   "metadata": {},
   "outputs": [
    {
     "data": {
      "text/plain": [
       "[[['m032', 'SFS [A: (2,1)] / [ 0,1 | 1,-2 ]'],\n",
       "  ['K15n115646',\n",
       "   \"JSJ[('SFSpace', 'SFS [D: (2,1) (3,-2)]'), ('SFSpace', 'SFS [Or, g=0 + 3 punctures: (1,1)]')]\"]],\n",
       " [['m372', 'SFS [A: (2,1)] / [ -1,3 | 1,-2 ]'],\n",
       "  ['K15n115646',\n",
       "   \"JSJ[('SFSpace', 'SFS [D: (2,1) (3,-2)]'), ('SFSpace', 'SFS [Or, g=0 + 3 punctures: (1,1)]')]\"]],\n",
       " [['s879', 'SFS [A: (2,1)] / [ 2,5 | 1,2 ]'],\n",
       "  ['K15n115646',\n",
       "   \"JSJ[('SFSpace', 'SFS [D: (2,1) (3,-2)]'), ('SFSpace', 'SFS [Or, g=0 + 3 punctures: (1,1)]')]\"]],\n",
       " [['v2861', 'SFS [A: (2,1)] / [ 2,7 | 1,3 ]'],\n",
       "  ['K15n115646',\n",
       "   \"JSJ[('SFSpace', 'SFS [D: (2,1) (3,-2)]'), ('SFSpace', 'SFS [Or, g=0 + 3 punctures: (1,1)]')]\"]],\n",
       " [['t08306', 'SFS [A: (2,1)] / [ 2,9 | 1,4 ]'],\n",
       "  ['K15n115646',\n",
       "   \"JSJ[('SFSpace', 'SFS [D: (2,1) (3,-2)]'), ('SFSpace', 'SFS [Or, g=0 + 3 punctures: (1,1)]')]\"]],\n",
       " [['o9_22066', 'SFS [A: (2,1)] / [ 2,11 | 1,5 ]'],\n",
       "  ['K15n115646',\n",
       "   \"JSJ[('SFSpace', 'SFS [D: (2,1) (3,-2)]'), ('SFSpace', 'SFS [Or, g=0 + 3 punctures: (1,1)]')]\"]],\n",
       " [['m053', 'SFS [A: (3,2)] / [ 0,1 | 1,-1 ]'],\n",
       "  ['K14n26039',\n",
       "   \"JSJ[('SFSpace', 'Or, g=0 + 3 punctures x S1'), ('SFSpace', 'SFS [D: (2,1) (3,-2)]')]\"]],\n",
       " [['v3169', 'SFS [A: (3,1)] / [ 2,5 | 1,2 ]'],\n",
       "  ['K14n26039',\n",
       "   \"JSJ[('SFSpace', 'Or, g=0 + 3 punctures x S1'), ('SFSpace', 'SFS [D: (2,1) (3,-2)]')]\"]],\n",
       " [['m074', 'SFS [A: (3,1)] / [ 0,1 | 1,-2 ]'],\n",
       "  ['K14n22180',\n",
       "   \"JSJ[('SFSpace', 'SFS [D: (2,1) (3,-2)]'), ('SFSpace', 'SFS [Or, g=0 + 3 punctures: (1,1)]')]\"]],\n",
       " [['m094', 'SFS [A: (4,3)] / [ 0,1 | 1,-1 ]'],\n",
       "  ['K15n59184',\n",
       "   \"JSJ[('SFSpace', 'Or, g=0 + 3 punctures x S1'), ('SFSpace', 'SFS [D: (2,1) (3,-2)]')]\"]],\n",
       " [['m094', 'SFS [A: (4,3)] / [ 0,1 | 1,-1 ]'],\n",
       "  ['K15n160926', \"JSJ[('hyperbolic', 't11128')]\"]],\n",
       " [['s648',\n",
       "   \"JSJ([('SFSpace', 'SFS [A: (2,1)]'), ('SFSpace', 'SFS [A: (2,1)]')])\"],\n",
       "  ['K15n59184',\n",
       "   \"JSJ[('SFSpace', 'Or, g=0 + 3 punctures x S1'), ('SFSpace', 'SFS [D: (2,1) (3,-2)]')]\"]],\n",
       " [['s648',\n",
       "   \"JSJ([('SFSpace', 'SFS [A: (2,1)]'), ('SFSpace', 'SFS [A: (2,1)]')])\"],\n",
       "  ['K15n160926', \"JSJ[('hyperbolic', 't11128')]\"]],\n",
       " [['v2001', 'SFS [A: (4,1)] / [ -1,3 | 1,-2 ]'],\n",
       "  ['K15n59184',\n",
       "   \"JSJ[('SFSpace', 'Or, g=0 + 3 punctures x S1'), ('SFSpace', 'SFS [D: (2,1) (3,-2)]')]\"]],\n",
       " [['v2001', 'SFS [A: (4,1)] / [ -1,3 | 1,-2 ]'],\n",
       "  ['K15n160926', \"JSJ[('hyperbolic', 't11128')]\"]],\n",
       " [['v2743',\n",
       "   \"JSJ([('SFSpace', 'SFS [A: (2,1)]'), ('SFSpace', 'SFS [A: (2,1)]')])\"],\n",
       "  ['K15n59184',\n",
       "   \"JSJ[('SFSpace', 'Or, g=0 + 3 punctures x S1'), ('SFSpace', 'SFS [D: (2,1) (3,-2)]')]\"]],\n",
       " [['v2743',\n",
       "   \"JSJ([('SFSpace', 'SFS [A: (2,1)]'), ('SFSpace', 'SFS [A: (2,1)]')])\"],\n",
       "  ['K15n160926', \"JSJ[('hyperbolic', 't11128')]\"]],\n",
       " [['m201', 'SFS [S2: (2,1) (5,1) (10,-7)]'],\n",
       "  ['K5a2', 'SFS [S2: (2,1) (5,2) (10,-9)]']],\n",
       " [['o9_34818', 'SFS [S2: (2,1) (5,1) (10,-7)]'],\n",
       "  ['K5a2', 'SFS [S2: (2,1) (5,2) (10,-9)]']],\n",
       " [['s188', 'SFS [S2: (3,1) (4,1) (12,-7)]'],\n",
       "  ['K8n3', 'SFS [S2: (3,2) (4,1) (12,-11)]']],\n",
       " [['s188', 'SFS [S2: (3,1) (4,1) (12,-7)]'],\n",
       "  ['K15n124802',\n",
       "   'SFS [D: (2,1) (3,1)] U/m SFS [D: (2,1) (6,1)], m = [ -7,9 | -3,4 ]']],\n",
       " [['o9_22337',\n",
       "   'SFS [D: (2,1) (3,1)] U/m SFS [D: (2,1) (6,5)], m = [ -2,3 | -1,2 ]'],\n",
       "  ['K8n3', 'SFS [S2: (3,2) (4,1) (12,-11)]']],\n",
       " [['o9_22337',\n",
       "   'SFS [D: (2,1) (3,1)] U/m SFS [D: (2,1) (6,5)], m = [ -2,3 | -1,2 ]'],\n",
       "  ['K15n124802',\n",
       "   'SFS [D: (2,1) (3,1)] U/m SFS [D: (2,1) (6,1)], m = [ -7,9 | -3,4 ]']],\n",
       " [['v0016', 'SFS [A: (5,1)] / [ 0,1 | 1,-2 ]'],\n",
       "  ['K14n19265', \"JSJ[('hyperbolic', 'v3319')]\"]],\n",
       " [['v2257', 'SFS [A: (5,2)] / [ -1,3 | 1,-2 ]'],\n",
       "  ['K14n19265', \"JSJ[('hyperbolic', 'v3319')]\"]],\n",
       " [['o9_37795', \"JSJ([('hyperbolic', 'm125')])\"],\n",
       "  ['K14n19265', \"JSJ[('hyperbolic', 'v3319')]\"]],\n",
       " [['v0321',\n",
       "   'SFS [D: (2,1) (3,1)] U/m SFS [D: (2,1) (10,7)], m = [ 0,1 | 1,0 ]'],\n",
       "  ['K13n4639',\n",
       "   'SFS [D: (2,1) (3,1)] U/m SFS [D: (2,1) (10,1)], m = [ -5,7 | -2,3 ]']],\n",
       " [['v0595', 'SFS [S2: (2,1) (7,2) (14,-11)]'],\n",
       "  ['K7a7', 'SFS [S2: (2,1) (7,3) (14,-13)]']],\n",
       " [['t12120', 'SFS [S2: (2,1) (7,2) (14,-11)]'],\n",
       "  ['K7a7', 'SFS [S2: (2,1) (7,3) (14,-13)]']],\n",
       " [['v1971',\n",
       "   'SFS [D: (2,1) (2,1)] U/m SFS [D: (5,2) (5,3)], m = [ 0,1 | 1,0 ]'],\n",
       "  ['K14n24553',\n",
       "   \"JSJ[('SFSpace', 'SFS [D: (2,1) (2,-1)]'), ('hyperbolic', 's663')]\"]],\n",
       " [['v1971',\n",
       "   'SFS [D: (2,1) (2,1)] U/m SFS [D: (5,2) (5,3)], m = [ 0,1 | 1,0 ]'],\n",
       "  ['K15n48968', \"JSJ[('SFSpace', 'M/n2 x~ S1'), ('hyperbolic', 'v2817')]\"]],\n",
       " [['t10887',\n",
       "   'SFS [D: (2,1) (2,1)] U/m SFS [D: (5,2) (5,3)], m = [ -1,2 | 0,1 ]'],\n",
       "  ['K14n24553',\n",
       "   \"JSJ[('SFSpace', 'SFS [D: (2,1) (2,-1)]'), ('hyperbolic', 's663')]\"]],\n",
       " [['t10887',\n",
       "   'SFS [D: (2,1) (2,1)] U/m SFS [D: (5,2) (5,3)], m = [ -1,2 | 0,1 ]'],\n",
       "  ['K15n48968', \"JSJ[('SFSpace', 'M/n2 x~ S1'), ('hyperbolic', 'v2817')]\"]],\n",
       " [['t11418', \"JSJ([('SFSpace', 'M/n2 x~ S1'), ('hyperbolic', 'm043')])\"],\n",
       "  ['K14n24553',\n",
       "   \"JSJ[('SFSpace', 'SFS [D: (2,1) (2,-1)]'), ('hyperbolic', 's663')]\"]],\n",
       " [['t11418', \"JSJ([('SFSpace', 'M/n2 x~ S1'), ('hyperbolic', 'm043')])\"],\n",
       "  ['K15n48968', \"JSJ[('SFSpace', 'M/n2 x~ S1'), ('hyperbolic', 'v2817')]\"]],\n",
       " [['o9_35240', \"JSJ([('SFSpace', 'M/n2 x~ S1'), ('hyperbolic', 'm043')])\"],\n",
       "  ['K14n24553',\n",
       "   \"JSJ[('SFSpace', 'SFS [D: (2,1) (2,-1)]'), ('hyperbolic', 's663')]\"]],\n",
       " [['o9_35240', \"JSJ([('SFSpace', 'M/n2 x~ S1'), ('hyperbolic', 'm043')])\"],\n",
       "  ['K15n48968', \"JSJ[('SFSpace', 'M/n2 x~ S1'), ('hyperbolic', 'v2817')]\"]],\n",
       " [['o9_36459', \"JSJ([('SFSpace', 'M/n2 x~ S1'), ('hyperbolic', 'm043')])\"],\n",
       "  ['K14n24553',\n",
       "   \"JSJ[('SFSpace', 'SFS [D: (2,1) (2,-1)]'), ('hyperbolic', 's663')]\"]],\n",
       " [['o9_36459', \"JSJ([('SFSpace', 'M/n2 x~ S1'), ('hyperbolic', 'm043')])\"],\n",
       "  ['K15n48968', \"JSJ[('SFSpace', 'M/n2 x~ S1'), ('hyperbolic', 'v2817')]\"]],\n",
       " [['o9_37618',\n",
       "   'SFS [D: (2,1) (2,1)] U/m SFS [D: (5,2) (5,3)], m = [ -2,3 | -1,2 ]'],\n",
       "  ['K14n24553',\n",
       "   \"JSJ[('SFSpace', 'SFS [D: (2,1) (2,-1)]'), ('hyperbolic', 's663')]\"]],\n",
       " [['o9_37618',\n",
       "   'SFS [D: (2,1) (2,1)] U/m SFS [D: (5,2) (5,3)], m = [ -2,3 | -1,2 ]'],\n",
       "  ['K15n48968', \"JSJ[('SFSpace', 'M/n2 x~ S1'), ('hyperbolic', 'v2817')]\"]],\n",
       " [['v2362',\n",
       "   \"JSJ([('SFSpace', 'SFS [A: (2,1)]'), ('SFSpace', 'SFS [A: (3,1)]')])\"],\n",
       "  ['K13n3594', \"JSJ[('hyperbolic', 'm292')]\"]],\n",
       " [['v2362',\n",
       "   \"JSJ([('SFSpace', 'SFS [A: (2,1)]'), ('SFSpace', 'SFS [A: (3,1)]')])\"],\n",
       "  ['K15n164338', \"JSJ[('hyperbolic', 's906')]\"]],\n",
       " [['t00017', 'SFS [A: (6,1)] / [ 0,1 | 1,-2 ]'],\n",
       "  ['K13n3594', \"JSJ[('hyperbolic', 'm292')]\"]],\n",
       " [['t00017', 'SFS [A: (6,1)] / [ 0,1 | 1,-2 ]'],\n",
       "  ['K15n164338', \"JSJ[('hyperbolic', 's906')]\"]],\n",
       " [['t08617',\n",
       "   \"JSJ([('SFSpace', 'SFS [A: (2,1)]'), ('SFSpace', 'SFS [A: (3,1)]')])\"],\n",
       "  ['K13n3594', \"JSJ[('hyperbolic', 'm292')]\"]],\n",
       " [['t08617',\n",
       "   \"JSJ([('SFSpace', 'SFS [A: (2,1)]'), ('SFSpace', 'SFS [A: (3,1)]')])\"],\n",
       "  ['K15n164338', \"JSJ[('hyperbolic', 's906')]\"]],\n",
       " [['t11577',\n",
       "   \"JSJ([('SFSpace', 'SFS [A: (2,1)]'), ('SFSpace', 'SFS [A: (3,2)]')])\"],\n",
       "  ['K13n3594', \"JSJ[('hyperbolic', 'm292')]\"]],\n",
       " [['t11577',\n",
       "   \"JSJ([('SFSpace', 'SFS [A: (2,1)]'), ('SFSpace', 'SFS [A: (3,2)]')])\"],\n",
       "  ['K15n164338', \"JSJ[('hyperbolic', 's906')]\"]],\n",
       " [['o9_36180',\n",
       "   \"JSJ([('SFSpace', 'SFS [A: (2,1)]'), ('SFSpace', 'SFS [A: (3,2)]')])\"],\n",
       "  ['K13n3594', \"JSJ[('hyperbolic', 'm292')]\"]],\n",
       " [['o9_36180',\n",
       "   \"JSJ([('SFSpace', 'SFS [A: (2,1)]'), ('SFSpace', 'SFS [A: (3,2)]')])\"],\n",
       "  ['K15n164338', \"JSJ[('hyperbolic', 's906')]\"]],\n",
       " [['o9_40361',\n",
       "   \"JSJ([('SFSpace', 'SFS [A: (2,3)]'), ('SFSpace', 'SFS [A: (3,5)]')])\"],\n",
       "  ['K13n3594', \"JSJ[('hyperbolic', 'm292')]\"]],\n",
       " [['o9_40361',\n",
       "   \"JSJ([('SFSpace', 'SFS [A: (2,3)]'), ('SFSpace', 'SFS [A: (3,5)]')])\"],\n",
       "  ['K15n164338', \"JSJ[('hyperbolic', 's906')]\"]],\n",
       " [['t01142', 'SFS [S2: (3,1) (5,2) (15,-11)]'],\n",
       "  ['K10n21', 'SFS [S2: (3,1) (5,3) (15,-14)]']],\n",
       " [['t02019', 'SFS [S2: (2,1) (9,2) (18,-13)]'],\n",
       "  ['K9a41', 'SFS [S2: (2,1) (9,4) (18,-17)]']],\n",
       " [['t05252', 'SFS [A: (8,3)] / [ -1,3 | 1,-2 ]'],\n",
       "  ['K13n3521', \"JSJ[('hyperbolic', 'm329')]\"]],\n",
       " [['t05899',\n",
       "   \"JSJ([('SFSpace', 'SFS [A: (2,1)]'), ('SFSpace', 'SFS [A: (4,1)]')])\"],\n",
       "  ['K13n3521', \"JSJ[('hyperbolic', 'm329')]\"]],\n",
       " [['o9_19326',\n",
       "   \"JSJ([('SFSpace', 'SFS [A: (2,3)]'), ('SFSpace', 'SFS [A: (4,5)]')])\"],\n",
       "  ['K13n3521', \"JSJ[('hyperbolic', 'm329')]\"]],\n",
       " [['o9_39285',\n",
       "   \"JSJ([('SFSpace', 'SFS [A: (2,1)]'), ('SFSpace', 'SFS [A: (2,1)]'), ('SFSpace', 'SFS [A: (2,1)]')])\"],\n",
       "  ['K13n3521', \"JSJ[('hyperbolic', 'm329')]\"]],\n",
       " [['o9_00017', 'SFS [A: (7,1)] / [ 0,1 | 1,-2 ]'],\n",
       "  ['K15n113923', \"JSJ[('hyperbolic', 's441')]\"]],\n",
       " [['o9_24293', 'SFS [A: (7,3)] / [ 2,5 | 1,2 ]'],\n",
       "  ['K15n113923', \"JSJ[('hyperbolic', 's441')]\"]],\n",
       " [['o9_02163',\n",
       "   'SFS [D: (2,1) (3,2)] U/m SFS [D: (2,1) (14,5)], m = [ 0,1 | 1,0 ]'],\n",
       "  ['K13n4587',\n",
       "   'SFS [D: (2,1) (3,1)] U/m SFS [D: (2,1) (14,1)], m = [ -3,5 | -1,2 ]']],\n",
       " [['o9_04139', 'SFS [S2: (3,1) (7,2) (21,-13)]'],\n",
       "  ['K14n21881', 'SFS [S2: (3,2) (7,2) (21,-20)]']],\n",
       " [['o9_04950', 'SFS [S2: (2,1) (11,3) (22,-17)]'],\n",
       "  ['K11a367', 'SFS [S2: (2,1) (11,5) (22,-21)]']],\n",
       " [['o9_10654', 'SFS [A: (10,3)] / [ -1,3 | 1,-2 ]'],\n",
       "  ['K11a362', \"JSJ[('hyperbolic', 'm357')]\"]],\n",
       " [['o9_13141',\n",
       "   \"JSJ([('SFSpace', 'SFS [A: (2,5)]'), ('SFSpace', 'SFS [A: (5,6)]')])\"],\n",
       "  ['K11a362', \"JSJ[('hyperbolic', 'm357')]\"]],\n",
       " [['o9_19831',\n",
       "   \"JSJ([('SFSpace', 'SFS [A: (2,1)]'), ('SFSpace', 'SFS [A: (5,7)]')])\"],\n",
       "  ['K11a362', \"JSJ[('hyperbolic', 'm357')]\"]],\n",
       " [['o9_10817', 'SFS [A: (11,4)] / [ -1,3 | 1,-2 ]'],\n",
       "  ['K15n112477', \"JSJ[('hyperbolic', 's503')]\"]],\n",
       " [['o9_13273',\n",
       "   \"JSJ([('SFSpace', 'SFS [A: (2,1)]'), ('SFSpace', 'SFS [A: (5,4)]')])\"],\n",
       "  ['K15n113773', \"JSJ[('hyperbolic', 's843')]\"]],\n",
       " [['o9_20397',\n",
       "   \"JSJ([('SFSpace', 'SFS [A: (3,1)]'), ('SFSpace', 'SFS [A: (4,7)]')])\"],\n",
       "  ['K15a78880',\n",
       "   \"JSJ[('SFSpace', 'SFS [A: (2,1)]'), ('SFSpace', 'SFS [A: (6,5)]')]\"]],\n",
       " [['o9_31828', \"JSJ([('SFSpace', 'M/n2 x~ S1'), ('hyperbolic', 'm032')])\"],\n",
       "  ['K15n153789',\n",
       "   \"JSJ[('SFSpace', 'SFS [D: (2,1) (2,-1)]'), ('hyperbolic', 'm032')]\"]],\n",
       " [['o9_37768', \"JSJ([('SFSpace', 'M/n2 x~ S1'), ('hyperbolic', 'm032')])\"],\n",
       "  ['K15n153789',\n",
       "   \"JSJ[('SFSpace', 'SFS [D: (2,1) (2,-1)]'), ('hyperbolic', 'm032')]\"]]]"
      ]
     },
     "execution_count": 57,
     "metadata": {},
     "output_type": "execute_result"
    }
   ],
   "source": [
    "MIXED_PAIRS_WITH_REGINA_NAMES"
   ]
  },
  {
   "cell_type": "markdown",
   "id": "5bbcaa4c",
   "metadata": {},
   "source": [
    "We continue by first working with the 3 hyperbolic pairs. First we search for isometries."
   ]
  },
  {
   "cell_type": "code",
   "execution_count": 67,
   "id": "2cd9cdb5",
   "metadata": {},
   "outputs": [
    {
     "name": "stdout",
     "output_type": "stream",
     "text": [
      "['t12270', 'K13n2527']\n",
      "Isometric: True\n",
      "['t11462', 'K14n3155']\n",
      "Isometric: True\n",
      "['o9_40081', 'K15n94464']\n",
      "Isometric: True\n"
     ]
    }
   ],
   "source": [
    "for x in MIXED_PAIRS_WITH_SAME_VOLUME:\n",
    "    M=snappy.Manifold(x[0])\n",
    "    M.dehn_fill(M.homological_longitude())\n",
    "    N=snappy.Manifold(x[1])\n",
    "    N.dehn_fill(N.homological_longitude())\n",
    "    print(x)\n",
    "    print('Isometric:',M.is_isometric_to(N))"
   ]
  },
  {
   "cell_type": "code",
   "execution_count": 68,
   "id": "2080f6dc",
   "metadata": {},
   "outputs": [
    {
     "data": {
      "text/plain": [
       "[['t12270', 'K13n2527'], ['t11462', 'K14n3155'], ['o9_40081', 'K15n94464']]"
      ]
     },
     "execution_count": 68,
     "metadata": {},
     "output_type": "execute_result"
    }
   ],
   "source": [
    "Knots_with_same_hyperbolic_0_surgery=MIXED_PAIRS_WITH_SAME_VOLUME\n",
    "Knots_with_same_hyperbolic_0_surgery"
   ]
  },
  {
   "cell_type": "markdown",
   "id": "41e1a8a3",
   "metadata": {},
   "source": [
    "Next we work with the non-hyperbolic fillings. We first check the number of subgroups."
   ]
  },
  {
   "cell_type": "code",
   "execution_count": 70,
   "id": "35b21a07",
   "metadata": {},
   "outputs": [
    {
     "name": "stdout",
     "output_type": "stream",
     "text": [
      "Time taken: 0.3321845253308614 minutes \n"
     ]
    }
   ],
   "source": [
    "start_time = time.time()\n",
    "MIXED_PAIRS_WITH_REGINA_NAMES_UP_TO_ORD6=[]\n",
    "\n",
    "for [knot1,knot2] in MIXED_PAIRS_WITH_REGINA_NAMES:\n",
    "    K1=snappy.Manifold(knot1[0])\n",
    "    K1.dehn_fill(K1.homological_longitude())\n",
    "    K2=snappy.Manifold(knot2[0])\n",
    "    K2.dehn_fill(K2.homological_longitude())\n",
    "    vec1=subgroups_up_to_order_k(K1,6)\n",
    "    vec2=subgroups_up_to_order_k(K2,6)\n",
    "    if vec1==vec2:\n",
    "        MIXED_PAIRS_WITH_REGINA_NAMES_UP_TO_ORD6.append([knot1,knot2])\n",
    "    \n",
    "print('Time taken: %s minutes ' % ((time.time() - start_time)/60))"
   ]
  },
  {
   "cell_type": "code",
   "execution_count": 71,
   "id": "54025d39",
   "metadata": {},
   "outputs": [
    {
     "data": {
      "text/plain": [
       "15"
      ]
     },
     "execution_count": 71,
     "metadata": {},
     "output_type": "execute_result"
    }
   ],
   "source": [
    "len(MIXED_PAIRS_WITH_REGINA_NAMES_UP_TO_ORD6)"
   ]
  },
  {
   "cell_type": "code",
   "execution_count": 72,
   "id": "f4a298d5",
   "metadata": {},
   "outputs": [
    {
     "data": {
      "text/plain": [
       "[[['v2001', 'SFS [A: (4,1)] / [ -1,3 | 1,-2 ]'],\n",
       "  ['K15n160926', \"JSJ[('hyperbolic', 't11128')]\"]],\n",
       " [['m201', 'SFS [S2: (2,1) (5,1) (10,-7)]'],\n",
       "  ['K5a2', 'SFS [S2: (2,1) (5,2) (10,-9)]']],\n",
       " [['o9_34818', 'SFS [S2: (2,1) (5,1) (10,-7)]'],\n",
       "  ['K5a2', 'SFS [S2: (2,1) (5,2) (10,-9)]']],\n",
       " [['s188', 'SFS [S2: (3,1) (4,1) (12,-7)]'],\n",
       "  ['K8n3', 'SFS [S2: (3,2) (4,1) (12,-11)]']],\n",
       " [['o9_22337',\n",
       "   'SFS [D: (2,1) (3,1)] U/m SFS [D: (2,1) (6,5)], m = [ -2,3 | -1,2 ]'],\n",
       "  ['K15n124802',\n",
       "   'SFS [D: (2,1) (3,1)] U/m SFS [D: (2,1) (6,1)], m = [ -7,9 | -3,4 ]']],\n",
       " [['v0321',\n",
       "   'SFS [D: (2,1) (3,1)] U/m SFS [D: (2,1) (10,7)], m = [ 0,1 | 1,0 ]'],\n",
       "  ['K13n4639',\n",
       "   'SFS [D: (2,1) (3,1)] U/m SFS [D: (2,1) (10,1)], m = [ -5,7 | -2,3 ]']],\n",
       " [['v0595', 'SFS [S2: (2,1) (7,2) (14,-11)]'],\n",
       "  ['K7a7', 'SFS [S2: (2,1) (7,3) (14,-13)]']],\n",
       " [['t12120', 'SFS [S2: (2,1) (7,2) (14,-11)]'],\n",
       "  ['K7a7', 'SFS [S2: (2,1) (7,3) (14,-13)]']],\n",
       " [['t01142', 'SFS [S2: (3,1) (5,2) (15,-11)]'],\n",
       "  ['K10n21', 'SFS [S2: (3,1) (5,3) (15,-14)]']],\n",
       " [['t02019', 'SFS [S2: (2,1) (9,2) (18,-13)]'],\n",
       "  ['K9a41', 'SFS [S2: (2,1) (9,4) (18,-17)]']],\n",
       " [['o9_04139', 'SFS [S2: (3,1) (7,2) (21,-13)]'],\n",
       "  ['K14n21881', 'SFS [S2: (3,2) (7,2) (21,-20)]']],\n",
       " [['o9_04950', 'SFS [S2: (2,1) (11,3) (22,-17)]'],\n",
       "  ['K11a367', 'SFS [S2: (2,1) (11,5) (22,-21)]']],\n",
       " [['o9_13273',\n",
       "   \"JSJ([('SFSpace', 'SFS [A: (2,1)]'), ('SFSpace', 'SFS [A: (5,4)]')])\"],\n",
       "  ['K15n113773', \"JSJ[('hyperbolic', 's843')]\"]],\n",
       " [['o9_31828', \"JSJ([('SFSpace', 'M/n2 x~ S1'), ('hyperbolic', 'm032')])\"],\n",
       "  ['K15n153789',\n",
       "   \"JSJ[('SFSpace', 'SFS [D: (2,1) (2,-1)]'), ('hyperbolic', 'm032')]\"]],\n",
       " [['o9_37768', \"JSJ([('SFSpace', 'M/n2 x~ S1'), ('hyperbolic', 'm032')])\"],\n",
       "  ['K15n153789',\n",
       "   \"JSJ[('SFSpace', 'SFS [D: (2,1) (2,-1)]'), ('hyperbolic', 'm032')]\"]]]"
      ]
     },
     "execution_count": 72,
     "metadata": {},
     "output_type": "execute_result"
    }
   ],
   "source": [
    "MIXED_PAIRS_WITH_REGINA_NAMES_UP_TO_ORD6"
   ]
  },
  {
   "cell_type": "code",
   "execution_count": 73,
   "id": "c87df887",
   "metadata": {},
   "outputs": [
    {
     "name": "stdout",
     "output_type": "stream",
     "text": [
      "Time taken: 1.368394418557485 minutes \n"
     ]
    }
   ],
   "source": [
    "start_time = time.time()\n",
    "MIXED_PAIRS_WITH_REGINA_NAMES_UP_TO_ORD7=[]\n",
    "\n",
    "for [knot1,knot2] in MIXED_PAIRS_WITH_REGINA_NAMES_UP_TO_ORD6:\n",
    "    K1=snappy.Manifold(knot1[0])\n",
    "    K1.dehn_fill(K1.homological_longitude())\n",
    "    K2=snappy.Manifold(knot2[0])\n",
    "    K2.dehn_fill(K2.homological_longitude())\n",
    "    vec1=subgroups_up_to_order_k(K1,7)\n",
    "    vec2=subgroups_up_to_order_k(K2,7)\n",
    "    if vec1==vec2:\n",
    "        MIXED_PAIRS_WITH_REGINA_NAMES_UP_TO_ORD7.append([knot1,knot2])\n",
    "    \n",
    "print('Time taken: %s minutes ' % ((time.time() - start_time)/60))"
   ]
  },
  {
   "cell_type": "code",
   "execution_count": 74,
   "id": "a2d6fac8",
   "metadata": {},
   "outputs": [
    {
     "data": {
      "text/plain": [
       "12"
      ]
     },
     "execution_count": 74,
     "metadata": {},
     "output_type": "execute_result"
    }
   ],
   "source": [
    "len(MIXED_PAIRS_WITH_REGINA_NAMES_UP_TO_ORD7)"
   ]
  },
  {
   "cell_type": "code",
   "execution_count": 75,
   "id": "04e31e91",
   "metadata": {},
   "outputs": [
    {
     "data": {
      "text/plain": [
       "[[['m201', 'SFS [S2: (2,1) (5,1) (10,-7)]'],\n",
       "  ['K5a2', 'SFS [S2: (2,1) (5,2) (10,-9)]']],\n",
       " [['o9_34818', 'SFS [S2: (2,1) (5,1) (10,-7)]'],\n",
       "  ['K5a2', 'SFS [S2: (2,1) (5,2) (10,-9)]']],\n",
       " [['s188', 'SFS [S2: (3,1) (4,1) (12,-7)]'],\n",
       "  ['K8n3', 'SFS [S2: (3,2) (4,1) (12,-11)]']],\n",
       " [['o9_22337',\n",
       "   'SFS [D: (2,1) (3,1)] U/m SFS [D: (2,1) (6,5)], m = [ -2,3 | -1,2 ]'],\n",
       "  ['K15n124802',\n",
       "   'SFS [D: (2,1) (3,1)] U/m SFS [D: (2,1) (6,1)], m = [ -7,9 | -3,4 ]']],\n",
       " [['v0595', 'SFS [S2: (2,1) (7,2) (14,-11)]'],\n",
       "  ['K7a7', 'SFS [S2: (2,1) (7,3) (14,-13)]']],\n",
       " [['t12120', 'SFS [S2: (2,1) (7,2) (14,-11)]'],\n",
       "  ['K7a7', 'SFS [S2: (2,1) (7,3) (14,-13)]']],\n",
       " [['t01142', 'SFS [S2: (3,1) (5,2) (15,-11)]'],\n",
       "  ['K10n21', 'SFS [S2: (3,1) (5,3) (15,-14)]']],\n",
       " [['t02019', 'SFS [S2: (2,1) (9,2) (18,-13)]'],\n",
       "  ['K9a41', 'SFS [S2: (2,1) (9,4) (18,-17)]']],\n",
       " [['o9_04139', 'SFS [S2: (3,1) (7,2) (21,-13)]'],\n",
       "  ['K14n21881', 'SFS [S2: (3,2) (7,2) (21,-20)]']],\n",
       " [['o9_04950', 'SFS [S2: (2,1) (11,3) (22,-17)]'],\n",
       "  ['K11a367', 'SFS [S2: (2,1) (11,5) (22,-21)]']],\n",
       " [['o9_31828', \"JSJ([('SFSpace', 'M/n2 x~ S1'), ('hyperbolic', 'm032')])\"],\n",
       "  ['K15n153789',\n",
       "   \"JSJ[('SFSpace', 'SFS [D: (2,1) (2,-1)]'), ('hyperbolic', 'm032')]\"]],\n",
       " [['o9_37768', \"JSJ([('SFSpace', 'M/n2 x~ S1'), ('hyperbolic', 'm032')])\"],\n",
       "  ['K15n153789',\n",
       "   \"JSJ[('SFSpace', 'SFS [D: (2,1) (2,-1)]'), ('hyperbolic', 'm032')]\"]]]"
      ]
     },
     "execution_count": 75,
     "metadata": {},
     "output_type": "execute_result"
    }
   ],
   "source": [
    "MIXED_PAIRS_WITH_REGINA_NAMES_UP_TO_ORD7"
   ]
  },
  {
   "cell_type": "markdown",
   "id": "d969ccef",
   "metadata": {},
   "source": [
    "We compare their knot Floer homology invariants. (Fiberedness, genus, and certain ranks)."
   ]
  },
  {
   "cell_type": "code",
   "execution_count": 7,
   "id": "e3218c2a",
   "metadata": {},
   "outputs": [],
   "source": [
    "def return_knot_floer_homology_obstructions(knot):\n",
    "    '''\n",
    "    Returns the genus, fiberedness status, and the rank in genus.\n",
    "    These values are determined by the 0-surgery.\n",
    "    returns [fiberedness_status,genus,rank in genus]\n",
    "    '''\n",
    "    hom=knot.knot_floer_homology()\n",
    "    g=hom.get('seifert_genus')\n",
    "    top=0\n",
    "    ranks=hom.get('ranks')\n",
    "    for (a,m) in ranks.keys():\n",
    "        if a==g:\n",
    "            top=top+ranks.get((a,m))\n",
    "    return [hom.get('fibered'),g,top]   "
   ]
  },
  {
   "cell_type": "code",
   "execution_count": 5,
   "id": "33b95068",
   "metadata": {},
   "outputs": [
    {
     "data": {
      "text/plain": [
       "1267"
      ]
     },
     "execution_count": 5,
     "metadata": {},
     "output_type": "execute_result"
    }
   ],
   "source": [
    "census_knots=pickle.load(open('census_words.pickle','rb'))  \n",
    "len(census_knots)"
   ]
  },
  {
   "cell_type": "code",
   "execution_count": 10,
   "id": "2cf3eaa5",
   "metadata": {},
   "outputs": [
    {
     "name": "stdout",
     "output_type": "stream",
     "text": [
      "['m201', 'SFS [S2: (2,1) (5,1) (10,-7)]']\n",
      "[True, 2, 1]\n",
      "['K5a2', 'SFS [S2: (2,1) (5,2) (10,-9)]']\n",
      "[True, 2, 1]\n",
      "----------\n",
      "['o9_34818', 'SFS [S2: (2,1) (5,1) (10,-7)]']\n",
      "[True, 2, 1]\n",
      "['K5a2', 'SFS [S2: (2,1) (5,2) (10,-9)]']\n",
      "[True, 2, 1]\n",
      "----------\n",
      "['s188', 'SFS [S2: (3,1) (4,1) (12,-7)]']\n",
      "[True, 3, 1]\n",
      "['K8n3', 'SFS [S2: (3,2) (4,1) (12,-11)]']\n",
      "[True, 3, 1]\n",
      "----------\n",
      "['o9_22337', 'SFS [D: (2,1) (3,1)] U/m SFS [D: (2,1) (6,5)], m = [ -2,3 | -1,2 ]']\n",
      "[True, 3, 1]\n",
      "['K15n124802', 'SFS [D: (2,1) (3,1)] U/m SFS [D: (2,1) (6,1)], m = [ -7,9 | -3,4 ]']\n",
      "[True, 3, 1]\n",
      "----------\n",
      "['v0595', 'SFS [S2: (2,1) (7,2) (14,-11)]']\n",
      "[True, 3, 1]\n",
      "['K7a7', 'SFS [S2: (2,1) (7,3) (14,-13)]']\n",
      "[True, 3, 1]\n",
      "----------\n",
      "['t12120', 'SFS [S2: (2,1) (7,2) (14,-11)]']\n",
      "[True, 3, 1]\n",
      "['K7a7', 'SFS [S2: (2,1) (7,3) (14,-13)]']\n",
      "[True, 3, 1]\n",
      "----------\n",
      "['t01142', 'SFS [S2: (3,1) (5,2) (15,-11)]']\n",
      "[True, 4, 1]\n",
      "['K10n21', 'SFS [S2: (3,1) (5,3) (15,-14)]']\n",
      "[True, 4, 1]\n",
      "----------\n",
      "['t02019', 'SFS [S2: (2,1) (9,2) (18,-13)]']\n",
      "[True, 4, 1]\n",
      "['K9a41', 'SFS [S2: (2,1) (9,4) (18,-17)]']\n",
      "[True, 4, 1]\n",
      "----------\n",
      "['o9_04139', 'SFS [S2: (3,1) (7,2) (21,-13)]']\n",
      "['K14n21881', 'SFS [S2: (3,2) (7,2) (21,-20)]']\n",
      "[True, 6, 1]\n",
      "----------\n",
      "['o9_04950', 'SFS [S2: (2,1) (11,3) (22,-17)]']\n",
      "['K11a367', 'SFS [S2: (2,1) (11,5) (22,-21)]']\n",
      "[True, 5, 1]\n",
      "----------\n",
      "['o9_31828', \"JSJ([('SFSpace', 'M/n2 x~ S1'), ('hyperbolic', 'm032')])\"]\n",
      "[False, 2, 2]\n",
      "['K15n153789', \"JSJ[('SFSpace', 'SFS [D: (2,1) (2,-1)]'), ('hyperbolic', 'm032')]\"]\n",
      "[False, 2, 2]\n",
      "----------\n",
      "['o9_37768', \"JSJ([('SFSpace', 'M/n2 x~ S1'), ('hyperbolic', 'm032')])\"]\n",
      "[False, 2, 2]\n",
      "['K15n153789', \"JSJ[('SFSpace', 'SFS [D: (2,1) (2,-1)]'), ('hyperbolic', 'm032')]\"]\n",
      "[False, 2, 2]\n",
      "----------\n",
      "Time taken: 0.7173460284868877 minutes \n"
     ]
    }
   ],
   "source": [
    "start_time = time.time()\n",
    "\n",
    "for [knot1,knot2] in MIXED_PAIRS_WITH_REGINA_NAMES_UP_TO_ORD7:\n",
    "    for x in census_knots:\n",
    "        if x[0]==knot1[0]:\n",
    "            break\n",
    "    K1=snappy.Link(braid_closure=x[1])\n",
    "    K2=snappy.Link(knot2[0])\n",
    "    print(knot1)\n",
    "    try:\n",
    "        print(return_knot_floer_homology_obstructions(K1))\n",
    "    except:\n",
    "        pass\n",
    "    print(knot2)\n",
    "    try:\n",
    "        print(return_knot_floer_homology_obstructions(K2))\n",
    "    except:\n",
    "        pass\n",
    "    print('----------')\n",
    "print('Time taken: %s minutes ' % ((time.time() - start_time)/60))"
   ]
  },
  {
   "cell_type": "code",
   "execution_count": 16,
   "id": "f0636787",
   "metadata": {
    "scrolled": true
   },
   "outputs": [],
   "source": [
    "Maybe_equal_non_hyperbolic_0_surgery=MIXED_PAIRS_WITH_REGINA_NAMES_UP_TO_ORD7"
   ]
  },
  {
   "cell_type": "markdown",
   "id": "ee8aa01d",
   "metadata": {},
   "source": [
    "We check also connected sums. For that we only need to look at the census knots whose 0-surgery contain an incompressible torus."
   ]
  },
  {
   "cell_type": "code",
   "execution_count": 26,
   "id": "2bf85f0e",
   "metadata": {},
   "outputs": [
    {
     "name": "stdout",
     "output_type": "stream",
     "text": [
      "Time taken: 1.2102271954218546 minutes \n"
     ]
    }
   ],
   "source": [
    "start_time = time.time()\n",
    "\n",
    "JSJ=[]\n",
    "\n",
    "for y in census_knots:\n",
    "    K=snappy.Manifold(y[0])\n",
    "    zero_slope=K.homological_longitude()\n",
    "    for x in exceptional_fillings:\n",
    "        if x[-2]==y[0]:\n",
    "            if x[-1]==str(zero_slope):\n",
    "                if x[1]=='graph':\n",
    "                    JSJ.append([y[0],x[2]])\n",
    "                if x[1]=='hyperbolic_piece':\n",
    "                    JSJ.append([y[0],x[2]])\n",
    "            if x[-1]==str((-zero_slope[0],-zero_slope[1])):\n",
    "                if x[1]=='graph':\n",
    "                    JSJ.append([y[0],x[2]])\n",
    "                if x[1]=='hyperbolic_piece':\n",
    "                    JSJ.append([y[0],x[2]])\n",
    "       \n",
    "\n",
    "print('Time taken: %s minutes ' % ((time.time() - start_time)/60))"
   ]
  },
  {
   "cell_type": "code",
   "execution_count": 27,
   "id": "f353d3a4",
   "metadata": {},
   "outputs": [
    {
     "data": {
      "text/plain": [
       "[['m015', 'SFS [A: (2,1)] / [ 0,1 | 1,-1 ]'],\n",
       " ['m032', 'SFS [A: (2,1)] / [ 0,1 | 1,-2 ]'],\n",
       " ['m053', 'SFS [A: (3,2)] / [ 0,1 | 1,-1 ]'],\n",
       " ['m074', 'SFS [A: (3,1)] / [ 0,1 | 1,-2 ]'],\n",
       " ['m094', 'SFS [A: (4,3)] / [ 0,1 | 1,-1 ]'],\n",
       " ['m222', 'SFS [D: (2,1) (2,1)] U/m SFS [D: (3,1) (3,2)], m = [ 0,1 | 1,0 ]'],\n",
       " ['m372', 'SFS [A: (2,1)] / [ -1,3 | 1,-2 ]'],\n",
       " ['s016', 'SFS [A: (4,1)] / [ 0,1 | 1,-2 ]'],\n",
       " ['s023', 'SFS [A: (5,4)] / [ 0,1 | 1,-1 ]'],\n",
       " ['s239', 'SFS [D: (2,1) (2,1)] U/m SFS [D: (2,1) (3,1)], m = [ 5,1 | 4,1 ]'],\n",
       " ['s648',\n",
       "  \"JSJ([('SFSpace', 'SFS [A: (2,1)]'), ('SFSpace', 'SFS [A: (2,1)]')])\"],\n",
       " ['s704', 'SFS [D: (2,1) (2,1)] U/m SFS [D: (3,1) (3,2)], m = [ -1,2 | 0,1 ]'],\n",
       " ['s726',\n",
       "  \"JSJ([('SFSpace', 'SFS [A: (2,1)]'), ('SFSpace', 'SFS [A: (2,1)]')])\"],\n",
       " ['s879', 'SFS [A: (2,1)] / [ 2,5 | 1,2 ]'],\n",
       " ['v0016', 'SFS [A: (5,1)] / [ 0,1 | 1,-2 ]'],\n",
       " ['v0025', 'SFS [A: (6,5)] / [ 0,1 | 1,-1 ]'],\n",
       " ['v0321',\n",
       "  'SFS [D: (2,1) (3,1)] U/m SFS [D: (2,1) (10,7)], m = [ 0,1 | 1,0 ]'],\n",
       " ['v1971', 'SFS [D: (2,1) (2,1)] U/m SFS [D: (5,2) (5,3)], m = [ 0,1 | 1,0 ]'],\n",
       " ['v2001', 'SFS [A: (4,1)] / [ -1,3 | 1,-2 ]'],\n",
       " ['v2257', 'SFS [A: (5,2)] / [ -1,3 | 1,-2 ]'],\n",
       " ['v2272', \"JSJ([('SFSpace', 'M/n2 x~ S1'), ('hyperbolic', 'm004')])\"],\n",
       " ['v2284',\n",
       "  \"JSJ([('SFSpace', 'SFS [A: (2,1)]'), ('SFSpace', 'SFS [A: (3,2)]')])\"],\n",
       " ['v2362',\n",
       "  \"JSJ([('SFSpace', 'SFS [A: (2,1)]'), ('SFSpace', 'SFS [A: (3,1)]')])\"],\n",
       " ['v2543',\n",
       "  'SFS [D: (2,1) (2,1)] U/m SFS [D: (3,1) (3,2)], m = [ -2,3 | -1,2 ]'],\n",
       " ['v2743',\n",
       "  \"JSJ([('SFSpace', 'SFS [A: (2,1)]'), ('SFSpace', 'SFS [A: (2,1)]')])\"],\n",
       " ['v2861', 'SFS [A: (2,1)] / [ 2,7 | 1,3 ]'],\n",
       " ['v3169', 'SFS [A: (3,1)] / [ 2,5 | 1,2 ]'],\n",
       " ['t00017', 'SFS [A: (6,1)] / [ 0,1 | 1,-2 ]'],\n",
       " ['t00027', 'SFS [A: (7,6)] / [ 0,1 | 1,-1 ]'],\n",
       " ['t02069',\n",
       "  'SFS [D: (2,1) (3,1)] U/m SFS [D: (3,1) (3,2)], m = [ -1,1 | 4,-5 ]'],\n",
       " ['t05074', 'SFS [A: (7,2)] / [ -1,3 | 1,-2 ]'],\n",
       " ['t05252', 'SFS [A: (8,3)] / [ -1,3 | 1,-2 ]'],\n",
       " ['t05803',\n",
       "  \"JSJ([('SFSpace', 'SFS [A: (2,1)]'), ('SFSpace', 'SFS [A: (4,7)]')])\"],\n",
       " ['t05899',\n",
       "  \"JSJ([('SFSpace', 'SFS [A: (2,1)]'), ('SFSpace', 'SFS [A: (4,1)]')])\"],\n",
       " ['t07599',\n",
       "  'SFS [D: (2,1) (2,1)] U/m SFS [D: (3,1) (3,2)], m = [ -3,4 | -2,3 ]'],\n",
       " ['t07682',\n",
       "  \"JSJ([('SFSpace', 'SFS [A: (3,1)]'), ('SFSpace', 'SFS [A: (3,5)]')])\"],\n",
       " ['t07734',\n",
       "  \"JSJ([('SFSpace', 'SFS [A: (3,1)]'), ('SFSpace', 'SFS [A: (3,1)]')])\"],\n",
       " ['t08306', 'SFS [A: (2,1)] / [ 2,9 | 1,4 ]'],\n",
       " ['t08617',\n",
       "  \"JSJ([('SFSpace', 'SFS [A: (2,1)]'), ('SFSpace', 'SFS [A: (3,1)]')])\"],\n",
       " ['t10416', 'SFS [A: (2,1)] / [ 3,11 | 2,7 ]'],\n",
       " ['t10887',\n",
       "  'SFS [D: (2,1) (2,1)] U/m SFS [D: (5,2) (5,3)], m = [ -1,2 | 0,1 ]'],\n",
       " ['t11418', \"JSJ([('SFSpace', 'M/n2 x~ S1'), ('hyperbolic', 'm043')])\"],\n",
       " ['t11441',\n",
       "  'SFS [D: (2,1) (2,1)] U/m SFS [D: (2,1) (3,1)], m = [ 5,1 | 4,1 ]'],\n",
       " ['t11577',\n",
       "  \"JSJ([('SFSpace', 'SFS [A: (2,1)]'), ('SFSpace', 'SFS [A: (3,2)]')])\"],\n",
       " ['t11898',\n",
       "  \"JSJ([('SFSpace', 'SFS [D: (2,1) (3,-2)]'), ('SFSpace', 'SFS [Or, g=0 + 3 punctures: (1,1)]')])\"],\n",
       " ['o9_00017', 'SFS [A: (7,1)] / [ 0,1 | 1,-2 ]'],\n",
       " ['o9_00022', 'SFS [A: (8,7)] / [ 0,1 | 1,-1 ]'],\n",
       " ['o9_02163',\n",
       "  'SFS [D: (2,1) (3,2)] U/m SFS [D: (2,1) (14,5)], m = [ 0,1 | 1,0 ]'],\n",
       " ['o9_10654', 'SFS [A: (10,3)] / [ -1,3 | 1,-2 ]'],\n",
       " ['o9_10817', 'SFS [A: (11,4)] / [ -1,3 | 1,-2 ]'],\n",
       " ['o9_12414',\n",
       "  'SFS [D: (2,1) (2,1)] U/m SFS [D: (7,3) (7,4)], m = [ 0,1 | 1,0 ]'],\n",
       " ['o9_13141',\n",
       "  \"JSJ([('SFSpace', 'SFS [A: (2,5)]'), ('SFSpace', 'SFS [A: (5,6)]')])\"],\n",
       " ['o9_13273',\n",
       "  \"JSJ([('SFSpace', 'SFS [A: (2,1)]'), ('SFSpace', 'SFS [A: (5,4)]')])\"],\n",
       " ['o9_16248',\n",
       "  'SFS [D: (2,1) (2,1)] U/m SFS [D: (3,1) (6,1)], m = [ 1,1 | 0,1 ]'],\n",
       " ['o9_16874',\n",
       "  'SFS [D: (2,1) (6,1)] U/m SFS [D: (3,1) (3,2)], m = [ -1,1 | 1,-2 ]'],\n",
       " ['o9_19326',\n",
       "  \"JSJ([('SFSpace', 'SFS [A: (2,3)]'), ('SFSpace', 'SFS [A: (4,5)]')])\"],\n",
       " ['o9_19831',\n",
       "  \"JSJ([('SFSpace', 'SFS [A: (2,1)]'), ('SFSpace', 'SFS [A: (5,7)]')])\"],\n",
       " ['o9_20397',\n",
       "  \"JSJ([('SFSpace', 'SFS [A: (3,1)]'), ('SFSpace', 'SFS [A: (4,7)]')])\"],\n",
       " ['o9_20458',\n",
       "  \"JSJ([('SFSpace', 'SFS [A: (3,2)]'), ('SFSpace', 'SFS [A: (4,1)]')])\"],\n",
       " ['o9_20894',\n",
       "  'SFS [D: (2,1) (2,1)] U/m SFS [D: (3,1) (3,2)], m = [ -4,5 | -3,4 ]'],\n",
       " ['o9_22066', 'SFS [A: (2,1)] / [ 2,11 | 1,5 ]'],\n",
       " ['o9_22337',\n",
       "  'SFS [D: (2,1) (3,1)] U/m SFS [D: (2,1) (6,5)], m = [ -2,3 | -1,2 ]'],\n",
       " ['o9_22951',\n",
       "  \"JSJ([('SFSpace', 'SFS [D: (3,1) (3,-1)]'), ('hyperbolic', 'm004')])\"],\n",
       " ['o9_23094',\n",
       "  \"JSJ([('SFSpace', 'SFS [A: (3,1)]'), ('SFSpace', 'SFS [A: (3,5)]')])\"],\n",
       " ['o9_24293', 'SFS [A: (7,3)] / [ 2,5 | 1,2 ]'],\n",
       " ['o9_24670', 'SFS [A: (8,3)] / [ 2,5 | 1,2 ]'],\n",
       " ['o9_27542', \"JSJ([('SFSpace', 'M/n2 x~ S1'), ('hyperbolic', 'm015')])\"],\n",
       " ['o9_31828', \"JSJ([('SFSpace', 'M/n2 x~ S1'), ('hyperbolic', 'm032')])\"],\n",
       " ['o9_31990', 'SFS [A: (5,2)] / [ 2,7 | 1,3 ]'],\n",
       " ['o9_33067',\n",
       "  \"JSJ([('SFSpace', 'SFS [A: (2,1)]'), ('SFSpace', 'SFS [A: (3,2)]')])\"],\n",
       " ['o9_33568', \"JSJ([('SFSpace', 'M/n2 x~ S1'), ('hyperbolic', 'm015')])\"],\n",
       " ['o9_34323',\n",
       "  \"JSJ([('SFSpace', 'SFS [A: (2,3)]'), ('SFSpace', 'SFS [A: (3,5)]')])\"],\n",
       " ['o9_34700',\n",
       "  \"JSJ([('SFSpace', 'SFS [A: (2,1)]'), ('SFSpace', 'SFS [A: (2,3)]')])\"],\n",
       " ['o9_35240', \"JSJ([('SFSpace', 'M/n2 x~ S1'), ('hyperbolic', 'm043')])\"],\n",
       " ['o9_36180',\n",
       "  \"JSJ([('SFSpace', 'SFS [A: (2,1)]'), ('SFSpace', 'SFS [A: (3,2)]')])\"],\n",
       " ['o9_36459', \"JSJ([('SFSpace', 'M/n2 x~ S1'), ('hyperbolic', 'm043')])\"],\n",
       " ['o9_36955',\n",
       "  \"JSJ([('SFSpace', 'SFS [A: (3,4)]'), ('SFSpace', 'SFS [A: (3,4)]')])\"],\n",
       " ['o9_37563',\n",
       "  'SFS [D: (2,1) (3,2)] U/m SFS [D: (2,1) (5,2)], m = [ -3,4 | -2,3 ]'],\n",
       " ['o9_37618',\n",
       "  'SFS [D: (2,1) (2,1)] U/m SFS [D: (5,2) (5,3)], m = [ -2,3 | -1,2 ]'],\n",
       " ['o9_37768', \"JSJ([('SFSpace', 'M/n2 x~ S1'), ('hyperbolic', 'm032')])\"],\n",
       " ['o9_37795', \"JSJ([('hyperbolic', 'm125')])\"],\n",
       " ['o9_39285',\n",
       "  \"JSJ([('SFSpace', 'SFS [A: (2,1)]'), ('SFSpace', 'SFS [A: (2,1)]'), ('SFSpace', 'SFS [A: (2,1)]')])\"],\n",
       " ['o9_39339', \"JSJ([('hyperbolic', 'm202')])\"],\n",
       " ['o9_40361',\n",
       "  \"JSJ([('SFSpace', 'SFS [A: (2,3)]'), ('SFSpace', 'SFS [A: (3,5)]')])\"],\n",
       " ['o9_40449',\n",
       "  \"JSJ([('SFSpace', 'SFS [A: (2,1)]'), ('SFSpace', 'SFS [A: (2,1)]'), ('SFSpace', 'SFS [A: (2,3)]')])\"]]"
      ]
     },
     "execution_count": 27,
     "metadata": {},
     "output_type": "execute_result"
    }
   ],
   "source": [
    "JSJ"
   ]
  },
  {
   "cell_type": "markdown",
   "id": "2926cd6f",
   "metadata": {},
   "source": [
    "Among these, we readily see that there are only two that might be obtained by gluing knot complements. These are:\n",
    "    \n",
    "['o9_37563',  'SFS [D: (2,1) (3,2)] U/m SFS [D: (2,1) (5,2)], m = [ -3,4 | -2,3 ]']\n",
    "\n",
    "['o9_37795', \"JSJ([('hyperbolic', 'm125')])\"]"
   ]
  },
  {
   "cell_type": "code",
   "execution_count": 28,
   "id": "0960c95b",
   "metadata": {},
   "outputs": [],
   "source": [
    "K=snappy.Manifold('m125')"
   ]
  },
  {
   "cell_type": "code",
   "execution_count": 29,
   "id": "ba11153e",
   "metadata": {},
   "outputs": [
    {
     "data": {
      "text/plain": [
       "Z + Z"
      ]
     },
     "execution_count": 29,
     "metadata": {},
     "output_type": "execute_result"
    }
   ],
   "source": [
    "K.homology()"
   ]
  },
  {
   "cell_type": "markdown",
   "id": "f3715fe3",
   "metadata": {},
   "source": [
    "And thus m125 is no knot in S3 and we are only left with the first example. This is given by gluing together the complements of the torus knots T(2,3) and T(2,5). We check if the Alexander polynomials of these agree."
   ]
  },
  {
   "cell_type": "code",
   "execution_count": 37,
   "id": "3cc50a26",
   "metadata": {},
   "outputs": [
    {
     "data": {
      "text/plain": [
       "a^6 - 2*a^5 + 3*a^4 - 3*a^3 + 3*a^2 - 2*a + 1"
      ]
     },
     "execution_count": 37,
     "metadata": {},
     "output_type": "execute_result"
    }
   ],
   "source": [
    "K=snappy.Manifold('o9_37563')\n",
    "K.alexander_polynomial()"
   ]
  },
  {
   "cell_type": "code",
   "execution_count": 36,
   "id": "7acd96a3",
   "metadata": {},
   "outputs": [
    {
     "data": {
      "text/plain": [
       "a^6 - 2*a^5 + 3*a^4 - 3*a^3 + 3*a^2 - 2*a + 1"
      ]
     },
     "execution_count": 36,
     "metadata": {},
     "output_type": "execute_result"
    }
   ],
   "source": [
    "T23=snappy.Link('K3a1')\n",
    "T25=snappy.Link('K5a2')\n",
    "C=T23.connected_sum(T25)\n",
    "C.exterior().alexander_polynomial()"
   ]
  },
  {
   "cell_type": "markdown",
   "id": "cedb1dd1",
   "metadata": {},
   "source": [
    "We continue by checking the other invariants."
   ]
  },
  {
   "cell_type": "code",
   "execution_count": 39,
   "id": "b3fd01b1",
   "metadata": {},
   "outputs": [],
   "source": [
    "K.dehn_fill(K.homological_longitude())\n",
    "E=C.exterior()\n",
    "E.dehn_fill(E.homological_longitude())"
   ]
  },
  {
   "cell_type": "code",
   "execution_count": 40,
   "id": "5772285e",
   "metadata": {},
   "outputs": [
    {
     "data": {
      "text/plain": [
       "[1, 2, 2, 11, 48, 45]"
      ]
     },
     "execution_count": 40,
     "metadata": {},
     "output_type": "execute_result"
    }
   ],
   "source": [
    "subgroups_up_to_order_k(K,7)"
   ]
  },
  {
   "cell_type": "code",
   "execution_count": 41,
   "id": "7333d91c",
   "metadata": {},
   "outputs": [
    {
     "data": {
      "text/plain": [
       "[1, 2, 2, 11, 48, 45]"
      ]
     },
     "execution_count": 41,
     "metadata": {},
     "output_type": "execute_result"
    }
   ],
   "source": [
    "subgroups_up_to_order_k(E,7)"
   ]
  },
  {
   "cell_type": "markdown",
   "id": "b1e51055",
   "metadata": {},
   "source": [
    "In summary we have found 3 pairs with equal hyperbolic 0-surgery and 12 pairs that might have equal non-hyperbolic 0-surgery and one census knot that might have the same 0-surgery as a connected sum. For the last pairs we can work a bit harder with regina. These are:"
   ]
  },
  {
   "cell_type": "code",
   "execution_count": 44,
   "id": "1272e7d4",
   "metadata": {},
   "outputs": [
    {
     "data": {
      "text/plain": [
       "['o9_37563',\n",
       " 'K3a1+sum+K5a2',\n",
       " 'SFS [D: (2,1) (3,2)] U/m SFS [D: (2,1) (5,2)], m = [ -3,4 | -2,3 ]']"
      ]
     },
     "execution_count": 44,
     "metadata": {},
     "output_type": "execute_result"
    }
   ],
   "source": [
    "census_and_pos_con_sum"
   ]
  },
  {
   "cell_type": "code",
   "execution_count": 14,
   "id": "387b928e",
   "metadata": {},
   "outputs": [
    {
     "data": {
      "text/plain": [
       "[['t12270', 'K13n2527'], ['t11462', 'K14n3155'], ['o9_40081', 'K15n94464']]"
      ]
     },
     "execution_count": 14,
     "metadata": {},
     "output_type": "execute_result"
    }
   ],
   "source": [
    "Knots_with_same_hyperbolic_0_surgery"
   ]
  },
  {
   "cell_type": "code",
   "execution_count": 15,
   "id": "273ce6d0",
   "metadata": {
    "scrolled": true
   },
   "outputs": [
    {
     "data": {
      "text/plain": [
       "[[['m201', 'SFS [S2: (2,1) (5,1) (10,-7)]'],\n",
       "  ['K5a2', 'SFS [S2: (2,1) (5,2) (10,-9)]']],\n",
       " [['o9_34818', 'SFS [S2: (2,1) (5,1) (10,-7)]'],\n",
       "  ['K5a2', 'SFS [S2: (2,1) (5,2) (10,-9)]']],\n",
       " [['s188', 'SFS [S2: (3,1) (4,1) (12,-7)]'],\n",
       "  ['K8n3', 'SFS [S2: (3,2) (4,1) (12,-11)]']],\n",
       " [['o9_22337',\n",
       "   'SFS [D: (2,1) (3,1)] U/m SFS [D: (2,1) (6,5)], m = [ -2,3 | -1,2 ]'],\n",
       "  ['K15n124802',\n",
       "   'SFS [D: (2,1) (3,1)] U/m SFS [D: (2,1) (6,1)], m = [ -7,9 | -3,4 ]']],\n",
       " [['v0595', 'SFS [S2: (2,1) (7,2) (14,-11)]'],\n",
       "  ['K7a7', 'SFS [S2: (2,1) (7,3) (14,-13)]']],\n",
       " [['t12120', 'SFS [S2: (2,1) (7,2) (14,-11)]'],\n",
       "  ['K7a7', 'SFS [S2: (2,1) (7,3) (14,-13)]']],\n",
       " [['t01142', 'SFS [S2: (3,1) (5,2) (15,-11)]'],\n",
       "  ['K10n21', 'SFS [S2: (3,1) (5,3) (15,-14)]']],\n",
       " [['t02019', 'SFS [S2: (2,1) (9,2) (18,-13)]'],\n",
       "  ['K9a41', 'SFS [S2: (2,1) (9,4) (18,-17)]']],\n",
       " [['o9_04139', 'SFS [S2: (3,1) (7,2) (21,-13)]'],\n",
       "  ['K14n21881', 'SFS [S2: (3,2) (7,2) (21,-20)]']],\n",
       " [['o9_04950', 'SFS [S2: (2,1) (11,3) (22,-17)]'],\n",
       "  ['K11a367', 'SFS [S2: (2,1) (11,5) (22,-21)]']],\n",
       " [['o9_31828', \"JSJ([('SFSpace', 'M/n2 x~ S1'), ('hyperbolic', 'm032')])\"],\n",
       "  ['K15n153789',\n",
       "   \"JSJ[('SFSpace', 'SFS [D: (2,1) (2,-1)]'), ('hyperbolic', 'm032')]\"]],\n",
       " [['o9_37768', \"JSJ([('SFSpace', 'M/n2 x~ S1'), ('hyperbolic', 'm032')])\"],\n",
       "  ['K15n153789',\n",
       "   \"JSJ[('SFSpace', 'SFS [D: (2,1) (2,-1)]'), ('hyperbolic', 'm032')]\"]]]"
      ]
     },
     "execution_count": 15,
     "metadata": {},
     "output_type": "execute_result"
    }
   ],
   "source": [
    "Maybe_equal_non_hyperbolic_0_surgery"
   ]
  },
  {
   "cell_type": "markdown",
   "id": "26849aa7",
   "metadata": {},
   "source": [
    "The 3 census knots all have slice genus 1. Thus if one of the below is slice, that would be interesting."
   ]
  },
  {
   "cell_type": "code",
   "execution_count": 53,
   "id": "ab27b559",
   "metadata": {},
   "outputs": [
    {
     "name": "stdout",
     "output_type": "stream",
     "text": [
      "0\n",
      "t^4 + t^3 - 5*t^2 + t + 1\n",
      "{'L_space_knot': False, 'epsilon': 0, 'fibered': True, 'modulus': 2, 'nu': 0, 'ranks': {(-2, -3): 1, (-1, -2): 2, (-1, -1): 3, (0, -1): 2, (0, 0): 7, (1, 0): 2, (1, 1): 3, (2, 1): 1}, 'seifert_genus': 2, 'tau': 0, 'total_rank': 21}\n"
     ]
    },
    {
     "data": {
      "image/png": "[encoded data removed]",
      "text/plain": [
       "Graphics object consisting of 45 graphics primitives"
      ]
     },
     "execution_count": 53,
     "metadata": {},
     "output_type": "execute_result"
    }
   ],
   "source": [
    "D=snappy.Link('K13n2527')\n",
    "\n",
    "print(D.signature())\n",
    "print(D.alexander_polynomial())\n",
    "print(D.knot_floer_homology())\n",
    "\n",
    "D.sage_link().plot()"
   ]
  },
  {
   "cell_type": "code",
   "execution_count": 54,
   "id": "bb679b51",
   "metadata": {},
   "outputs": [
    {
     "name": "stdout",
     "output_type": "stream",
     "text": [
      "0\n",
      "t^6 - 2*t^5 + 3*t^4 - 5*t^3 + 3*t^2 - 2*t + 1\n",
      "{'L_space_knot': False, 'epsilon': 0, 'fibered': True, 'modulus': 2, 'nu': 0, 'ranks': {(-3, -3): 1, (-2, -2): 2, (-1, -1): 3, (0, 0): 5, (1, 1): 3, (2, 2): 2, (3, 3): 1}, 'seifert_genus': 3, 'tau': 0, 'total_rank': 17}\n"
     ]
    },
    {
     "data": {
      "image/png": "[encoded data removed]",
      "text/plain": [
       "Graphics object consisting of 56 graphics primitives"
      ]
     },
     "execution_count": 54,
     "metadata": {},
     "output_type": "execute_result"
    }
   ],
   "source": [
    "D=snappy.Link('K14n3155')\n",
    "\n",
    "print(D.signature())\n",
    "print(D.alexander_polynomial())\n",
    "print(D.knot_floer_homology())\n",
    "\n",
    "D.sage_link().plot()"
   ]
  },
  {
   "cell_type": "code",
   "execution_count": 55,
   "id": "1d8cdfaf",
   "metadata": {},
   "outputs": [
    {
     "name": "stdout",
     "output_type": "stream",
     "text": [
      "-2\n",
      "2*t^4 - t^3 - 3*t^2 - t + 2\n",
      "{'L_space_knot': False, 'epsilon': 0, 'fibered': False, 'modulus': 2, 'nu': 0, 'ranks': {(-2, -3): 1, (-2, -1): 1, (-1, -2): 2, (-1, -1): 3, (-1, 0): 2, (0, -1): 2, (0, 0): 7, (0, 1): 2, (1, 0): 2, (1, 1): 3, (1, 2): 2, (2, 1): 1, (2, 3): 1}, 'seifert_genus': 2, 'tau': 0, 'total_rank': 29}\n"
     ]
    },
    {
     "data": {
      "image/png": "[encoded data removed]",
      "text/plain": [
       "Graphics object consisting of 59 graphics primitives"
      ]
     },
     "execution_count": 55,
     "metadata": {},
     "output_type": "execute_result"
    }
   ],
   "source": [
    "D=snappy.Link('K15n94464')\n",
    "\n",
    "print(D.signature())\n",
    "print(D.alexander_polynomial())\n",
    "print(D.knot_floer_homology())\n",
    "\n",
    "D.sage_link().plot()"
   ]
  },
  {
   "cell_type": "code",
   "execution_count": null,
   "id": "e1325fb0",
   "metadata": {},
   "outputs": [],
   "source": []
  }
 ],
 "metadata": {
  "kernelspec": {
   "display_name": "SageMath 9.5",
   "language": "sage",
   "name": "sagemath"
  },
  "language_info": {
   "codemirror_mode": {
    "name": "ipython",
    "version": 3
   },
   "file_extension": ".py",
   "mimetype": "text/x-python",
   "name": "python",
   "nbconvert_exporter": "python",
   "pygments_lexer": "ipython3",
   "version": "3.10.6"
  }
 },
 "nbformat": 4,
 "nbformat_minor": 5
}
