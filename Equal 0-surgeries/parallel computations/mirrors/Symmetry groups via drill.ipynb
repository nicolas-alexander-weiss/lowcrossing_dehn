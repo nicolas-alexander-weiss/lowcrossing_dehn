{
 "cells": [
  {
   "cell_type": "markdown",
   "id": "f46ad2b8",
   "metadata": {},
   "source": [
    "In this notebook, we compute the remaining symmetry groups by drilling out the systole."
   ]
  },
  {
   "cell_type": "code",
   "execution_count": 1,
   "id": "676dbf52",
   "metadata": {},
   "outputs": [],
   "source": [
    "import snappy\n",
    "\n",
    "def all_positive(manifold):\n",
    "    '''\n",
    "    Checks if the solution type of a triangulation is positive.\n",
    "    '''\n",
    "    return manifold.solution_type() == 'all tetrahedra positively oriented'\n",
    "\n",
    "def find_positive_triangulations(manifold,number=1,tries=100):\n",
    "    '''\n",
    "    Searches for one triangulation with a positive solution type.\n",
    "    (Or if number is set to a different value also for different such triangulations.)\n",
    "    '''\n",
    "    M = manifold.copy()\n",
    "    pos_triangulations=[]\n",
    "    for i in range(tries):\n",
    "        if all_positive(M):\n",
    "            pos_triangulations.append(M)\n",
    "            if len(pos_triangulations)==number:\n",
    "                return pos_triangulations\n",
    "            break\n",
    "        M.randomize()\n",
    "    for d in M.dual_curves(max_segments=500):\n",
    "        X = M.drill(d)\n",
    "        X = X.filled_triangulation()\n",
    "        X.dehn_fill((1,0),-1)\n",
    "        for i in range(tries):\n",
    "            if all_positive(X):\n",
    "                pos_triangulations.append(X)\n",
    "                if len(pos_triangulations)==number:\n",
    "                    return pos_triangulations\n",
    "                break\n",
    "            X.randomize()\n",
    "\n",
    "    # In the closed case, here is another trick.\n",
    "    if all(not c for c in M.cusp_info('is_complete')):\n",
    "        for i in range(tries):\n",
    "            # Drills out a random edge\n",
    "            X = M.__class__(M.filled_triangulation())\n",
    "            if all_positive(X):\n",
    "                pos_triangulations.append(X)\n",
    "                if len(pos_triangulations)==number:\n",
    "                    return pos_triangulations\n",
    "            break\n",
    "            M.randomize()\n",
    "    return pos_triangulations\n",
    "\n",
    "def better_symmetry_group(M,index=100,num_pos_triang=1):\n",
    "    '''\n",
    "    This function computes the symmetry group of the input manifold. \n",
    "    If the second entry is True it is proven to be the symmetry group.\n",
    "    '''\n",
    "    full=False\n",
    "    S='unclear'\n",
    "    try:\n",
    "        S=M.symmetry_group()\n",
    "        full=S.is_full_group()\n",
    "        if full:\n",
    "            return (S,full)\n",
    "    except (ValueError, RuntimeError, snappy.SnapPeaFatalError):\n",
    "        pass\n",
    "    pos_triang=find_positive_triangulations(M,tries=index,number=num_pos_triang)\n",
    "    if pos_triang==[]:\n",
    "        randomizeCount=0\n",
    "        while randomizeCount<index and full==False:\n",
    "            try:\n",
    "                S=M.symmetry_group()\n",
    "                full=S.is_full_group()\n",
    "                if full:\n",
    "                    return (S,full)\n",
    "                M.randomize()\n",
    "                randomizeCount=randomizeCount+1\n",
    "            except (ValueError, RuntimeError, snappy.SnapPeaFatalError):\n",
    "                M.randomize()\n",
    "                randomizeCount=randomizeCount+1\n",
    "    for X in pos_triang:\n",
    "        randomizeCount=0\n",
    "        while randomizeCount<index and full==False:\n",
    "            try:\n",
    "                S=X.symmetry_group()\n",
    "                full=S.is_full_group()\n",
    "                if full:\n",
    "                    return (S,full)\n",
    "                X.randomize()\n",
    "                randomizeCount=randomizeCount+1\n",
    "            except (ValueError, RuntimeError, snappy.SnapPeaFatalError):\n",
    "                X.randomize()\n",
    "                randomizeCount=randomizeCount+1\n",
    "    return (S,full)\n",
    "\n",
    "def better_systole_word(M,index=100,length=1):\n",
    "    '''\n",
    "    Computes the word of the systole of a manifold. \n",
    "    It returns False if SnapPy cannot compute the systole.\n",
    "    '''\n",
    "    randomizeCount=0\n",
    "    while randomizeCount<index:\n",
    "        try:\n",
    "            return M.length_spectrum(cutoff=length,include_words=True)[0].word\n",
    "        except:\n",
    "            M.randomize()\n",
    "            randomizeCount=randomizeCount+1\n",
    "    return False\n",
    "\n",
    "def symmetry_group_via_drill(mfd,high_precision=False,maxlength=1,tries=10):\n",
    "    '''\n",
    "    Computes the length spectrum of a given input manifold M up to a given maximal length, \n",
    "    drills out the shortest geodesic, and computes the symmetry group of that drilled manifold.\n",
    "    Since every symmetry of M sends the shortest geodesic to itself, this is the symmetry group of M. \n",
    "    '''\n",
    "    M=snappy.Manifold(mfd)\n",
    "    if high_precision:\n",
    "        M=M.high_precision()\n",
    "    for i in range(tries):\n",
    "        try:\n",
    "            systole=better_systole_word(M,length=maxlength)\n",
    "            P=M.drill_word(systole)\n",
    "            return better_symmetry_group(P)\n",
    "        except:\n",
    "            M.randomize()\n",
    "    return False"
   ]
  },
  {
   "cell_type": "code",
   "execution_count": 2,
   "id": "79e3c2e9",
   "metadata": {},
   "outputs": [
    {
     "data": {
      "text/plain": [
       "17825"
      ]
     },
     "execution_count": 2,
     "metadata": {},
     "output_type": "execute_result"
    }
   ],
   "source": [
    "import csv\n",
    "unclear=[]\n",
    "with open('unclear_knots.csv', 'r') as file:\n",
    "    reader = csv.reader(file)\n",
    "    for row in reader:\n",
    "        unclear.append(row)\n",
    "unclear=unclear[1:]\n",
    "len(unclear)"
   ]
  },
  {
   "cell_type": "code",
   "execution_count": 3,
   "id": "4d91c7d0",
   "metadata": {},
   "outputs": [
    {
     "name": "stdout",
     "output_type": "stream",
     "text": [
      "Number of knots handled: 0\n",
      "Number of knots handled: 250\n",
      "Number of knots handled: 500\n",
      "Number of knots handled: 750\n",
      "Number of knots handled: 1000\n",
      "Number of knots handled: 1250\n",
      "Number of knots handled: 1500\n",
      "Number of knots handled: 1750\n",
      "Number of knots handled: 2000\n",
      "Number of knots handled: 2250\n",
      "Number of knots handled: 2500\n",
      "Number of knots handled: 2750\n",
      "Number of knots handled: 3000\n",
      "Number of knots handled: 3250\n",
      "Number of knots handled: 3500\n",
      "Number of knots handled: 3750\n",
      "Number of knots handled: 4000\n",
      "Number of knots handled: 4250\n",
      "Number of knots handled: 4500\n",
      "Number of knots handled: 4750\n",
      "Number of knots handled: 5000\n",
      "Number of knots handled: 5250\n",
      "Number of knots handled: 5500\n",
      "Number of knots handled: 5750\n",
      "Number of knots handled: 6000\n",
      "Number of knots handled: 6250\n",
      "Number of knots handled: 6500\n",
      "Number of knots handled: 6750\n",
      "Number of knots handled: 7000\n",
      "Number of knots handled: 7250\n",
      "Number of knots handled: 7500\n",
      "Number of knots handled: 7750\n",
      "Number of knots handled: 8000\n",
      "Number of knots handled: 8250\n",
      "Number of knots handled: 8500\n",
      "Number of knots handled: 8750\n",
      "Number of knots handled: 9000\n",
      "Number of knots handled: 9250\n",
      "Number of knots handled: 9500\n",
      "Number of knots handled: 9750\n",
      "Number of knots handled: 10000\n",
      "Number of knots handled: 10250\n",
      "Number of knots handled: 10500\n",
      "Number of knots handled: 10750\n",
      "Number of knots handled: 11000\n",
      "Number of knots handled: 11250\n",
      "Number of knots handled: 11500\n",
      "Number of knots handled: 11750\n",
      "Number of knots handled: 12000\n",
      "Number of knots handled: 12250\n",
      "Number of knots handled: 12500\n",
      "Number of knots handled: 12750\n",
      "Number of knots handled: 13000\n",
      "Number of knots handled: 13250\n",
      "Number of knots handled: 13500\n",
      "Number of knots handled: 13750\n",
      "Number of knots handled: 14000\n",
      "Number of knots handled: 14250\n",
      "Number of knots handled: 14500\n",
      "Number of knots handled: 14750\n",
      "Number of knots handled: 15000\n",
      "Number of knots handled: 15250\n",
      "Number of knots handled: 15500\n",
      "Number of knots handled: 15750\n",
      "Number of knots handled: 16000\n",
      "Number of knots handled: 16250\n",
      "Number of knots handled: 16500\n",
      "Number of knots handled: 16750\n",
      "Number of knots handled: 17000\n",
      "Number of knots handled: 17250\n",
      "Number of knots handled: 17500\n",
      "Number of knots handled: 17750\n",
      "Time taken: 4800.801429033279  seconds\n",
      "Still unclear knots: ['K15a5590']\n",
      "Knot with zero surgery isotopic to mirror []\n"
     ]
    }
   ],
   "source": [
    "import time\n",
    "start_time=time.time()\n",
    "still_unclear=[]\n",
    "zero_surgery_is_isotopic_to_mirror=[]\n",
    "\n",
    "for knot in unclear:\n",
    "    if unclear.index(knot)%250==0:\n",
    "        print('Number of knots handled:',unclear.index(knot))\n",
    "    K=snappy.Manifold(knot[0])\n",
    "    K.dehn_fill((0,1))\n",
    "    S=symmetry_group_via_drill(K)\n",
    "    if S==False:\n",
    "        still_unclear.append(knot[0])\n",
    "    else:\n",
    "        if S[1]==False:\n",
    "            still_unclear.append(knot[0])\n",
    "        else:\n",
    "            if S[0].is_amphicheiral():\n",
    "                zero_surgery_is_isotopic_to_mirror.append(knot[0])\n",
    "\n",
    "print('Time taken:',time.time()-start_time,' seconds')\n",
    "print('Still unclear knots:',still_unclear)\n",
    "print('Knot with zero surgery isotopic to mirror',zero_surgery_is_isotopic_to_mirror)"
   ]
  },
  {
   "cell_type": "code",
   "execution_count": 4,
   "id": "bdd7f2c1",
   "metadata": {},
   "outputs": [
    {
     "data": {
      "text/plain": [
       "(0, True)"
      ]
     },
     "execution_count": 4,
     "metadata": {},
     "output_type": "execute_result"
    }
   ],
   "source": [
    "K=snappy.Manifold('K15a5590')\n",
    "K.dehn_fill((0,1))\n",
    "S=symmetry_group_via_drill(K,high_precision=True)\n",
    "S"
   ]
  },
  {
   "cell_type": "markdown",
   "id": "ef17ec40",
   "metadata": {},
   "source": [
    "We finish by demonstrating that 0 is a symmetry-exceptional slope for K14n3411 and K15n64176."
   ]
  },
  {
   "cell_type": "code",
   "execution_count": 21,
   "id": "ea045a2d",
   "metadata": {},
   "outputs": [
    {
     "data": {
      "text/plain": [
       "0"
      ]
     },
     "execution_count": 21,
     "metadata": {},
     "output_type": "execute_result"
    }
   ],
   "source": [
    "K=snappy.Manifold('K14n3411')\n",
    "S=K.symmetry_group()\n",
    "S"
   ]
  },
  {
   "cell_type": "code",
   "execution_count": 22,
   "id": "41aee7dd",
   "metadata": {},
   "outputs": [
    {
     "data": {
      "text/plain": [
       "Z/2"
      ]
     },
     "execution_count": 22,
     "metadata": {},
     "output_type": "execute_result"
    }
   ],
   "source": [
    "K.dehn_fill((0,1))\n",
    "S=K.symmetry_group()\n",
    "S"
   ]
  },
  {
   "cell_type": "code",
   "execution_count": 23,
   "id": "3e284d59",
   "metadata": {},
   "outputs": [
    {
     "data": {
      "text/plain": [
       "0"
      ]
     },
     "execution_count": 23,
     "metadata": {},
     "output_type": "execute_result"
    }
   ],
   "source": [
    "K=snappy.Manifold('K15n64176')\n",
    "S=K.symmetry_group()\n",
    "S"
   ]
  },
  {
   "cell_type": "code",
   "execution_count": 24,
   "id": "c4d12b83",
   "metadata": {},
   "outputs": [
    {
     "data": {
      "text/plain": [
       "Z/2"
      ]
     },
     "execution_count": 24,
     "metadata": {},
     "output_type": "execute_result"
    }
   ],
   "source": [
    "K.dehn_fill((0,1))\n",
    "S=K.symmetry_group()\n",
    "S"
   ]
  },
  {
   "cell_type": "code",
   "execution_count": null,
   "id": "11f18e15",
   "metadata": {},
   "outputs": [],
   "source": []
  }
 ],
 "metadata": {
  "kernelspec": {
   "display_name": "SageMath 9.6",
   "language": "sage",
   "name": "sagemath-9.6"
  },
  "language_info": {
   "codemirror_mode": {
    "name": "ipython",
    "version": 3
   },
   "file_extension": ".py",
   "mimetype": "text/x-python",
   "name": "python",
   "nbconvert_exporter": "python",
   "pygments_lexer": "ipython3",
   "version": "3.10.3"
  }
 },
 "nbformat": 4,
 "nbformat_minor": 5
}
