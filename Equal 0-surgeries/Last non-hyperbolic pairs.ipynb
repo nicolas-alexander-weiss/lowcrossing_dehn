{
 "cells": [
  {
   "cell_type": "markdown",
   "id": "71e285e0",
   "metadata": {},
   "source": [
    "In this notebook we finish the remaining non-hyperbolic pairs."
   ]
  },
  {
   "cell_type": "code",
   "execution_count": 1,
   "id": "869cf92d",
   "metadata": {},
   "outputs": [],
   "source": [
    "import snappy\n",
    "import time\n",
    "import regina"
   ]
  },
  {
   "cell_type": "code",
   "execution_count": 2,
   "id": "1b3d870d",
   "metadata": {},
   "outputs": [],
   "source": [
    "census_pairs=[[['o9_33067', \"JSJ([('SFSpace', 'SFS [A: (2,1)]'), ('SFSpace', 'SFS [A: (3,2)]')])\"], \n",
    "  ['o9_34323', \"JSJ([('SFSpace', 'SFS [A: (2,3)]'), ('SFSpace', 'SFS [A: (3,5)]')])\"]], \n",
    " [['o9_27542', \"JSJ([('SFSpace', 'M/n2 x~ S1'), ('hyperbolic', 'm015')])\"], \n",
    "  ['o9_33568', \"JSJ([('SFSpace', 'M/n2 x~ S1'), ('hyperbolic', 'm015')])\"]], \n",
    " [['o9_31828', \"JSJ([('SFSpace', 'M/n2 x~ S1'), ('hyperbolic', 'm032')])\"], \n",
    "  ['o9_37768', \"JSJ([('SFSpace', 'M/n2 x~ S1'), ('hyperbolic', 'm032')])\"]]]\n",
    "\n",
    "low_cros_pairs=[[['K5a1', 'SFS [A: (2,1)] / [ 0,1 | 1,-1 ]'], \n",
    "  ['K15n43522', 'SFS [A: (2,1)] / [ 3,11 | 2,7 ]']], \n",
    " [['K5a2', 'SFS [S2: (2,1) (5,2) (10,-9)]'], \n",
    "  ['K10n13', 'SFS [S2: (2,1) (5,1) (10,-7)]']], \n",
    " [['K9a36', \"JSJ[('SFSpace', 'SFS [A: (2,3)]'), ('SFSpace', 'SFS [A: (3,1)]')]\"], \n",
    "  ['K13a3143', 'SFS [A: (6,5)] / [ 0,1 | 1,-1 ]']], \n",
    " [['K9n5', 'SFS [A: (2,1)] / [ -1,3 | 1,-2 ]'], \n",
    "  ['K15n112479', 'SFS [A: (2,1)] / [ 2,9 | 1,4 ]']], \n",
    " [['K10a117', \"JSJ[('SFSpace', 'SFS [A: (2,1)]'), ('SFSpace', 'SFS [A: (3,5)]')]\"], \n",
    "  ['K14a12741', 'SFS [A: (6,1)] / [ 0,1 | 1,-2 ]']], \n",
    " [['K15n19499', \"JSJ[('SFSpace', 'SFS [D: (2,1) (2,-1)]'), ('hyperbolic', 'm032')]\"], \n",
    "  ['K15n153789', \"JSJ[('SFSpace', 'SFS [D: (2,1) (2,-1)]'), ('hyperbolic', 'm032')]\"]]]\n",
    "\n",
    "census_sum=['o9_37563', 'K3a1+sum+K5a2', 'SFS [D: (2,1) (3,2)] U/m SFS [D: (2,1) (5,2)], m = [ -3,4 | -2,3 ]'] \n",
    "\n",
    "census_low=[[['m201', 'SFS [S2: (2,1) (5,1) (10,-7)]'], \n",
    "  ['K5a2', 'SFS [S2: (2,1) (5,2) (10,-9)]']],\n",
    " [['o9_34818', 'SFS [S2: (2,1) (5,1) (10,-7)]'], \n",
    "  ['K5a2', 'SFS [S2: (2,1) (5,2) (10,-9)]']], \n",
    " [['s188', 'SFS [S2: (3,1) (4,1) (12,-7)]'], \n",
    "  ['K8n3', 'SFS [S2: (3,2) (4,1) (12,-11)]']], \n",
    " [['o9_22337', 'SFS [D: (2,1) (3,1)] U/m SFS [D: (2,1) (6,5)], m = [ -2,3 | -1,2 ]'], \n",
    "  ['K15n124802', 'SFS [D: (2,1) (3,1)] U/m SFS [D: (2,1) (6,1)], m = [ -7,9 | -3,4 ]']], \n",
    " [['v0595', 'SFS [S2: (2,1) (7,2) (14,-11)]'], ['K7a7', 'SFS [S2: (2,1) (7,3) (14,-13)]']], \n",
    " [['t12120', 'SFS [S2: (2,1) (7,2) (14,-11)]'], ['K7a7', 'SFS [S2: (2,1) (7,3) (14,-13)]']], \n",
    " [['t01142', 'SFS [S2: (3,1) (5,2) (15,-11)]'], ['K10n21', 'SFS [S2: (3,1) (5,3) (15,-14)]']], \n",
    " [['t02019', 'SFS [S2: (2,1) (9,2) (18,-13)]'], ['K9a41', 'SFS [S2: (2,1) (9,4) (18,-17)]']], \n",
    " [['o9_04139', 'SFS [S2: (3,1) (7,2) (21,-13)]'], ['K14n21881', 'SFS [S2: (3,2) (7,2) (21,-20)]']], \n",
    " [['o9_04950', 'SFS [S2: (2,1) (11,3) (22,-17)]'], ['K11a367', 'SFS [S2: (2,1) (11,5) (22,-21)]']],\n",
    " [['o9_31828', \"JSJ([('SFSpace', 'M/n2 x~ S1'), ('hyperbolic', 'm032')])\"], \n",
    "  ['K15n153789', \"JSJ[('SFSpace', 'SFS [D: (2,1) (2,-1)]'), ('hyperbolic', 'm032')]\"]], \n",
    " [['o9_37768', \"JSJ([('SFSpace', 'M/n2 x~ S1'), ('hyperbolic', 'm032')])\"], \n",
    "  ['K15n153789', \"JSJ[('SFSpace', 'SFS [D: (2,1) (2,-1)]'), ('hyperbolic', 'm032')]\"]]]"
   ]
  },
  {
   "cell_type": "code",
   "execution_count": 3,
   "id": "3b4f931e",
   "metadata": {},
   "outputs": [
    {
     "name": "stdout",
     "output_type": "stream",
     "text": [
      "o9_33067(1,-1) o9_34323(0,1)\n",
      "Degree: 2 Number of covers: 1 1\n",
      "Degree: 3 Number of covers: 1 1\n",
      "Degree: 4 Number of covers: 1 1\n",
      "Degree: 5 Number of covers: 1 1\n",
      "Degree: 6 Number of covers: 17 17\n",
      "Degree: 7 Number of covers: 81 81\n",
      "-----------------------------\n",
      "o9_27542(1,-1) o9_33568(0,1)\n",
      "Degree: 2 Number of covers: 1 1\n",
      "Degree: 3 Number of covers: 1 1\n",
      "Degree: 4 Number of covers: 1 1\n",
      "Degree: 5 Number of covers: 1 1\n",
      "Degree: 6 Number of covers: 1 1\n",
      "Degree: 7 Number of covers: 7 7\n",
      "-----------------------------\n",
      "o9_31828(1,-1) o9_37768(1,-1)\n",
      "Degree: 2 Number of covers: 1 1\n",
      "Degree: 3 Number of covers: 1 1\n",
      "Degree: 4 Number of covers: 1 1\n",
      "Degree: 5 Number of covers: 2 2\n",
      "Degree: 6 Number of covers: 4 4\n",
      "Degree: 7 Number of covers: 11 11\n",
      "-----------------------------\n",
      "Time taken: 0.008270875612894694 minutes \n"
     ]
    }
   ],
   "source": [
    "start_time=time.time()\n",
    "\n",
    "for [x,y] in census_pairs:\n",
    "    M=snappy.Manifold(x[0])\n",
    "    N=snappy.Manifold(y[0])\n",
    "    M.dehn_fill(M.homological_longitude())\n",
    "    N.dehn_fill(N.homological_longitude())\n",
    "    print(M,N)\n",
    "    for d in range(2,8):\n",
    "        n1=len(M.covers(d))\n",
    "        n2=len(N.covers(d))\n",
    "        print('Degree:',d,'Number of covers:',n1,n2)\n",
    "        if n1!=n2:\n",
    "            print('The knots have different 0-surgeries.')\n",
    "            break\n",
    "    print('-----------------------------')\n",
    "\n",
    "print('Time taken: %s minutes ' % ((time.time() - start_time)/60)) "
   ]
  },
  {
   "cell_type": "markdown",
   "id": "611d1c96",
   "metadata": {},
   "source": [
    "So here we do not get new results."
   ]
  },
  {
   "cell_type": "code",
   "execution_count": 4,
   "id": "2908b885",
   "metadata": {
    "scrolled": true
   },
   "outputs": [
    {
     "name": "stdout",
     "output_type": "stream",
     "text": [
      "K5a1(0,1) K15n43522(0,1)\n",
      "Degree: 2 Number of covers: 1 1\n",
      "Degree: 3 Number of covers: 1 1\n",
      "Degree: 4 Number of covers: 1 1\n",
      "Degree: 5 Number of covers: 1 1\n",
      "Degree: 6 Number of covers: 3 3\n",
      "Degree: 7 Number of covers: 5 5\n",
      "Degree: 8 Number of covers: 8 8\n",
      "Degree: 9 Number of covers: 5 5\n",
      "Degree: 10 Number of covers: 8 8\n",
      "Degree: 11 Number of covers: 6 3801\n",
      "The knots have different 0-surgeries.\n",
      "-----------------------------\n",
      "K5a2(0,1) K10n13(0,1)\n",
      "Degree: 2 Number of covers: 1 1\n",
      "Degree: 3 Number of covers: 1 1\n",
      "Degree: 4 Number of covers: 1 1\n",
      "Degree: 5 Number of covers: 3 3\n",
      "Degree: 6 Number of covers: 4 4\n",
      "Degree: 7 Number of covers: 2 2\n",
      "Degree: 8 Number of covers: 1 1\n",
      "Degree: 9 Number of covers: 1 1\n",
      "Degree: 10 Number of covers: 40 40\n",
      "Degree: 11 Number of covers: 71 71\n",
      "-----------------------------\n",
      "K9a36(0,1) K13a3143(0,1)\n",
      "Degree: 2 Number of covers: 1 1\n",
      "Degree: 3 Number of covers: 1 1\n",
      "Degree: 4 Number of covers: 1 1\n",
      "Degree: 5 Number of covers: 1 1\n",
      "Degree: 6 Number of covers: 1 1\n",
      "Degree: 7 Number of covers: 1 1\n",
      "Degree: 8 Number of covers: 5 5\n",
      "Degree: 9 Number of covers: 1 1\n",
      "Degree: 10 Number of covers: 37 5\n",
      "The knots have different 0-surgeries.\n",
      "-----------------------------\n",
      "K9n5(0,1) K15n112479(0,1)\n",
      "Degree: 2 Number of covers: 1 1\n",
      "Degree: 3 Number of covers: 5 5\n",
      "Degree: 4 Number of covers: 4 4\n",
      "Degree: 5 Number of covers: 6 6\n",
      "Degree: 6 Number of covers: 24 24\n",
      "Degree: 7 Number of covers: 9 9\n",
      "Degree: 8 Number of covers: 41 41\n",
      "Degree: 9 Number of covers: 63 378\n",
      "The knots have different 0-surgeries.\n",
      "-----------------------------\n",
      "K10a117(0,1) K14a12741(0,1)\n",
      "Degree: 2 Number of covers: 1 1\n",
      "Degree: 3 Number of covers: 1 1\n",
      "Degree: 4 Number of covers: 1 1\n",
      "Degree: 5 Number of covers: 2 2\n",
      "Degree: 6 Number of covers: 1 1\n",
      "Degree: 7 Number of covers: 3 3\n",
      "Degree: 8 Number of covers: 5 5\n",
      "Degree: 9 Number of covers: 1 1\n",
      "Degree: 10 Number of covers: 40 8\n",
      "The knots have different 0-surgeries.\n",
      "-----------------------------\n",
      "K15n19499(0,1) K15n153789(0,1)\n",
      "Degree: 2 Number of covers: 1 1\n",
      "Degree: 3 Number of covers: 1 1\n",
      "Degree: 4 Number of covers: 1 1\n",
      "Degree: 5 Number of covers: 2 2\n",
      "Degree: 6 Number of covers: 4 4\n",
      "Degree: 7 Number of covers: 11 11\n",
      "Degree: 8 Number of covers: 15 15\n",
      "Degree: 9 Number of covers: 21 21\n",
      "Degree: 10 Number of covers: 56 56\n",
      "Degree: 11 Number of covers: 52 52\n",
      "-----------------------------\n",
      "Time taken: 0.3853090763092041 minutes \n"
     ]
    }
   ],
   "source": [
    "start_time=time.time()\n",
    "\n",
    "for [x,y] in low_cros_pairs:\n",
    "    M=snappy.Manifold(x[0]+'(0,1)')\n",
    "    N=snappy.Manifold(y[0]+'(0,1)')\n",
    "    print(M,N)\n",
    "    for d in range(2,12):\n",
    "        n1=len(M.covers(d))\n",
    "        n2=len(N.covers(d))\n",
    "        print('Degree:',d,'Number of covers:',n1,n2)\n",
    "        if n1!=n2:\n",
    "            print('The knots have different 0-surgeries.')\n",
    "            break\n",
    "    print('-----------------------------')\n",
    "\n",
    "print('Time taken: %s minutes ' % ((time.time() - start_time)/60)) "
   ]
  },
  {
   "cell_type": "markdown",
   "id": "21750a50",
   "metadata": {},
   "source": [
    "[['K5a2', 'SFS [S2: (2,1) (5,2) (10,-9)]'],  ['K10n13', 'SFS [S2: (2,1) (5,1) (10,-7)]']]\n",
    "\n",
    "These have different 0-surgeries. We can normalize the Seifert invariants to be:\n",
    "\n",
    "[['K5a2', 'SFS [S2: [1;(2,1) (5,2) (10,1)]]'],  ['K10n13', 'SFS [S2: [1;(2,1) (5,1) (10,3)]']]\n",
    "\n",
    "which are different by the classification of lens spaces. Thus we are only left with one pair:"
   ]
  },
  {
   "cell_type": "code",
   "execution_count": 5,
   "id": "98ee4f9c",
   "metadata": {},
   "outputs": [],
   "source": [
    "low_cros_pairs=[[['K15n19499', \"JSJ[('SFSpace', 'SFS [D: (2,1) (2,-1)]'), ('hyperbolic', 'm032')]\"], \n",
    "  ['K15n153789', \"JSJ[('SFSpace', 'SFS [D: (2,1) (2,-1)]'), ('hyperbolic', 'm032')]\"]]]"
   ]
  },
  {
   "cell_type": "code",
   "execution_count": 6,
   "id": "f3ceae0f",
   "metadata": {},
   "outputs": [
    {
     "name": "stdout",
     "output_type": "stream",
     "text": [
      "['o9_37563', 'K3a1+sum+K5a2', 'SFS [D: (2,1) (3,2)] U/m SFS [D: (2,1) (5,2)], m = [ -3,4 | -2,3 ]']\n"
     ]
    }
   ],
   "source": [
    "print(census_sum)"
   ]
  },
  {
   "cell_type": "code",
   "execution_count": 7,
   "id": "84282012",
   "metadata": {
    "scrolled": false
   },
   "outputs": [
    {
     "name": "stdout",
     "output_type": "stream",
     "text": [
      "o9_37563(0,1) unnamed link(0,1)\n",
      "Degree: 2 Number of covers: 1 1\n",
      "Degree: 3 Number of covers: 2 2\n",
      "Degree: 4 Number of covers: 2 2\n",
      "Degree: 5 Number of covers: 11 11\n",
      "Degree: 6 Number of covers: 48 48\n",
      "Degree: 7 Number of covers: 45 45\n",
      "Degree: 8 Number of covers: 40 88\n",
      "The knots have different 0-surgeries.\n",
      "-----------------------------\n",
      "Time taken: 0.003048868974049886 minutes \n"
     ]
    }
   ],
   "source": [
    "start_time=time.time()\n",
    "\n",
    "M=snappy.Manifold('o9_37563')\n",
    "A=snappy.Link('K3a1')\n",
    "B=snappy.Link('K5a2')\n",
    "N=A.connected_sum(B).exterior()\n",
    "M.dehn_fill(M.homological_longitude())\n",
    "N.dehn_fill(N.homological_longitude())\n",
    "print(M,N)\n",
    "for d in range(2,16):\n",
    "        n1=len(M.covers(d))\n",
    "        n2=len(N.covers(d))\n",
    "        print('Degree:',d,'Number of covers:',n1,n2)\n",
    "        if n1!=n2:\n",
    "            print('The knots have different 0-surgeries.')\n",
    "            break\n",
    "print('-----------------------------')\n",
    "\n",
    "print('Time taken: %s minutes ' % ((time.time() - start_time)/60)) "
   ]
  },
  {
   "cell_type": "markdown",
   "id": "b40b5b5f",
   "metadata": {},
   "source": [
    "Among the census_low we can again distinguish the following by normalizing the Seifert invariants of their pieces:\n",
    "    \n",
    "[[['m201', 'SFS [S2: (2,1) (5,1) (10,-7)]'],   ['K5a2', 'SFS [S2: (2,1) (5,2) (10,-9)]']]\n",
    "\n",
    " [['o9_34818', 'SFS [S2: (2,1) (5,1) (10,-7)]'],   ['K5a2', 'SFS [S2: (2,1) (5,2) (10,-9)]']]\n",
    " \n",
    " [['s188', 'SFS [S2: (3,1) (4,1) (12,-7)]'],   ['K8n3', 'SFS [S2: (3,2) (4,1) (12,-11)]']]\n",
    " \n",
    " [['o9_22337', 'SFS [D: (2,1) (3,1)] U/m SFS [D: (2,1) (6,5)], m = [ -2,3 | -1,2 ]'],   ['K15n124802', 'SFS [D: (2,1) (3,1)] U/m SFS [D: (2,1) (6,1)], m = [ -7,9 | -3,4 ]']]\n",
    " \n",
    " [['v0595', 'SFS [S2: (2,1) (7,2) (14,-11)]'], ['K7a7', 'SFS [S2: (2,1) (7,3) (14,-13)]']]\n",
    " \n",
    " [['t12120', 'SFS [S2: (2,1) (7,2) (14,-11)]'], ['K7a7', 'SFS [S2: (2,1) (7,3) (14,-13)]']],\n",
    " \n",
    " [['t01142', 'SFS [S2: (3,1) (5,2) (15,-11)]'], ['K10n21', 'SFS [S2: (3,1) (5,3) (15,-14)]']]\n",
    " \n",
    " [['t02019', 'SFS [S2: (2,1) (9,2) (18,-13)]'], ['K9a41', 'SFS [S2: (2,1) (9,4) (18,-17)]']],\n",
    " \n",
    " [['o9_04139', 'SFS [S2: (3,1) (7,2) (21,-13)]'], ['K14n21881', 'SFS [S2: (3,2) (7,2) (21,-20)]']]\n",
    " \n",
    " [['o9_04950', 'SFS [S2: (2,1) (11,3) (22,-17)]'], ['K11a367', 'SFS [S2: (2,1) (11,5) (22,-21)]']]\n",
    " \n",
    "This leaves us with the following pairs:\n",
    " "
   ]
  },
  {
   "cell_type": "code",
   "execution_count": 8,
   "id": "61e8eec5",
   "metadata": {},
   "outputs": [],
   "source": [
    "census_low=[ [['o9_31828', \"JSJ([('SFSpace', 'M/n2 x~ S1'), ('hyperbolic', 'm032')])\"],   ['K15n153789', \"JSJ[('SFSpace', 'SFS [D: (2,1) (2,-1)]'), ('hyperbolic', 'm032')]\"]], \n",
    " \n",
    " [['o9_37768', \"JSJ([('SFSpace', 'M/n2 x~ S1'), ('hyperbolic', 'm032')])\"],   ['K15n153789', \"JSJ[('SFSpace', 'SFS [D: (2,1) (2,-1)]'), ('hyperbolic', 'm032')]\"]]]"
   ]
  },
  {
   "cell_type": "code",
   "execution_count": 9,
   "id": "ded80d73",
   "metadata": {},
   "outputs": [
    {
     "name": "stdout",
     "output_type": "stream",
     "text": [
      "['o9_31828', \"JSJ([('SFSpace', 'M/n2 x~ S1'), ('hyperbolic', 'm032')])\"] ['K15n153789', \"JSJ[('SFSpace', 'SFS [D: (2,1) (2,-1)]'), ('hyperbolic', 'm032')]\"]\n",
      "o9_31828(1,-1) K15n153789(0,1)\n",
      "Degree: 2 Number of covers: 1 1\n",
      "Degree: 3 Number of covers: 1 1\n",
      "Degree: 4 Number of covers: 1 1\n",
      "Degree: 5 Number of covers: 2 2\n",
      "Degree: 6 Number of covers: 4 4\n",
      "Degree: 7 Number of covers: 11 11\n",
      "Degree: 8 Number of covers: 15 15\n",
      "Degree: 9 Number of covers: 21 21\n",
      "Degree: 10 Number of covers: 56 56\n",
      "Degree: 11 Number of covers: 52 52\n",
      "Degree: 12 Number of covers: 96 96\n",
      "-----------------------------\n",
      "['o9_37768', \"JSJ([('SFSpace', 'M/n2 x~ S1'), ('hyperbolic', 'm032')])\"] ['K15n153789', \"JSJ[('SFSpace', 'SFS [D: (2,1) (2,-1)]'), ('hyperbolic', 'm032')]\"]\n",
      "o9_37768(1,-1) K15n153789(0,1)\n",
      "Degree: 2 Number of covers: 1 1\n",
      "Degree: 3 Number of covers: 1 1\n",
      "Degree: 4 Number of covers: 1 1\n",
      "Degree: 5 Number of covers: 2 2\n",
      "Degree: 6 Number of covers: 4 4\n",
      "Degree: 7 Number of covers: 11 11\n",
      "Degree: 8 Number of covers: 15 15\n",
      "Degree: 9 Number of covers: 21 21\n",
      "Degree: 10 Number of covers: 56 56\n",
      "Degree: 11 Number of covers: 52 52\n",
      "Degree: 12 Number of covers: 96 96\n",
      "-----------------------------\n",
      "Time taken: 3.9325213472048444 minutes \n"
     ]
    }
   ],
   "source": [
    "start_time=time.time()\n",
    "\n",
    "for [x,y] in census_low:\n",
    "    print(x,y)\n",
    "    M=snappy.Manifold(x[0])\n",
    "    N=snappy.Manifold(y[0])\n",
    "    M.dehn_fill(M.homological_longitude())\n",
    "    N.dehn_fill(N.homological_longitude())\n",
    "    print(M,N)\n",
    "    for d in range(2,13):\n",
    "        n1=len(M.covers(d))\n",
    "        n2=len(N.covers(d))\n",
    "        print('Degree:',d,'Number of covers:',n1,n2)\n",
    "        if n1!=n2:\n",
    "            print('The knots have different 0-surgeries.')\n",
    "            break\n",
    "    print('-----------------------------')\n",
    "\n",
    "print('Time taken: %s minutes ' % ((time.time() - start_time)/60)) "
   ]
  },
  {
   "cell_type": "markdown",
   "id": "9cd4cd34",
   "metadata": {},
   "source": [
    "So we are left with the following pairs, which might share the same 0-surgery:"
   ]
  },
  {
   "cell_type": "code",
   "execution_count": 10,
   "id": "e341a11c",
   "metadata": {},
   "outputs": [
    {
     "data": {
      "text/plain": [
       "[[['o9_33067',\n",
       "   \"JSJ([('SFSpace', 'SFS [A: (2,1)]'), ('SFSpace', 'SFS [A: (3,2)]')])\"],\n",
       "  ['o9_34323',\n",
       "   \"JSJ([('SFSpace', 'SFS [A: (2,3)]'), ('SFSpace', 'SFS [A: (3,5)]')])\"]],\n",
       " [['o9_27542', \"JSJ([('SFSpace', 'M/n2 x~ S1'), ('hyperbolic', 'm015')])\"],\n",
       "  ['o9_33568', \"JSJ([('SFSpace', 'M/n2 x~ S1'), ('hyperbolic', 'm015')])\"]],\n",
       " [['o9_31828', \"JSJ([('SFSpace', 'M/n2 x~ S1'), ('hyperbolic', 'm032')])\"],\n",
       "  ['o9_37768', \"JSJ([('SFSpace', 'M/n2 x~ S1'), ('hyperbolic', 'm032')])\"]]]"
      ]
     },
     "execution_count": 10,
     "metadata": {},
     "output_type": "execute_result"
    }
   ],
   "source": [
    "census_pairs"
   ]
  },
  {
   "cell_type": "code",
   "execution_count": 11,
   "id": "baee8084",
   "metadata": {},
   "outputs": [
    {
     "data": {
      "text/plain": [
       "[[['o9_31828', \"JSJ([('SFSpace', 'M/n2 x~ S1'), ('hyperbolic', 'm032')])\"],\n",
       "  ['K15n153789',\n",
       "   \"JSJ[('SFSpace', 'SFS [D: (2,1) (2,-1)]'), ('hyperbolic', 'm032')]\"]],\n",
       " [['o9_37768', \"JSJ([('SFSpace', 'M/n2 x~ S1'), ('hyperbolic', 'm032')])\"],\n",
       "  ['K15n153789',\n",
       "   \"JSJ[('SFSpace', 'SFS [D: (2,1) (2,-1)]'), ('hyperbolic', 'm032')]\"]]]"
      ]
     },
     "execution_count": 11,
     "metadata": {},
     "output_type": "execute_result"
    }
   ],
   "source": [
    "census_low"
   ]
  },
  {
   "cell_type": "code",
   "execution_count": 12,
   "id": "db41b331",
   "metadata": {},
   "outputs": [
    {
     "data": {
      "text/plain": [
       "[[['K15n19499',\n",
       "   \"JSJ[('SFSpace', 'SFS [D: (2,1) (2,-1)]'), ('hyperbolic', 'm032')]\"],\n",
       "  ['K15n153789',\n",
       "   \"JSJ[('SFSpace', 'SFS [D: (2,1) (2,-1)]'), ('hyperbolic', 'm032')]\"]]]"
      ]
     },
     "execution_count": 12,
     "metadata": {},
     "output_type": "execute_result"
    }
   ],
   "source": [
    "low_cros_pairs"
   ]
  },
  {
   "cell_type": "markdown",
   "id": "5aa3ce0a",
   "metadata": {},
   "source": [
    "Some of which are the same since:"
   ]
  },
  {
   "cell_type": "code",
   "execution_count": 13,
   "id": "fcc9e119",
   "metadata": {
    "scrolled": true
   },
   "outputs": [
    {
     "data": {
      "text/plain": [
       "[o9_37768(0,0), K9_597(0,0), K15n19499(0,0)]"
      ]
     },
     "execution_count": 13,
     "metadata": {},
     "output_type": "execute_result"
    }
   ],
   "source": [
    "snappy.Manifold('o9_37768').identify()"
   ]
  },
  {
   "cell_type": "markdown",
   "id": "d6c50161",
   "metadata": {},
   "source": [
    "We use regina to search for a combinatorial isomorphism between the triangulations. For that we use the following functions."
   ]
  },
  {
   "cell_type": "code",
   "execution_count": 14,
   "id": "87eebce4",
   "metadata": {},
   "outputs": [],
   "source": [
    "import regina\n",
    "\n",
    "def to_regina(data):\n",
    "    if hasattr(data, '_to_string'):\n",
    "        data = data._to_string()\n",
    "    if isinstance(data, str):\n",
    "        if data.find('(') > -1:\n",
    "            data = closed_isosigs(data)[0]\n",
    "        return regina.Triangulation3(data)\n",
    "    assert isinstance(data, regina.Triangulation3)\n",
    "    return data\n",
    "\n",
    "def display1(sig, tri):\n",
    "    signatures1.append(sig)\n",
    "    return False\n",
    "\n",
    "def display2(sig, tri):\n",
    "    signatures2.append(sig)\n",
    "    return False\n",
    "\n",
    "def search_for_combinatorial_equivalence(M,N,index_M=1,index_N=1):\n",
    "    '''\n",
    "    Takes as input two snappy triangulations, transforms them to regina and searches through the pachner graph for an \n",
    "    equivalence.\n",
    "    '''\n",
    "    F1=M.filled_triangulation()\n",
    "    F2=N.filled_triangulation()\n",
    "    T1=to_regina(F1)\n",
    "    T2=to_regina(F2)\n",
    "    global signatures1\n",
    "    signatures1=[]\n",
    "    global signatures2\n",
    "    signatures2=[]\n",
    "    T1.retriangulate(1,1,display1)\n",
    "    T2.retriangulate(1,1,display2)\n",
    "    for s1 in signatures1:\n",
    "        for s2 in signatures2:\n",
    "            if s1==s2:\n",
    "                return True\n",
    "    return False"
   ]
  },
  {
   "cell_type": "code",
   "execution_count": 15,
   "id": "fbf28771",
   "metadata": {},
   "outputs": [
    {
     "name": "stdout",
     "output_type": "stream",
     "text": [
      "['o9_33067', \"JSJ([('SFSpace', 'SFS [A: (2,1)]'), ('SFSpace', 'SFS [A: (3,2)]')])\"] ['o9_34323', \"JSJ([('SFSpace', 'SFS [A: (2,3)]'), ('SFSpace', 'SFS [A: (3,5)]')])\"]\n",
      "o9_33067(1,-1) o9_34323(0,1)\n",
      "There is a combinatorial equivalence: False\n",
      "-----------------------------\n",
      "['o9_27542', \"JSJ([('SFSpace', 'M/n2 x~ S1'), ('hyperbolic', 'm015')])\"] ['o9_33568', \"JSJ([('SFSpace', 'M/n2 x~ S1'), ('hyperbolic', 'm015')])\"]\n",
      "o9_27542(1,-1) o9_33568(0,1)\n",
      "There is a combinatorial equivalence: True\n",
      "-----------------------------\n",
      "['o9_31828', \"JSJ([('SFSpace', 'M/n2 x~ S1'), ('hyperbolic', 'm032')])\"] ['o9_37768', \"JSJ([('SFSpace', 'M/n2 x~ S1'), ('hyperbolic', 'm032')])\"]\n",
      "o9_31828(1,-1) o9_37768(1,-1)\n",
      "There is a combinatorial equivalence: True\n",
      "-----------------------------\n",
      "Time taken: 0.030116299788157146 minutes \n"
     ]
    }
   ],
   "source": [
    "start_time=time.time()\n",
    "\n",
    "for [x,y] in census_pairs:\n",
    "    print(x,y)\n",
    "    M=snappy.Manifold(x[0])\n",
    "    N=snappy.Manifold(y[0])\n",
    "    M.dehn_fill(M.homological_longitude())\n",
    "    N.dehn_fill(N.homological_longitude())\n",
    "    print(M,N)\n",
    "    print('There is a combinatorial equivalence:',search_for_combinatorial_equivalence(M,N))\n",
    "    print('-----------------------------')\n",
    "\n",
    "print('Time taken: %s minutes ' % ((time.time() - start_time)/60)) "
   ]
  },
  {
   "cell_type": "code",
   "execution_count": 16,
   "id": "6aa8fbb9",
   "metadata": {},
   "outputs": [
    {
     "name": "stdout",
     "output_type": "stream",
     "text": [
      "['o9_31828', \"JSJ([('SFSpace', 'M/n2 x~ S1'), ('hyperbolic', 'm032')])\"] ['K15n153789', \"JSJ[('SFSpace', 'SFS [D: (2,1) (2,-1)]'), ('hyperbolic', 'm032')]\"]\n",
      "o9_31828(1,-1) K15n153789(0,1)\n",
      "There is a combinatorial equivalence: True\n",
      "-----------------------------\n",
      "['o9_37768', \"JSJ([('SFSpace', 'M/n2 x~ S1'), ('hyperbolic', 'm032')])\"] ['K15n153789', \"JSJ[('SFSpace', 'SFS [D: (2,1) (2,-1)]'), ('hyperbolic', 'm032')]\"]\n",
      "o9_37768(1,-1) K15n153789(0,1)\n",
      "There is a combinatorial equivalence: True\n",
      "-----------------------------\n",
      "Time taken: 0.0569730798403422 minutes \n"
     ]
    }
   ],
   "source": [
    "start_time=time.time()\n",
    "\n",
    "for [x,y] in census_low:\n",
    "    print(x,y)\n",
    "    M=snappy.Manifold(x[0])\n",
    "    N=snappy.Manifold(y[0])\n",
    "    M.dehn_fill(M.homological_longitude())\n",
    "    N.dehn_fill(N.homological_longitude())\n",
    "    print(M,N)\n",
    "    print('There is a combinatorial equivalence:',search_for_combinatorial_equivalence(M,N))\n",
    "    print('-----------------------------')\n",
    "\n",
    "print('Time taken: %s minutes ' % ((time.time() - start_time)/60)) "
   ]
  },
  {
   "cell_type": "code",
   "execution_count": 17,
   "id": "92b64aa3",
   "metadata": {},
   "outputs": [
    {
     "name": "stdout",
     "output_type": "stream",
     "text": [
      "['K15n19499', \"JSJ[('SFSpace', 'SFS [D: (2,1) (2,-1)]'), ('hyperbolic', 'm032')]\"] ['K15n153789', \"JSJ[('SFSpace', 'SFS [D: (2,1) (2,-1)]'), ('hyperbolic', 'm032')]\"]\n",
      "K15n19499(0,1) K15n153789(0,1)\n",
      "There is a combinatorial equivalence: True\n",
      "-----------------------------\n",
      "Time taken: 0.029138016700744628 minutes \n"
     ]
    }
   ],
   "source": [
    "start_time=time.time()\n",
    "\n",
    "for [x,y] in low_cros_pairs:\n",
    "    print(x,y)\n",
    "    M=snappy.Manifold(x[0])\n",
    "    N=snappy.Manifold(y[0])\n",
    "    M.dehn_fill(M.homological_longitude())\n",
    "    N.dehn_fill(N.homological_longitude())\n",
    "    print(M,N)\n",
    "    print('There is a combinatorial equivalence:',search_for_combinatorial_equivalence(M,N))\n",
    "    print('-----------------------------')\n",
    "\n",
    "print('Time taken: %s minutes ' % ((time.time() - start_time)/60)) "
   ]
  },
  {
   "cell_type": "markdown",
   "id": "319edccf",
   "metadata": {},
   "source": [
    "And we are left with distinguishing one pair:"
   ]
  },
  {
   "cell_type": "code",
   "execution_count": 18,
   "id": "0eba4c65",
   "metadata": {},
   "outputs": [],
   "source": [
    "last_pair=[['o9_33067',\n",
    "   \"JSJ([('SFSpace', 'SFS [A: (2,1)]'), ('SFSpace', 'SFS [A: (3,2)]')])\"],\n",
    "  ['o9_34323',\n",
    "   \"JSJ([('SFSpace', 'SFS [A: (2,3)]'), ('SFSpace', 'SFS [A: (3,5)]')])\"]]"
   ]
  },
  {
   "cell_type": "code",
   "execution_count": 19,
   "id": "93b1ab18",
   "metadata": {},
   "outputs": [],
   "source": [
    "def compare_Turaev_Viro(M,N,degree=11):\n",
    "    '''Takes two snappy triangulations, transforms them to regina and checks if their \n",
    "    Turaev--Viro invariants are the same.'''\n",
    "    F1=M.filled_triangulation()\n",
    "    F2=N.filled_triangulation()\n",
    "    T1=to_regina(F1)\n",
    "    T2=to_regina(F2)\n",
    "    for d in range(3,degree):\n",
    "        if T1.turaevViro(d,True)!=T2.turaevViro(d,True):\n",
    "            return False\n",
    "        if T1.turaevViro(d,False)!=T2.turaevViro(d,False):\n",
    "            return False\n",
    "    return True"
   ]
  },
  {
   "cell_type": "code",
   "execution_count": 20,
   "id": "987ed6b5",
   "metadata": {},
   "outputs": [
    {
     "name": "stdout",
     "output_type": "stream",
     "text": [
      "False\n",
      "Time taken: 8.404218304157258 minutes \n"
     ]
    }
   ],
   "source": [
    "start_time=time.time()\n",
    "\n",
    "M1=snappy.Manifold('o9_33067')\n",
    "M1.dehn_fill(M1.homological_longitude())\n",
    "M2=snappy.Manifold('o9_34323')\n",
    "M2.dehn_fill(M2.homological_longitude())\n",
    "print(compare_Turaev_Viro(M1,M2))\n",
    "\n",
    "print('Time taken: %s minutes ' % ((time.time() - start_time)/60)) "
   ]
  },
  {
   "cell_type": "markdown",
   "id": "bbe4fbbd",
   "metadata": {},
   "source": [
    "Thus we have classified all knots in our lists with the same non-hyperbolic 0-surgeries:"
   ]
  },
  {
   "cell_type": "code",
   "execution_count": 21,
   "id": "dc31246f",
   "metadata": {},
   "outputs": [],
   "source": [
    "census_knots_with_same_0_surgery=[\n",
    "[['o9_27542', \"JSJ([('SFSpace', 'M/n2 x~ S1'), ('hyperbolic', 'm015')])\"],\n",
    " ['o9_33568', \"JSJ([('SFSpace', 'M/n2 x~ S1'), ('hyperbolic', 'm015')])\"]],\n",
    "[['o9_31828', \"JSJ([('SFSpace', 'M/n2 x~ S1'), ('hyperbolic', 'm032')])\"],\n",
    " ['o9_37768', \"JSJ([('SFSpace', 'M/n2 x~ S1'), ('hyperbolic', 'm032')])\"]]]"
   ]
  },
  {
   "cell_type": "code",
   "execution_count": 22,
   "id": "aab37ad1",
   "metadata": {},
   "outputs": [],
   "source": [
    "low_crossing_and_census_knots_with_same_0_surgery=[\n",
    "[['o9_31828', \"JSJ([('SFSpace', 'M/n2 x~ S1'), ('hyperbolic', 'm032')])\"],\n",
    " ['K15n153789',\"JSJ[('SFSpace', 'SFS [D: (2,1) (2,-1)]'), ('hyperbolic', 'm032')]\"]],\n",
    "[['o9_37768', \"JSJ([('SFSpace', 'M/n2 x~ S1'), ('hyperbolic', 'm032')])\"],\n",
    " ['K15n153789',\"JSJ[('SFSpace', 'SFS [D: (2,1) (2,-1)]'), ('hyperbolic', 'm032')]\"]],\n",
    "[['o9_31828', \"JSJ([('SFSpace', 'M/n2 x~ S1'), ('hyperbolic', 'm032')])\"],\n",
    " ['K15n19499',   \"JSJ[('SFSpace', 'SFS [D: (2,1) (2,-1)]'), ('hyperbolic', 'm032')]\"]]]"
   ]
  },
  {
   "cell_type": "code",
   "execution_count": 23,
   "id": "2e903972",
   "metadata": {},
   "outputs": [],
   "source": [
    "low_crossing_knots_with_same_0_surgery=[\n",
    "[['K15n19499',\"JSJ[('SFSpace', 'SFS [D: (2,1) (2,-1)]'), ('hyperbolic', 'm032')]\"],\n",
    " ['K15n153789',\"JSJ[('SFSpace', 'SFS [D: (2,1) (2,-1)]'), ('hyperbolic', 'm032')]\"]]]"
   ]
  },
  {
   "cell_type": "code",
   "execution_count": null,
   "id": "49aedef0",
   "metadata": {},
   "outputs": [],
   "source": []
  }
 ],
 "metadata": {
  "kernelspec": {
   "display_name": "SageMath 9.5",
   "language": "sage",
   "name": "sagemath"
  },
  "language_info": {
   "codemirror_mode": {
    "name": "ipython",
    "version": 3
   },
   "file_extension": ".py",
   "mimetype": "text/x-python",
   "name": "python",
   "nbconvert_exporter": "python",
   "pygments_lexer": "ipython3",
   "version": "3.10.6"
  }
 },
 "nbformat": 4,
 "nbformat_minor": 5
}
