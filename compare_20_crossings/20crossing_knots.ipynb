{
 "cells": [
  {
   "cell_type": "markdown",
   "id": "c4a253c9",
   "metadata": {},
   "source": [
    "In this notebook, we check if a prime knots of 20 crossings has the same zero-surgery as T(5,2). For that we first load the list of 20 crossing knots that have the same Alexander polynomial as T(5,2). Then we check which of these have hyperbolic 0-surgeries. For the ones that are not hyperbolic we use regina to determine its type."
   ]
  },
  {
   "cell_type": "code",
   "execution_count": 1,
   "id": "005a8a32",
   "metadata": {},
   "outputs": [],
   "source": [
    "import snappy\n",
    "import regina\n",
    "import csv\n",
    "import time\n",
    "\n",
    "def all_positive(manifold):\n",
    "    '''\n",
    "    Checks if the solution type of a triangulation is positive.\n",
    "    '''\n",
    "    return manifold.solution_type() == 'all tetrahedra positively oriented'\n",
    "\n",
    "def find_positive_triangulations(manifold,number=1,tries=100):\n",
    "    '''\n",
    "    Searches for one triangulation with a positive solution type.\n",
    "    (Or if number is set to a different value also for different such triangulations.)\n",
    "    '''\n",
    "    M = manifold.copy()\n",
    "    pos_triangulations=[]\n",
    "    for i in range(tries):\n",
    "        if all_positive(M):\n",
    "            pos_triangulations.append(M)\n",
    "            if len(pos_triangulations)==number:\n",
    "                return pos_triangulations\n",
    "            break\n",
    "        M.randomize()\n",
    "    for d in M.dual_curves(max_segments=500):\n",
    "        X = M.drill(d)\n",
    "        X = X.filled_triangulation()\n",
    "        X.dehn_fill((1,0),-1)\n",
    "        for i in range(tries):\n",
    "            if all_positive(X):\n",
    "                pos_triangulations.append(X)\n",
    "                if len(pos_triangulations)==number:\n",
    "                    return pos_triangulations\n",
    "                break\n",
    "            X.randomize()\n",
    "\n",
    "    # In the closed case, here is another trick.\n",
    "    if all(not c for c in M.cusp_info('is_complete')):\n",
    "        for i in range(tries):\n",
    "            # Drills out a random edge\n",
    "            X = M.__class__(M.filled_triangulation())\n",
    "            if all_positive(X):\n",
    "                pos_triangulations.append(X)\n",
    "                if len(pos_triangulations)==number:\n",
    "                    return pos_triangulations\n",
    "            break\n",
    "            M.randomize()\n",
    "    return pos_triangulations\n",
    "\n",
    "def better_volume(M,index=100,try_hard=False):\n",
    "    '''Computes the verified volume. Returns 0 if SnapPy could not do it.'''\n",
    "    count=0\n",
    "    while count<index:\n",
    "        try:\n",
    "            return M.volume(verified=True)\n",
    "        except:\n",
    "            M.randomize()\n",
    "            count=count+1\n",
    "    if try_hard==True:\n",
    "        pos_triang=find_positive_triangulations(M,number=1,tries=index)\n",
    "        for X in pos_triang:\n",
    "            vol=better_volume(X,index)\n",
    "            if vol!=0:\n",
    "                return vol\n",
    "    return 0\n",
    "\n",
    "def change_notation(dt_code):\n",
    "    \"\"\"\n",
    "    Changes Dowker-Thistlewait notation from alphabetical to numerical\n",
    "    Input:\n",
    "        dt_code (string): alphabetical DT notation\n",
    "    Return:\n",
    "        (string): numerical DT notation\n",
    "    \"\"\"\n",
    "    alpha = \"abcdefghijklmnopqrstuvwxyz\"\n",
    "    Alpha = \"ABCDEFGHIJKLMNOPQRSTUVWXYZ\"\n",
    "    result = []\n",
    "    for letter in dt_code:\n",
    "        if letter in alpha:\n",
    "            result.append(2* (alpha.index(letter) + 1))\n",
    "        elif letter in Alpha:\n",
    "            result.append(-2 * (Alpha.index(letter) + 1))\n",
    "        else:\n",
    "            print(dt_code)\n",
    "    return \"DT: \" + str([tuple(result)])\n",
    "\n",
    "def fill_triangulation(M):\n",
    "    '''\n",
    "    Fills all cusps but one.\n",
    "    '''\n",
    "    if M.num_cusps()==1:\n",
    "        return M\n",
    "    M=M.filled_triangulation([0])\n",
    "    M=fill_triangulation(M)\n",
    "    return M"
   ]
  },
  {
   "cell_type": "code",
   "execution_count": 6,
   "id": "0df8ba1a",
   "metadata": {},
   "outputs": [],
   "source": [
    "possible_same_0_surgery=[] \n",
    "with open('nonalt_hyp_20_matches.csv', 'r') as file:\n",
    "            reader = csv.reader(file)\n",
    "            for row in reader:\n",
    "                possible_same_0_surgery.append(row[0])"
   ]
  },
  {
   "cell_type": "code",
   "execution_count": 7,
   "id": "f3275937",
   "metadata": {},
   "outputs": [
    {
     "data": {
      "text/plain": [
       "18883"
      ]
     },
     "execution_count": 7,
     "metadata": {},
     "output_type": "execute_result"
    }
   ],
   "source": [
    "len(possible_same_0_surgery)"
   ]
  },
  {
   "cell_type": "code",
   "execution_count": 20,
   "id": "81bad54e",
   "metadata": {},
   "outputs": [
    {
     "name": "stdout",
     "output_type": "stream",
     "text": [
      "Number of knots whose zero surgery appears to not be hyperbolic: 0\n",
      "Time taken: 0.28341284586323634 hours \n"
     ]
    }
   ],
   "source": [
    "start_time = time.time()\n",
    "maybe_not_hyperbolic=[]\n",
    "\n",
    "for DT in possible_same_0_surgery:\n",
    "        K=snappy.Link('DT: '+DT).exterior()\n",
    "        K.dehn_fill((0,1))\n",
    "        vol=better_volume(K)\n",
    "        if vol==0:\n",
    "            maybe_not_hyperbolic.append([knot,cros,DT])\n",
    "print('Number of knots whose zero surgery appears to not be hyperbolic:',len(maybe_not_hyperbolic))\n",
    "print('Time taken: %s hours ' % ((time.time() - start_time)/3600))"
   ]
  },
  {
   "cell_type": "code",
   "execution_count": 21,
   "id": "1cf15c59",
   "metadata": {},
   "outputs": [
    {
     "data": {
      "text/plain": [
       "23608"
      ]
     },
     "execution_count": 21,
     "metadata": {},
     "output_type": "execute_result"
    }
   ],
   "source": [
    "possible_same_0_surgery=[] \n",
    "with open('nonalt_hyp_20_matches_1.csv', 'r') as file:\n",
    "            reader = csv.reader(file)\n",
    "            for row in reader:\n",
    "                possible_same_0_surgery.append(row[0])\n",
    "                \n",
    "len(possible_same_0_surgery)"
   ]
  },
  {
   "cell_type": "code",
   "execution_count": 22,
   "id": "cc235741",
   "metadata": {},
   "outputs": [
    {
     "name": "stdout",
     "output_type": "stream",
     "text": [
      "Number of knots whose zero surgery appears to not be hyperbolic: 0\n",
      "Time taken: 0.35149660309155784 hours \n"
     ]
    }
   ],
   "source": [
    "start_time = time.time()\n",
    "\n",
    "for DT in possible_same_0_surgery:\n",
    "        K=snappy.Link('DT: '+DT).exterior()\n",
    "        K.dehn_fill((0,1))\n",
    "        vol=better_volume(K)\n",
    "        if vol==0:\n",
    "            maybe_not_hyperbolic.append([knot,cros,DT])\n",
    "print('Number of knots whose zero surgery appears to not be hyperbolic:',len(maybe_not_hyperbolic))\n",
    "print('Time taken: %s hours ' % ((time.time() - start_time)/3600))"
   ]
  },
  {
   "cell_type": "markdown",
   "id": "46c8f0fa",
   "metadata": {},
   "source": [
    "For the non-hyperbolic knot that have the same Alexander polynomial we use the number of subgroups of a fixed order as invariant."
   ]
  },
  {
   "cell_type": "code",
   "execution_count": 61,
   "id": "c2c11f66",
   "metadata": {},
   "outputs": [
    {
     "data": {
      "text/plain": [
       "['tatcEfkmIqrBaNToJdshgpL']"
      ]
     },
     "execution_count": 61,
     "metadata": {},
     "output_type": "execute_result"
    }
   ],
   "source": [
    "possible_same_0_surgery=[] \n",
    "with open('nonhyp_20_matches_1.csv', 'r') as file:\n",
    "            reader = csv.reader(file)\n",
    "            for row in reader:\n",
    "                possible_same_0_surgery.append(row[0])\n",
    "                \n",
    "possible_same_0_surgery"
   ]
  },
  {
   "cell_type": "code",
   "execution_count": 62,
   "id": "a6f17eaf",
   "metadata": {},
   "outputs": [],
   "source": [
    "K=snappy.Manifold('K5a2(0,1)')\n",
    "L=snappy.Link('DT: '+'tatcEfkmIqrBaNToJdshgpL').exterior()\n",
    "L.dehn_fill((0,1))"
   ]
  },
  {
   "cell_type": "code",
   "execution_count": 63,
   "id": "c24bc555",
   "metadata": {},
   "outputs": [],
   "source": [
    "def subgroups_of_order_n(M,n):\n",
    "    '''\n",
    "    Returns the number of subgroups of order n of the fundamental group of M.\n",
    "    Warning: Works only fast for small n.\n",
    "    '''\n",
    "    return len(snappy.Manifold(M).covers(n))\n",
    "\n",
    "def subgroups_up_to_order_k(M,k):\n",
    "    '''\n",
    "    Returns the vector containing the number of subgroups of order n of the fundamental group of M for n=2,...,k.\n",
    "    Warning: Works only fast for small k.\n",
    "    '''\n",
    "    vector=[]\n",
    "    for n in range(2,k+1):\n",
    "        vector.append(subgroups_of_order_n(M,n))\n",
    "    return vector"
   ]
  },
  {
   "cell_type": "code",
   "execution_count": 64,
   "id": "fe09fd19",
   "metadata": {},
   "outputs": [
    {
     "data": {
      "text/plain": [
       "[1, 1, 1, 3, 4, 2]"
      ]
     },
     "execution_count": 64,
     "metadata": {},
     "output_type": "execute_result"
    }
   ],
   "source": [
    "subgroups_up_to_order_k(K,7)"
   ]
  },
  {
   "cell_type": "code",
   "execution_count": 66,
   "id": "575e4a73",
   "metadata": {},
   "outputs": [
    {
     "data": {
      "text/plain": [
       "[1, 1, 1, 9, 16, 11]"
      ]
     },
     "execution_count": 66,
     "metadata": {},
     "output_type": "execute_result"
    }
   ],
   "source": [
    "subgroups_up_to_order_k(L,7)"
   ]
  },
  {
   "cell_type": "markdown",
   "id": "4fa5c2ec",
   "metadata": {},
   "source": [
    "This shows that the (5,2)-torus knots has no friend with at most 20 crossings."
   ]
  }
 ],
 "metadata": {
  "kernelspec": {
   "display_name": "SageMath 9.6",
   "language": "sage",
   "name": "sagemath-9.6"
  },
  "language_info": {
   "codemirror_mode": {
    "name": "ipython",
    "version": 3
   },
   "file_extension": ".py",
   "mimetype": "text/x-python",
   "name": "python",
   "nbconvert_exporter": "python",
   "pygments_lexer": "ipython3",
   "version": "3.10.3"
  }
 },
 "nbformat": 4,
 "nbformat_minor": 5
}
